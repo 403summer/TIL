{
 "cells": [
  {
   "cell_type": "code",
   "execution_count": 1,
   "id": "c786536a",
   "metadata": {},
   "outputs": [
    {
     "name": "stdout",
     "output_type": "stream",
     "text": [
      "[(0, 'apple'), (1, 'banana'), (2, 'grape')]\n"
     ]
    }
   ],
   "source": [
    "# 1 실행결과로 알맞은 것은?\n",
    "\n",
    "mylist = ['apple', 'banana', 'grape']\n",
    "result = list(enumerate(mylist))\n",
    "print(result)"
   ]
  },
  {
   "cell_type": "code",
   "execution_count": 2,
   "id": "8ddc0caa",
   "metadata": {},
   "outputs": [
    {
     "name": "stdout",
     "output_type": "stream",
     "text": [
      "{'my': 5, 'cat': 6, 'has': 2, 'blue': 3, 'eyes,': 4, 'is': 7, 'cute': 8}\n"
     ]
    }
   ],
   "source": [
    "# 2 실행결과로 알맞은 것은?\n",
    "\n",
    "cat_song = 'my cat has blue eyes, my cat is cute'\n",
    "print({i:j for j,i in enumerate(cat_song.split())})"
   ]
  },
  {
   "cell_type": "code",
   "execution_count": 4,
   "id": "1fe26e23",
   "metadata": {},
   "outputs": [
    {
     "name": "stdout",
     "output_type": "stream",
     "text": [
      "orange&pink&brown&black&white\n"
     ]
    }
   ],
   "source": [
    "# 3 실행결과를 쓰시오\n",
    "\n",
    "colors = ['orange', 'pink', 'brown', 'black', 'white']\n",
    "result = '&'.join(colors)\n",
    "print(result)"
   ]
  },
  {
   "cell_type": "code",
   "execution_count": 5,
   "id": "575b24c9",
   "metadata": {},
   "outputs": [
    {
     "name": "stdout",
     "output_type": "stream",
     "text": [
      "{'students': 0, 'superuser': 1, 'professor': 2, 'employee': 3}\n"
     ]
    }
   ],
   "source": [
    "# 4 실행결과를 쓰시오\n",
    "\n",
    "user_dict = {}\n",
    "user_list = ['students', 'superuser', 'professor', 'employee']\n",
    "for value_1, value_2 in enumerate(user_list):\n",
    "    user_dict[value_2] = value_1\n",
    "print(user_dict)    "
   ]
  },
  {
   "cell_type": "code",
   "execution_count": 9,
   "id": "bbe6d55c",
   "metadata": {},
   "outputs": [
    {
     "name": "stdout",
     "output_type": "stream",
     "text": [
      "[0, 2, 4, 6, 8]\n",
      "[0, 1, 2, 3, 4, 5, 6, 7, 8, 9]\n",
      "['zero', 'one', 'two', 'three']\n",
      "cs50\n"
     ]
    }
   ],
   "source": [
    "# 5 실행결과를 쓰시오\n",
    "\n",
    "result = [i for i in range(10) if i%2 == 0]\n",
    "print(result)\n",
    "\n",
    "items = 'zero one two three'.split('two')\n",
    "result = [i for i in range(10)]\n",
    "print(result)\n",
    "\n",
    "items = 'zero one two three'.split()\n",
    "print(items)\n",
    "\n",
    "example = 'cs50.gachon.edu'\n",
    "subdomain, domain,tld = example.split('.')\n",
    "print(subdomain)"
   ]
  },
  {
   "cell_type": "code",
   "execution_count": 10,
   "id": "8ead0089",
   "metadata": {},
   "outputs": [
    {
     "name": "stdout",
     "output_type": "stream",
     "text": [
      "['Cat', 'Panda', 'Owl']\n"
     ]
    }
   ],
   "source": [
    "# 6 실행결과를 쓰시오\n",
    "\n",
    "animal = ['Fox', 'Dog', 'Cat', 'Monday', 'Horse', 'Panda', 'Owl']\n",
    "print([ani for ani in animal if 'o' not in ani])"
   ]
  },
  {
   "cell_type": "code",
   "execution_count": 11,
   "id": "8f76ddc6",
   "metadata": {},
   "outputs": [
    {
     "name": "stdout",
     "output_type": "stream",
     "text": [
      "DongUniversity\n"
     ]
    }
   ],
   "source": [
    "# 7 실행결과를 쓰시오\n",
    "\n",
    "name = 'Hanbit University'\n",
    "student = ['Hong', 'Gil', 'Dong']\n",
    "split_name = name.split()\n",
    "join_student = ''.join(student)\n",
    "print(join_student[-4:] + split_name[1])"
   ]
  },
  {
   "cell_type": "code",
   "execution_count": 12,
   "id": "aa56eeaa",
   "metadata": {},
   "outputs": [
    {
     "name": "stdout",
     "output_type": "stream",
     "text": [
      "20\n"
     ]
    }
   ],
   "source": [
    "# 8 실행결과를 쓰시오\n",
    "\n",
    "kor_score = [49,79,20,100,80]\n",
    "math_score = [43,59,85,30,90]\n",
    "eng_score = [49,79,48,60,100]\n",
    "midterm_score = [kor_score, math_score, eng_score]\n",
    "print(midterm_score[0][2])"
   ]
  },
  {
   "cell_type": "code",
   "execution_count": 13,
   "id": "d3920021",
   "metadata": {},
   "outputs": [
    {
     "name": "stdout",
     "output_type": "stream",
     "text": [
      "[[12, 3], [15, 3]]\n"
     ]
    }
   ],
   "source": [
    "# 9 실행결과로 알맞은 것은?\n",
    "\n",
    "a = [1,2,3]\n",
    "b = [4,5, ]\n",
    "c = [7,8,9]\n",
    "print([[sum(k), len(k)] for k in zip(a,b,c)])"
   ]
  },
  {
   "cell_type": "code",
   "execution_count": 14,
   "id": "8658f15b",
   "metadata": {},
   "outputs": [
    {
     "name": "stdout",
     "output_type": "stream",
     "text": [
      "yellow\n"
     ]
    }
   ],
   "source": [
    "# 10 실행결과를 쓰시오\n",
    "\n",
    "week = ['mon','tue','wed','thu','fri','sat','sun']\n",
    "rainbow = ['red','orange','yellow','green','blue','navy','purple']\n",
    "list_data = [week, rainbow]\n",
    "\n",
    "print(list_data[1][2])"
   ]
  },
  {
   "cell_type": "code",
   "execution_count": 15,
   "id": "8ba5da13",
   "metadata": {},
   "outputs": [
    {
     "name": "stdout",
     "output_type": "stream",
     "text": [
      "score: 72\n"
     ]
    }
   ],
   "source": [
    "# 11 실행결과를 쓰시오\n",
    "\n",
    "kor_score = [30,79,20,100,80]\n",
    "math_score = [43,59,0,30,90]\n",
    "eng_score = [49,72,48,67,15]\n",
    "midterm_score = [kor_score, math_score, eng_score]\n",
    "print('score:',midterm_score[2][1])"
   ]
  },
  {
   "cell_type": "code",
   "execution_count": 16,
   "id": "aed14a67",
   "metadata": {},
   "outputs": [
    {
     "name": "stdout",
     "output_type": "stream",
     "text": [
      "['a', '2', 'error']\n"
     ]
    }
   ],
   "source": [
    "# 12 실행결과를 쓰시오\n",
    "\n",
    "alist = ['a','b','c']\n",
    "blist = ['1','2','3']\n",
    "abcd = []\n",
    "\n",
    "for a, b in enumerate(zip(alist,blist)):\n",
    "    try:\n",
    "        abcd.append(b[a])    \n",
    "    except IndexError:\n",
    "        abcd.append('error')\n",
    "        \n",
    "print(abcd)        "
   ]
  },
  {
   "cell_type": "code",
   "execution_count": 17,
   "id": "c170ae11",
   "metadata": {},
   "outputs": [
    {
     "name": "stdout",
     "output_type": "stream",
     "text": [
      "a1 b1\n",
      "a2 b2\n",
      "a3 b3\n"
     ]
    }
   ],
   "source": [
    "# 13 빈칸을 채우시오\n",
    "\n",
    "alist = ['a1', 'a2', 'a3']\n",
    "blist = ['b1', 'b2', 'b3']\n",
    "for a,b in zip(alist,blist):\n",
    "    print(a,b)"
   ]
  },
  {
   "cell_type": "code",
   "execution_count": 19,
   "id": "1db7ac70",
   "metadata": {},
   "outputs": [
    {
     "name": "stdout",
     "output_type": "stream",
     "text": [
      "80\n"
     ]
    }
   ],
   "source": [
    "# 14 실행결과를 쓰시오\n",
    "\n",
    "alphabet = ['a','b','c','d','e','f','g','h']\n",
    "nums = [i for i in range(20)]\n",
    "answer = [alpha + str(num) for alpha in alphabet for num in nums if num%2==0]\n",
    "print(len(answer))"
   ]
  },
  {
   "cell_type": "code",
   "execution_count": 21,
   "id": "66796d68",
   "metadata": {},
   "outputs": [
    {
     "name": "stdout",
     "output_type": "stream",
     "text": [
      "Gachon cs50\n"
     ]
    }
   ],
   "source": [
    "# 15 빈칸 채우기\n",
    "\n",
    "url = 'cs50.gachon.ac.kr'\n",
    "university_name = 'Gachon University'\n",
    "gachon_info = [(i + ' ' + j) for i,j in zip(university_name.split(' '), url.split('.'))]\n",
    "blank = 0\n",
    "print(gachon_info[blank])"
   ]
  },
  {
   "cell_type": "code",
   "execution_count": null,
   "id": "e53ae3cd",
   "metadata": {},
   "outputs": [],
   "source": []
  }
 ],
 "metadata": {
  "kernelspec": {
   "display_name": "Python 3 (ipykernel)",
   "language": "python",
   "name": "python3"
  },
  "language_info": {
   "codemirror_mode": {
    "name": "ipython",
    "version": 3
   },
   "file_extension": ".py",
   "mimetype": "text/x-python",
   "name": "python",
   "nbconvert_exporter": "python",
   "pygments_lexer": "ipython3",
   "version": "3.9.7"
  }
 },
 "nbformat": 4,
 "nbformat_minor": 5
}
