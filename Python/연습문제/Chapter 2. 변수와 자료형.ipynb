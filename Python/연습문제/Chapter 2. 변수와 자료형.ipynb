{
 "cells": [
  {
   "cell_type": "code",
   "execution_count": 1,
   "id": "6d19e0cc",
   "metadata": {},
   "outputs": [
    {
     "name": "stdout",
     "output_type": "stream",
     "text": [
      "True False\n"
     ]
    }
   ],
   "source": [
    "# 1. 다음 코드의 실행 결과를 쓰시오\n",
    "\n",
    "a = 777\n",
    "b = 777\n",
    "print(a == b, a is b)"
   ]
  },
  {
   "cell_type": "code",
   "execution_count": 3,
   "id": "2a5dfc4e",
   "metadata": {},
   "outputs": [],
   "source": [
    "# 2. 다음 중 변수를 메모리에서 삭제하기 위해 사용하는 명령어는?\n",
    "\n",
    "# 1. del (O)\n",
    "# 2. delete\n",
    "# 3. removw\n",
    "# 4. pop\n",
    "# 5. clear"
   ]
  },
  {
   "cell_type": "code",
   "execution_count": 5,
   "id": "78c6b46e",
   "metadata": {},
   "outputs": [
    {
     "name": "stdout",
     "output_type": "stream",
     "text": [
      "12.25\n",
      "1.75\n",
      "1.75\n",
      "0.0\n"
     ]
    }
   ],
   "source": [
    "# 3. 빈칸에 들어갈 각각의 코드 실행 결과를 쓰시오.\n",
    "\n",
    "a = 3.5\n",
    "b = int(3.5)\n",
    "print( a ** ((a//b)*2))\n",
    "\n",
    "print(((a-b)*a)%b)\n",
    "\n",
    "b = (((a-b)*a)%b)\n",
    "print(b)\n",
    "\n",
    "print((a*4)%(b*4))"
   ]
  },
  {
   "cell_type": "code",
   "execution_count": 6,
   "id": "085e5652",
   "metadata": {},
   "outputs": [
    {
     "name": "stdout",
     "output_type": "stream",
     "text": [
      "섭씨온도를 입력하세요32\n",
      "섭씨온도: 32.0 화씨온도: 89.6\n"
     ]
    }
   ],
   "source": [
    "# 4. 입력받은 섭씨온도를 화씨온도로 변환하는 프로그램을 코딩하려고 한다. 코드 순서를 바르게 나열한 것은?\n",
    "\n",
    "celsius = float(input('섭씨온도를 입력하세요'))\n",
    "fahrenheit = ((9/5) * celsius ) + 32\n",
    "print('섭씨온도:', celsius, '화씨온도:', fahrenheit)"
   ]
  },
  {
   "cell_type": "code",
   "execution_count": 7,
   "id": "9fc8f5ed",
   "metadata": {},
   "outputs": [
    {
     "data": {
      "text/plain": [
       "str"
      ]
     },
     "execution_count": 7,
     "metadata": {},
     "output_type": "execute_result"
    }
   ],
   "source": [
    "# 5. 다음 변수 a의 자료형은?\n",
    "\n",
    "a = 'True'\n",
    "type(a)"
   ]
  },
  {
   "cell_type": "code",
   "execution_count": 8,
   "id": "5c6b43dc",
   "metadata": {},
   "outputs": [
    {
     "name": "stdout",
     "output_type": "stream",
     "text": [
      "111.3\n"
     ]
    },
    {
     "data": {
      "text/plain": [
       "float"
      ]
     },
     "execution_count": 8,
     "metadata": {},
     "output_type": "execute_result"
    }
   ],
   "source": [
    "# 6. 다음과 같은 코드 작성 시, 실행 결과로 알맞게 짝지어진 것은?\n",
    "\n",
    "a = 10.6\n",
    "b = 10.5\n",
    "print(a*b)\n",
    "type(a+b)"
   ]
  },
  {
   "cell_type": "code",
   "execution_count": 9,
   "id": "2156c020",
   "metadata": {},
   "outputs": [],
   "source": [
    "# 7. box = 'apple' 의 뜻은?\n",
    "\n",
    "# 1. box 변수의 이름은 apple이다.\n",
    "# 2. box 변수에 apple 값을 넣어라 (O)\n",
    "# 3. box 변수와 apple은 같다\n",
    "# 4. box 변수는 apple이다\n",
    "# 5. apple 변수는 box이다"
   ]
  },
  {
   "cell_type": "code",
   "execution_count": 10,
   "id": "85200097",
   "metadata": {},
   "outputs": [
    {
     "name": "stdout",
     "output_type": "stream",
     "text": [
      "3.53.53.53.5\n"
     ]
    }
   ],
   "source": [
    "# 8. 다음과 같이 코드를 작성했을 때, 실행 결과로 알맞은 것은?\n",
    "\n",
    "a = '3.5'\n",
    "b = 4\n",
    "print(a*b)"
   ]
  },
  {
   "cell_type": "code",
   "execution_count": 11,
   "id": "3e40630b",
   "metadata": {},
   "outputs": [
    {
     "name": "stdout",
     "output_type": "stream",
     "text": [
      "3.51.5\n"
     ]
    }
   ],
   "source": [
    "# 9. a = '3.5', b = '1.5' 일 때, print(a + b)의 실행 결과는?\n",
    "\n",
    "a = '3.5'\n",
    "b = '1.5'\n",
    "print(a+b)"
   ]
  },
  {
   "cell_type": "code",
   "execution_count": 12,
   "id": "9ed41b6f",
   "metadata": {},
   "outputs": [
    {
     "name": "stdout",
     "output_type": "stream",
     "text": [
      "27.0\n"
     ]
    }
   ],
   "source": [
    "# 10. 다음과 같이 코드를 작성했을 때, 실행 결과로 알맞은 것은?\n",
    "\n",
    "a = '3'\n",
    "b = float(a)\n",
    "print(b ** int(a))"
   ]
  },
  {
   "cell_type": "code",
   "execution_count": 13,
   "id": "de4246d1",
   "metadata": {},
   "outputs": [],
   "source": [
    "# 11. 변수에 대한 설명으로 틀린 것은?\n",
    "\n",
    "# 1. 프로그램에서 사용하기 위한 특정한 값을 저장하는 공간이다\n",
    "# 2. 선언되는 순간 메모리의 특정 영역에 공간이 할당된다.\n",
    "# 3. 변수에 할당된 값은 하드디스크에 저장된다 (X 메모리에 저장된다)\n",
    "# 4. A = 8은 'A는 8이다' 라는 뜻이 아니다.\n",
    "# 5. '2x + 7y'는 14라고 하면, 이 식에서 x와 y가 변수이다"
   ]
  },
  {
   "cell_type": "code",
   "execution_count": 14,
   "id": "f8abed0e",
   "metadata": {},
   "outputs": [
    {
     "ename": "TypeError",
     "evalue": "unsupported operand type(s) for /: 'str' and 'str'",
     "output_type": "error",
     "traceback": [
      "\u001b[1;31m---------------------------------------------------------------------------\u001b[0m",
      "\u001b[1;31mTypeError\u001b[0m                                 Traceback (most recent call last)",
      "\u001b[1;32m~\\AppData\\Local\\Temp/ipykernel_8960/1103126669.py\u001b[0m in \u001b[0;36m<module>\u001b[1;34m\u001b[0m\n\u001b[0;32m      3\u001b[0m \u001b[0ma\u001b[0m \u001b[1;33m=\u001b[0m \u001b[1;34m'20'\u001b[0m\u001b[1;33m\u001b[0m\u001b[1;33m\u001b[0m\u001b[0m\n\u001b[0;32m      4\u001b[0m \u001b[0mb\u001b[0m \u001b[1;33m=\u001b[0m \u001b[1;34m'4'\u001b[0m\u001b[1;33m\u001b[0m\u001b[1;33m\u001b[0m\u001b[0m\n\u001b[1;32m----> 5\u001b[1;33m \u001b[0mprint\u001b[0m\u001b[1;33m(\u001b[0m\u001b[0mtype\u001b[0m\u001b[1;33m(\u001b[0m\u001b[0mfloat\u001b[0m\u001b[1;33m(\u001b[0m\u001b[0ma\u001b[0m\u001b[1;33m/\u001b[0m\u001b[0mb\u001b[0m\u001b[1;33m)\u001b[0m\u001b[1;33m)\u001b[0m\u001b[1;33m)\u001b[0m\u001b[1;33m\u001b[0m\u001b[1;33m\u001b[0m\u001b[0m\n\u001b[0m",
      "\u001b[1;31mTypeError\u001b[0m: unsupported operand type(s) for /: 'str' and 'str'"
     ]
    }
   ],
   "source": [
    "# 12. 다음과 같이 코드를 작성했을 때, 실행 결과로 알맞은 것은?\n",
    "\n",
    "a = '20'\n",
    "b = '4'\n",
    "print(type(float(a/b)))"
   ]
  },
  {
   "cell_type": "code",
   "execution_count": 15,
   "id": "87c63b9f",
   "metadata": {},
   "outputs": [
    {
     "name": "stdout",
     "output_type": "stream",
     "text": [
      "busan CS 50\n"
     ]
    }
   ],
   "source": [
    "# 13. 다음 코드의 실행 결과가 나오도록 빈칸에 코드를 추가하시오 (단, 변수를 삭제하면 안됨)\n",
    "\n",
    "a = 'busan'\n",
    "b = 'CS'\n",
    "c = 200\n",
    "c = 50\n",
    "\n",
    "print(a, b, c)"
   ]
  },
  {
   "cell_type": "code",
   "execution_count": 16,
   "id": "24db9c27",
   "metadata": {},
   "outputs": [
    {
     "name": "stdout",
     "output_type": "stream",
     "text": [
      "<class 'int'>\n",
      "<class 'str'>\n"
     ]
    }
   ],
   "source": [
    "# 14. 동적 타이핑의 의미를 설명하고, 파이썬 코드로 예시를 제시하시오.\n",
    "\n",
    "# 선언형태를 보면 변수를 선언하는 동시에 파이썬의 인터프리너는 스스로 판단하여 변수의 자료형을 결정한다.\n",
    "# 따라서 변수의 메모리 확보가 다른 언어에 비해 유연하다.\n",
    "\n",
    "a = 50\n",
    "print(type(a))\n",
    "a = '50'\n",
    "print(type(a))"
   ]
  },
  {
   "cell_type": "code",
   "execution_count": 18,
   "id": "af61f0f6",
   "metadata": {},
   "outputs": [
    {
     "name": "stdout",
     "output_type": "stream",
     "text": [
      "1.01.01.01.01.0\n",
      "HanbitPython\n",
      "3.50.5\n"
     ]
    }
   ],
   "source": [
    "# 15. 다음 코드의 예상되는 실행 결과를 쓰시오\n",
    "\n",
    "print('1.0'*5)\n",
    "#print('1.0'+2)\n",
    "print('Hanbit' + 'Python')\n",
    "print('3.5' + '0.5')"
   ]
  },
  {
   "cell_type": "code",
   "execution_count": 19,
   "id": "715db10c",
   "metadata": {},
   "outputs": [],
   "source": [
    "# 16. 변수명을 지을 때 권장하는 규칙 중 틀린 것은?\n",
    "\n",
    "# 1. 변수명은 알파벳, 숫자, 밑줄(_) 등을 사용하여 표현할 수 있다.\n",
    "# 2. 변수명은 의미있는 단어로 쓰는 것을 권장하며, 한글도 사용할 수 있다.\n",
    "# 3. 변수명은 대소문자가 구분된다.\n",
    "# 4. 문법으로 사용되는 특별한 예약어는 변수명으로 쓰지 않는다.\n",
    "# 5. 변수명은 'a', 'b' 등으로 사용하는 것은 권장하지 않는다 (의미있는 변수명을 사용하기로 권장한다.)"
   ]
  },
  {
   "cell_type": "code",
   "execution_count": null,
   "id": "ee20a907",
   "metadata": {},
   "outputs": [],
   "source": [
    "# 17. 파이썬에서 반올림 오차가 나타나는 이유에 대해 설명하시오\n",
    "\n",
    "# 실수값에서 0.3333333333... 같은 소수는 컴퓨터가 저장할 때, 0.33333334와 같이 근삿값으로 저장하게 된다.\n",
    "# 메모리의 한계로 실수를 저장할때 이런 오차가 발생한다. 파이썬뿐만 아니라 모든 언어의 공통적인 문제이다."
   ]
  }
 ],
 "metadata": {
  "kernelspec": {
   "display_name": "Python 3 (ipykernel)",
   "language": "python",
   "name": "python3"
  },
  "language_info": {
   "codemirror_mode": {
    "name": "ipython",
    "version": 3
   },
   "file_extension": ".py",
   "mimetype": "text/x-python",
   "name": "python",
   "nbconvert_exporter": "python",
   "pygments_lexer": "ipython3",
   "version": "3.9.7"
  }
 },
 "nbformat": 4,
 "nbformat_minor": 5
}
