{
 "cells": [
  {
   "cell_type": "code",
   "execution_count": 12,
   "id": "5d57b718",
   "metadata": {},
   "outputs": [
    {
     "data": {
      "text/plain": [
       "dict"
      ]
     },
     "execution_count": 12,
     "metadata": {},
     "output_type": "execute_result"
    }
   ],
   "source": [
    "# 1. 빈칸 채우기\n",
    "\n",
    "3 ** 5\n",
    "\n",
    "15 % 4\n",
    "\n",
    "a = 4\n",
    "a -= 3\n",
    "a\n",
    "\n",
    "a = {'prof.choi' : 'The best'}\n",
    "type(a)"
   ]
  },
  {
   "cell_type": "code",
   "execution_count": 13,
   "id": "bd892a8e",
   "metadata": {},
   "outputs": [
    {
     "name": "stdout",
     "output_type": "stream",
     "text": [
      "[1, 3, 4, 5]\n"
     ]
    }
   ],
   "source": [
    "# 2. 실행결과로 알맞은 것은?\n",
    "\n",
    "list_1 = [0,3,1,7,5,0,5,8,0,4]\n",
    "def quiz_2(list_data):\n",
    "    a = set(list_data)\n",
    "    return (list(a)[1:5])\n",
    "print(quiz_2(list_1))"
   ]
  },
  {
   "cell_type": "code",
   "execution_count": 14,
   "id": "00c47422",
   "metadata": {},
   "outputs": [],
   "source": [
    "# 3. 자료구조에 대한 설명을 하시오\n",
    "\n",
    "# 스택 : 나중에 넣은 데이터를 먼저 반환하도록 설계된 메모리 구조\n",
    "# 큐 : 먼저 넣은 데이터를 먼저 반환하도록 설계된 메모리 구조\n",
    "# 튜플 : 값의 변경이 불가능하며, 리스트의 연산, 인덱싱, 슬라이싱 등을 동일하게 사용한다.\n",
    "# 세트 : 값을 순서 없이 저장하면서 중복을 불허한다."
   ]
  },
  {
   "cell_type": "code",
   "execution_count": 19,
   "id": "4ea7ba3b",
   "metadata": {},
   "outputs": [
    {
     "data": {
      "text/plain": [
       "True"
      ]
     },
     "execution_count": 19,
     "metadata": {},
     "output_type": "execute_result"
    }
   ],
   "source": [
    "# 4. 실행결과로 알맞은 것은?\n",
    "\n",
    "country_code = {'America':1, 'Korea':82, 'China':86, 'Japan':81}\n",
    "\n",
    "country_code.values()\n",
    "country_code\n",
    "country_code.keys()\n",
    "85 in country_code.values()\n",
    "'Korea' in country_code.keys()"
   ]
  },
  {
   "cell_type": "code",
   "execution_count": 23,
   "id": "b8203269",
   "metadata": {},
   "outputs": [
    {
     "ename": "TypeError",
     "evalue": "can only concatenate str (not \"int\") to str",
     "output_type": "error",
     "traceback": [
      "\u001b[1;31m---------------------------------------------------------------------------\u001b[0m",
      "\u001b[1;31mTypeError\u001b[0m                                 Traceback (most recent call last)",
      "\u001b[1;32m~\\AppData\\Local\\Temp/ipykernel_13492/1377464339.py\u001b[0m in \u001b[0;36m<module>\u001b[1;34m\u001b[0m\n\u001b[0;32m      4\u001b[0m \u001b[0mmidterm_set\u001b[0m \u001b[1;33m=\u001b[0m \u001b[0mset\u001b[0m\u001b[1;33m(\u001b[0m\u001b[1;33m[\u001b[0m\u001b[1;36m1\u001b[0m\u001b[1;33m,\u001b[0m\u001b[1;36m57\u001b[0m\u001b[1;33m,\u001b[0m\u001b[1;36m4\u001b[0m\u001b[1;33m,\u001b[0m\u001b[1;36m3\u001b[0m\u001b[1;33m,\u001b[0m\u001b[1;36m2\u001b[0m\u001b[1;33m,\u001b[0m\u001b[1;36m1\u001b[0m\u001b[1;33m,\u001b[0m\u001b[1;36m1\u001b[0m\u001b[1;33m,\u001b[0m\u001b[1;36m2\u001b[0m\u001b[1;33m,\u001b[0m\u001b[1;36m3\u001b[0m\u001b[1;33m]\u001b[0m\u001b[1;33m)\u001b[0m\u001b[1;33m\u001b[0m\u001b[1;33m\u001b[0m\u001b[0m\n\u001b[0;32m      5\u001b[0m \u001b[1;32mfor\u001b[0m \u001b[0mi\u001b[0m \u001b[1;32min\u001b[0m \u001b[0mmidterm_set\u001b[0m\u001b[1;33m:\u001b[0m\u001b[1;33m\u001b[0m\u001b[1;33m\u001b[0m\u001b[0m\n\u001b[1;32m----> 6\u001b[1;33m     \u001b[0ma\u001b[0m \u001b[1;33m=\u001b[0m \u001b[0ma\u001b[0m\u001b[1;33m+\u001b[0m\u001b[0mi\u001b[0m\u001b[1;33m\u001b[0m\u001b[1;33m\u001b[0m\u001b[0m\n\u001b[0m\u001b[0;32m      7\u001b[0m \u001b[1;33m\u001b[0m\u001b[0m\n\u001b[0;32m      8\u001b[0m \u001b[0mprint\u001b[0m\u001b[1;33m(\u001b[0m\u001b[0mi\u001b[0m\u001b[1;33m)\u001b[0m\u001b[1;33m\u001b[0m\u001b[1;33m\u001b[0m\u001b[0m\n",
      "\u001b[1;31mTypeError\u001b[0m: can only concatenate str (not \"int\") to str"
     ]
    }
   ],
   "source": [
    "# 5. 에러가 난 이유 해설하기\n",
    "\n",
    "a = ''\n",
    "midterm_set = set([1,57,4,3,2,1,1,2,3])\n",
    "for i in midterm_set:\n",
    "    a = a+i\n",
    "    \n",
    "print(i)    \n",
    "\n",
    "# 해설 : 에러가 발생하는 이우는 변수 a가 타입이 문자열이기 때문이다. 원하는 값이 나오기 위해서는 변수 a의 타입이 정수형으로 바뀌어야 한다.\n",
    "# (에러가 없다면 마지막으로 출력되는 값은 57 이다)"
   ]
  },
  {
   "cell_type": "code",
   "execution_count": 24,
   "id": "3f62d4b3",
   "metadata": {},
   "outputs": [
    {
     "name": "stdout",
     "output_type": "stream",
     "text": [
      "False\n"
     ]
    }
   ],
   "source": [
    "# 6. 실행결과로 알맞은 것은?\n",
    "\n",
    "def delete_a_list_element(list_data, element_value):\n",
    "    if element_value in list_data:\n",
    "        list_data.remove(element_value)\n",
    "        return list_data\n",
    "    else:\n",
    "        return 'False'\n",
    "    \n",
    "list_data = ['a', 1, 'gachon', '2016.0']\n",
    "element = float(2016)\n",
    "result  = delete_a_list_element(list_data, element)\n",
    "print(result)"
   ]
  },
  {
   "cell_type": "code",
   "execution_count": 25,
   "id": "d6ca9d19",
   "metadata": {},
   "outputs": [
    {
     "name": "stdout",
     "output_type": "stream",
     "text": [
      "{1, 2, 3, 4}\n"
     ]
    }
   ],
   "source": [
    "# 7. 실행결과로 알맞은 것은?\n",
    "\n",
    "def add_number(original_list):\n",
    "    original_list += [1]\n",
    "    \n",
    "mylist = [1,2,3,4]\n",
    "add_number(mylist)\n",
    "print(set(mylist))"
   ]
  },
  {
   "cell_type": "code",
   "execution_count": 27,
   "id": "654c7a4b",
   "metadata": {},
   "outputs": [
    {
     "name": "stdout",
     "output_type": "stream",
     "text": [
      "2019\n"
     ]
    }
   ],
   "source": [
    "# 8. 실행결과로 알맞은 것은?\n",
    "\n",
    "a = [3, 'apple', 2016, 4]\n",
    "b = a.pop(0)\n",
    "c = a.pop(1)\n",
    "print(b+c)"
   ]
  },
  {
   "cell_type": "code",
   "execution_count": 29,
   "id": "0ce6d9a8",
   "metadata": {},
   "outputs": [
    {
     "name": "stdout",
     "output_type": "stream",
     "text": [
      "19\n"
     ]
    }
   ],
   "source": [
    "# 9. 실행결과로 알맞은 것은?\n",
    "\n",
    "def week_seven(sentence1):\n",
    "    cells = set(sentence1.replace(' ','').lower())\n",
    "    return cells\n",
    "\n",
    "sentence_a = 'The quick brown fox jumps over the lazy dog'\n",
    "sentence_b = 'I love you'\n",
    "print(len(week_seven(sentence_a) - week_seven(sentence_b)))"
   ]
  },
  {
   "cell_type": "code",
   "execution_count": 30,
   "id": "9508b6ef",
   "metadata": {},
   "outputs": [
    {
     "name": "stdout",
     "output_type": "stream",
     "text": [
      "[1, 2, 3, 4, 5, 6]\n"
     ]
    }
   ],
   "source": [
    "# 10. 실행결과로 알맞은 것은?\n",
    "\n",
    "tuple_1 = (1,2,3)\n",
    "tuple_2 = (4,5,6)\n",
    "\n",
    "def quiz_1(data_1, data_2):\n",
    "    result = []\n",
    "    \n",
    "    for i in (tuple_1 + tuple_2):\n",
    "        result.append(i)\n",
    "    return (result)    \n",
    "    \n",
    "print(quiz_1(tuple_1, tuple_2))    "
   ]
  },
  {
   "cell_type": "code",
   "execution_count": 34,
   "id": "da6d9a12",
   "metadata": {},
   "outputs": [
    {
     "name": "stdout",
     "output_type": "stream",
     "text": [
      "4\n"
     ]
    }
   ],
   "source": [
    "# 11. 실행결과를 쓰시오.\n",
    "\n",
    "dict_1 = {2:1, 4:2, 6:3, 8:4, 10:6}\n",
    "\n",
    "dict_keys = list(dict_1.keys())\n",
    "dict_values = list(dict_1.values())\n",
    "\n",
    "dict_2 = dict()\n",
    "\n",
    "for i in range(len(dict_keys)):\n",
    "    dict_2[dict_values[i]] =dict_keys[i]\n",
    "    \n",
    "print(dict_2[2])    "
   ]
  },
  {
   "cell_type": "code",
   "execution_count": 37,
   "id": "377ffd8a",
   "metadata": {},
   "outputs": [
    {
     "name": "stdout",
     "output_type": "stream",
     "text": [
      "{4: 'ant', 0: 'snake', 2: 'monkey', 8: 'spider', 'ant': 6}\n"
     ]
    }
   ],
   "source": [
    "# 12. 실행결과로 알맞은 것은?\n",
    "\n",
    "animal = ['cat', 'snake', 'monkey', 'ant', 'spider']\n",
    "legs = [4,0,2,4,8]\n",
    "animal_legs_dict = {}\n",
    "for i in range(len(animal)):\n",
    "    animal_legs_dict[legs[i]] = animal[i]\n",
    "    \n",
    "animal_legs_dict['ant'] = 6 \n",
    "print(animal_legs_dict)"
   ]
  },
  {
   "cell_type": "code",
   "execution_count": 40,
   "id": "ed785e7c",
   "metadata": {},
   "outputs": [
    {
     "name": "stdout",
     "output_type": "stream",
     "text": [
      "(1, 2, 3, 1, 2, 3)\n",
      "(1, 2, 3, 1, 2, 3)\n",
      "(1, 2, 3) (1, 2, 3)\n"
     ]
    }
   ],
   "source": [
    "# 13. 실행결과를 쓰시오.\n",
    "\n",
    "t = (1,2,3)\n",
    "print(t + t)\n",
    "print(t * 2)\n",
    "print(t, t)"
   ]
  },
  {
   "cell_type": "code",
   "execution_count": 41,
   "id": "dfee3bf4",
   "metadata": {},
   "outputs": [
    {
     "name": "stdout",
     "output_type": "stream",
     "text": [
      "10\n"
     ]
    }
   ],
   "source": [
    "# 14. 실행결과를 쓰시오.\n",
    "\n",
    "Mydict = {'1':1, '2':2}\n",
    "Copy = Mydict\n",
    "Mydict['1'] = 5\n",
    "result = Mydict['1'] + Copy['1']\n",
    "print(result)"
   ]
  },
  {
   "cell_type": "code",
   "execution_count": 42,
   "id": "32df05e1",
   "metadata": {},
   "outputs": [
    {
     "name": "stdout",
     "output_type": "stream",
     "text": [
      "?Yoeu MLo ve\n"
     ]
    }
   ],
   "source": [
    "# 15. 실행결과를 쓰시오.\n",
    "\n",
    "sentence = list('You Love Me?')\n",
    "result = ''\n",
    "for i in range(len(sentence)):\n",
    "    if i % 3 == 0:\n",
    "        result += sentence.pop()\n",
    "    else:\n",
    "        result += sentence.pop(0)\n",
    "        \n",
    "print(result)        "
   ]
  },
  {
   "cell_type": "code",
   "execution_count": 48,
   "id": "cf7ec4ee",
   "metadata": {},
   "outputs": [
    {
     "name": "stdout",
     "output_type": "stream",
     "text": [
      "14\n"
     ]
    },
    {
     "data": {
      "text/plain": [
       "8"
      ]
     },
     "execution_count": 48,
     "metadata": {},
     "output_type": "execute_result"
    }
   ],
   "source": [
    "# 16. 실행결과를 쓰시오.\n",
    "\n",
    "number = [5,6,7,8,9,1,2,3,4]\n",
    "result = []\n",
    "result.append(number.pop(0)) #5\n",
    "result.append(number.pop()) #4\n",
    "result.append(number.pop(1)) #7\n",
    "result.append(number.pop()) #3\n",
    "result.append(number.pop(0)) #6\n",
    "print(number[0] + result[-1])"
   ]
  },
  {
   "cell_type": "code",
   "execution_count": 49,
   "id": "9d4d66fd",
   "metadata": {},
   "outputs": [
    {
     "name": "stdout",
     "output_type": "stream",
     "text": [
      "[0, 1, 2, 3, 4, 5, 6, 7, 8, 9]\n"
     ]
    }
   ],
   "source": [
    "# 17. 실행결과를 쓰시오.\n",
    "\n",
    "a = list(range(10))\n",
    "a.append(a[3])\n",
    "a.pop(a[3])\n",
    "a.insert(3,a[-1])\n",
    "a.pop()\n",
    "print(a)"
   ]
  },
  {
   "cell_type": "code",
   "execution_count": 50,
   "id": "73fcf86d",
   "metadata": {},
   "outputs": [
    {
     "name": "stdout",
     "output_type": "stream",
     "text": [
      "6\n"
     ]
    }
   ],
   "source": [
    "# 18. 실행결과를 쓰시오.\n",
    "\n",
    "box = [1, 'red', 3, (), [], None]\n",
    "print(len(box))"
   ]
  },
  {
   "cell_type": "code",
   "execution_count": 51,
   "id": "4e4f15ae",
   "metadata": {},
   "outputs": [
    {
     "name": "stdout",
     "output_type": "stream",
     "text": [
      "(1, 2, 3, 4, 5)\n",
      "[1, 2, 3, 4, 5]\n",
      "error\n",
      "error\n",
      "[1, 2, 3, 4, 5]\n",
      "error\n"
     ]
    }
   ],
   "source": [
    "# 19. 실행결과를 쓰시오.\n",
    "\n",
    "data_1 = {'one':(1,2,3,4,5,6), 'two':[1,2,3,4,5,6], 'three':{'four':4,'five':5}}\n",
    "\n",
    "for k in ['one','two','three']:\n",
    "    try:\n",
    "        print(data_1[k][:-1])\n",
    "    except TypeError:\n",
    "        print('error')\n",
    "        \n",
    "for k in ['one','two','three']:\n",
    "    try:\n",
    "        data_1[k][-1]='a'\n",
    "        print(data_1[k][:-1])\n",
    "    except TypeError:\n",
    "        print('error')\n",
    "         "
   ]
  },
  {
   "cell_type": "code",
   "execution_count": 52,
   "id": "5bf5c213",
   "metadata": {},
   "outputs": [
    {
     "name": "stdout",
     "output_type": "stream",
     "text": [
      "{'A': 'Sam', 'B': 'Sarah', 'C': 'Jane', 'D': 'John'}\n"
     ]
    }
   ],
   "source": [
    "# 20. 실행결과를 쓰시오.\n",
    "\n",
    "class_category = ['A', 'B', 'C', 'D']\n",
    "student_category = ['Sam', 'Sarah', 'Jane', 'John']\n",
    "\n",
    "class_student_cate = {}\n",
    "for i in range(len(class_category)):\n",
    "    class_student_cate[class_category[i]] = student_category[i]\n",
    "print(class_student_cate)    "
   ]
  },
  {
   "cell_type": "code",
   "execution_count": null,
   "id": "d4c0260f",
   "metadata": {},
   "outputs": [],
   "source": []
  }
 ],
 "metadata": {
  "kernelspec": {
   "display_name": "Python 3 (ipykernel)",
   "language": "python",
   "name": "python3"
  },
  "language_info": {
   "codemirror_mode": {
    "name": "ipython",
    "version": 3
   },
   "file_extension": ".py",
   "mimetype": "text/x-python",
   "name": "python",
   "nbconvert_exporter": "python",
   "pygments_lexer": "ipython3",
   "version": "3.9.7"
  }
 },
 "nbformat": 4,
 "nbformat_minor": 5
}
