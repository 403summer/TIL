{
 "cells": [
  {
   "cell_type": "code",
   "execution_count": 1,
   "id": "2e576a78",
   "metadata": {},
   "outputs": [],
   "source": [
    "# 1. 파이썬 인터프리터 언어는 어떤 OS에서든 작동 가능하다.\n",
    "\n",
    "# O 파이썬은 플랫폼 독립적인 언어이다."
   ]
  },
  {
   "cell_type": "code",
   "execution_count": 2,
   "id": "29508fba",
   "metadata": {},
   "outputs": [],
   "source": [
    "# 2. 파이썬은 C나 자바에 비해 속도가 느리다.\n",
    "\n",
    "# O C나 자바는 컴파일러 언어라서 인터프리터 언어인 파이썬보다 빠르다"
   ]
  },
  {
   "cell_type": "code",
   "execution_count": null,
   "id": "d692e790",
   "metadata": {},
   "outputs": [],
   "source": [
    "# 3. 파이썬 언어의 가장 큰 장점은 기계어를 직접 다룰 수 있다는 점이다.\n",
    "\n",
    "# 파이썬은 기계어를 직접 다루는 언어는 아니다. "
   ]
  },
  {
   "cell_type": "code",
   "execution_count": 3,
   "id": "df80e3ac",
   "metadata": {},
   "outputs": [],
   "source": [
    "# 4. 파이썬은 어셈블러와 같은 기계어 변환 과정이 필요없다.\n",
    "\n",
    "# X 프로그래머가 작성한 프로그래밍 언어의 텍스트 파일을 소스코드라고 하는데, 이 소스코드는 컴퓨터에서 실행되기 위해\n",
    "# 소스코드를 실행시키는 프로그램(인터피르터 또는 컴파일러)에 의해 해석되고, 이 해석된 결과가 운영체제에 맞춰 기계어로 변환되어\n",
    "# 컴퓨터의 하드웨어인 메모리와 CPU에 들어가 실행된다."
   ]
  },
  {
   "cell_type": "code",
   "execution_count": 4,
   "id": "9c85d938",
   "metadata": {},
   "outputs": [],
   "source": [
    "# 6. 파이썬의 특징으로 틀린 것은?\n",
    "\n",
    "# 1. 플랫폼에 독립적인 언어이다.\n",
    "# 2. 해당 프로그램이 해결해야할 문제의 구성요소를 요소별로 정의하고, 각 요소의 기능과 정보를 정의하여 요소들을 결합한 후, 프로그램을 작성하는 방식이다.\n",
    "# 3. 코드 작성 시 실행 순서를 중심으로 순차적으로 작성한다. (X 절차적 프로그래밍 언어에 대한 설명이다.)\n",
    "# 4. 실행 시점에서 각 프로그램 변수의 타입을 결정하는 언어이다.\n",
    "# 5. 소스코드 자체가 바로 실행되는 특징이 있는 언어이다."
   ]
  },
  {
   "cell_type": "code",
   "execution_count": null,
   "id": "32da1cb6",
   "metadata": {},
   "outputs": [],
   "source": [
    "# 7. 파이썬 개발 환경을 결정하는 요인이 아닌 것은 모두 고르면?\n",
    "\n",
    "# 1. 운영체제\n",
    "# 2. 웹 브라우저 (X)\n",
    "# 3. 파이썬 인터프리터\n",
    "# 4. 코드편집기\n",
    "# 5. 메모장 (X)"
   ]
  }
 ],
 "metadata": {
  "kernelspec": {
   "display_name": "Python 3 (ipykernel)",
   "language": "python",
   "name": "python3"
  },
  "language_info": {
   "codemirror_mode": {
    "name": "ipython",
    "version": 3
   },
   "file_extension": ".py",
   "mimetype": "text/x-python",
   "name": "python",
   "nbconvert_exporter": "python",
   "pygments_lexer": "ipython3",
   "version": "3.9.7"
  }
 },
 "nbformat": 4,
 "nbformat_minor": 5
}
