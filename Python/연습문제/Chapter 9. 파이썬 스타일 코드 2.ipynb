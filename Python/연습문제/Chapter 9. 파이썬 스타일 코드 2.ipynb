{
 "cells": [
  {
   "cell_type": "code",
   "execution_count": 1,
   "id": "da88df4c",
   "metadata": {},
   "outputs": [],
   "source": [
    "# 1 다음 코드를 람다 함수 형태로 수정하시오\n",
    "\n",
    "def f(x,y):\n",
    "    return x**y\n",
    "\n",
    "f = lambda x,y: x**y"
   ]
  },
  {
   "cell_type": "code",
   "execution_count": 3,
   "id": "11360e55",
   "metadata": {},
   "outputs": [
    {
     "name": "stdout",
     "output_type": "stream",
     "text": [
      "[1, 4, 9, 16, 25]\n"
     ]
    }
   ],
   "source": [
    "# 2 리스트 컴프리헨션으로 작성된 코드를 람다함수와 map() 함수를 사용하여 표현하시오\n",
    "\n",
    "ex = [1,2,3,4,5]\n",
    "[value ** 2 for value in ex]\n",
    "\n",
    "f = lambda value:value**2\n",
    "print(list(map(f,ex)))"
   ]
  },
  {
   "cell_type": "code",
   "execution_count": 11,
   "id": "1b8feaca",
   "metadata": {},
   "outputs": [
    {
     "name": "stdout",
     "output_type": "stream",
     "text": [
      "120\n"
     ]
    }
   ],
   "source": [
    "# 3 팩토리얼을 계산하는 코드를 람다 함수와 reduce() 함수를 사용하여 표현하시오\n",
    "\n",
    "from functools import reduce\n",
    "f = lambda x,y:x*y\n",
    "print(reduce(f,[5,4,3,2,1]))"
   ]
  },
  {
   "cell_type": "code",
   "execution_count": 13,
   "id": "e853a97c",
   "metadata": {},
   "outputs": [
    {
     "name": "stdout",
     "output_type": "stream",
     "text": [
      "1 2 3\n",
      "[1, 2, 3]\n"
     ]
    }
   ],
   "source": [
    "# 4 다음 코드를 각각 실행하면 서로 다른 결과가 나온다. 이런 결과가 나오는 이유에 대해 서술하시오\n",
    "\n",
    "a = [1,2,3]\n",
    "print(*a)\n",
    "print(a)\n",
    "\n",
    "# 해설 : *a 는 리스트를 언패킹하라는 뜻이다."
   ]
  },
  {
   "cell_type": "code",
   "execution_count": 14,
   "id": "4f5618c4",
   "metadata": {},
   "outputs": [
    {
     "data": {
      "text/plain": [
       "[(1, 2, 3), (4, 5, 6), (7, 8, 9)]"
      ]
     },
     "execution_count": 14,
     "metadata": {},
     "output_type": "execute_result"
    }
   ],
   "source": [
    "# 5 실형결과를 쓰시오\n",
    "\n",
    "def transpose_list(two_dimensional_list):\n",
    "    return [row for row in zip(*two_dimensional_list)]\n",
    "\n",
    "transpose_list([[1,4,7],[2,5,8],[3,6,9]])"
   ]
  },
  {
   "cell_type": "code",
   "execution_count": 15,
   "id": "5b08317f",
   "metadata": {},
   "outputs": [
    {
     "data": {
      "text/plain": [
       "'2019-9-6'"
      ]
     },
     "execution_count": 15,
     "metadata": {},
     "output_type": "execute_result"
    }
   ],
   "source": [
    "# 6 실행결과를 쓰시오\n",
    "\n",
    "data_info = {'year':'2019', 'month':'9', 'day':'6'}\n",
    "result = '{year}-{month}-{day}'.format(**data_info)\n",
    "result"
   ]
  },
  {
   "cell_type": "code",
   "execution_count": 54,
   "id": "348f942f",
   "metadata": {},
   "outputs": [
    {
     "data": {
      "text/plain": [
       "False"
      ]
     },
     "execution_count": 54,
     "metadata": {},
     "output_type": "execute_result"
    }
   ],
   "source": [
    "# 7 벡터 n개의 크기가 동일한지 확인하는 함수를 한 줄의 코드로 작성하시오\n",
    "\n",
    "matrix = [[1,2,3],[4,5,6],[7,8,9,10]]\n",
    "(sum([len(t) for t in matrix])%len(matrix)) == 0"
   ]
  },
  {
   "cell_type": "code",
   "execution_count": 65,
   "id": "70e680ed",
   "metadata": {},
   "outputs": [
    {
     "data": {
      "text/plain": [
       "[5, 10, 15, 20]"
      ]
     },
     "execution_count": 65,
     "metadata": {},
     "output_type": "execute_result"
    }
   ],
   "source": [
    "# 8 다음과 같은 결과를 얻기 위해 하나의 스칼라값을 벡터에 곱하는 코드를 작성하시오(단, 입력되는 벡터의 크기는 일정하지 않음)\n",
    "\n",
    "def scalar_vector_product(a, b):\n",
    "    return [a * t for t in b]\n",
    "scalar_vector_product(5, [1,2,3,4])    "
   ]
  },
  {
   "cell_type": "code",
   "execution_count": 68,
   "id": "c9d9ac79",
   "metadata": {},
   "outputs": [
    {
     "data": {
      "text/plain": [
       "[[4, 9], [7, 4]]"
      ]
     },
     "execution_count": 68,
     "metadata": {},
     "output_type": "execute_result"
    }
   ],
   "source": [
    "# 9 다음과 같이 2개 이상의 행렬을 더하는 코드를 작성하시오\n",
    "\n",
    "def matrix_addition(x,y):\n",
    "    return [c+d for c,d in zip(a,b) for a,b in zip(x,y)]\n",
    "\n",
    "matrix_y = [[2,5],[2,1]]\n",
    "matrix_z = [[2,4],[5,3]]\n",
    "matrix_addition(matrix_y, matrix_z)"
   ]
  },
  {
   "cell_type": "code",
   "execution_count": 103,
   "id": "0454a8fc",
   "metadata": {},
   "outputs": [
    {
     "data": {
      "text/plain": [
       "[-13, -6]"
      ]
     },
     "execution_count": 103,
     "metadata": {},
     "output_type": "execute_result"
    }
   ],
   "source": [
    "# 10 다음과 같이 2개 이상의 벡터를 빼는 코드를 작성하시오\n",
    "\n",
    "def vector_sutraction(*args):\n",
    "    result = []\n",
    "    for i in zip(*args):\n",
    "        for j in range(len(i)):\n",
    "            if j == 0:\n",
    "                re = i[0]\n",
    "            else:\n",
    "                re -= i[j] \n",
    "        result.append(re)\n",
    "    return result        \n",
    "\n",
    "vector_sutraction([1,3],[2,4])\n",
    "vector_sutraction([1,5],[10,4],[4,7])"
   ]
  },
  {
   "cell_type": "code",
   "execution_count": null,
   "id": "bb6dbbb7",
   "metadata": {},
   "outputs": [],
   "source": []
  },
  {
   "cell_type": "code",
   "execution_count": null,
   "id": "ad6e521b",
   "metadata": {},
   "outputs": [],
   "source": []
  }
 ],
 "metadata": {
  "kernelspec": {
   "display_name": "Python 3 (ipykernel)",
   "language": "python",
   "name": "python3"
  },
  "language_info": {
   "codemirror_mode": {
    "name": "ipython",
    "version": 3
   },
   "file_extension": ".py",
   "mimetype": "text/x-python",
   "name": "python",
   "nbconvert_exporter": "python",
   "pygments_lexer": "ipython3",
   "version": "3.9.7"
  }
 },
 "nbformat": 4,
 "nbformat_minor": 5
}
