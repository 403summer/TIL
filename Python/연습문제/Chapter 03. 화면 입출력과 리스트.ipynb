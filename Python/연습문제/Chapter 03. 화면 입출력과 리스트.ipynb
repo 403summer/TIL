{
 "cells": [
  {
   "cell_type": "code",
   "execution_count": 1,
   "id": "3e97bad3",
   "metadata": {},
   "outputs": [
    {
     "name": "stdout",
     "output_type": "stream",
     "text": [
      "[0, 1, 2] [0, 1]\n"
     ]
    }
   ],
   "source": [
    "# 1. 다음 코드의 실행 결과를 쓰시오\n",
    "\n",
    "a = [0,1,2,3,4]\n",
    "print(a[:3], a[:-3])"
   ]
  },
  {
   "cell_type": "code",
   "execution_count": 2,
   "id": "8276bf2e",
   "metadata": {},
   "outputs": [
    {
     "name": "stdout",
     "output_type": "stream",
     "text": [
      "[4, 3, 2, 1, 0]\n"
     ]
    }
   ],
   "source": [
    "# 2. 다음 코드의 실행 결과를 쓰시오\n",
    "\n",
    "a = [0,1,2,3,4]\n",
    "print(a[::-1])"
   ]
  },
  {
   "cell_type": "code",
   "execution_count": 3,
   "id": "6b88d908",
   "metadata": {},
   "outputs": [
    {
     "name": "stdout",
     "output_type": "stream",
     "text": [
      "[['egg', 'salad', 'bread'], ['lamb', 'chicken'], ['apple']]\n"
     ]
    }
   ],
   "source": [
    "# 3. 다음 코드의 실행 결과를 쓰시오\n",
    "\n",
    "first = ['egg', 'salad', 'bread', 'soup', 'canafe']\n",
    "second = ['fish', 'lamb', 'pork', 'beef', 'chicken']\n",
    "third = ['apple', 'banana', 'orange', 'grape', 'mango']\n",
    "\n",
    "order = [first, second, third]\n",
    "john = [order[0][:-2], second[1::3], third[0]]\n",
    "del john[2]\n",
    "john.extend([order[2][0:1]])\n",
    "print(john)"
   ]
  },
  {
   "cell_type": "code",
   "execution_count": 4,
   "id": "b174b428",
   "metadata": {},
   "outputs": [
    {
     "name": "stdout",
     "output_type": "stream",
     "text": [
      "[1, 2, 3, 4] None\n"
     ]
    }
   ],
   "source": [
    "# 4. 다음 코드의 실행 결과를 쓰시오\n",
    "\n",
    "list_a = [3,2,1,4]\n",
    "list_b = list_a.sort()\n",
    "print(list_a, list_b)"
   ]
  },
  {
   "cell_type": "code",
   "execution_count": 5,
   "id": "825eb523",
   "metadata": {},
   "outputs": [
    {
     "name": "stdout",
     "output_type": "stream",
     "text": [
      "None\n"
     ]
    }
   ],
   "source": [
    "# 5. 다음 코드의 실행 결과를 쓰시오\n",
    "\n",
    "a = [5,7,3]\n",
    "b = [3,9,1]\n",
    "c = a + b\n",
    "c = c.sort()\n",
    "print(c)"
   ]
  },
  {
   "cell_type": "code",
   "execution_count": 6,
   "id": "520928d4",
   "metadata": {},
   "outputs": [],
   "source": [
    "# 6. GUI와 CLI의 설명으로 틀린 것은?\n",
    "\n",
    "# 1. GUI는 Graphical User Interface의 약자이다\n",
    "# 2. GUI는 마우스로 아이콘을 클릭하며 프로그램을 작동시키는 컴퓨팅 환경을 말한다.\n",
    "# 3. CLI는 Command Line Interface의 약자이다\n",
    "# 4. CLI는 텍스트를 사용하여 컴퓨터에 명령을 입력하는 인터페이스 체계를 말한다.\n",
    "# 5. CLI는 윈도에서는 불가능하고, 맥 또는 리눅스에서만 터미널로 작동한다. (X 윈도우에도 cmd 환경이 있다.)"
   ]
  },
  {
   "cell_type": "code",
   "execution_count": 8,
   "id": "967816ac",
   "metadata": {},
   "outputs": [
    {
     "name": "stdout",
     "output_type": "stream",
     "text": [
      "['orange', 'strawberry', 'melon'] ['banana', 'orange']\n"
     ]
    }
   ],
   "source": [
    "# 7. 다음 코드의 실행 결과를 쓰시오\n",
    "\n",
    "fruits = ['apple', 'banana', 'cherry', 'grape', 'orange', 'strawberry', 'melon']\n",
    "print(fruits[-3:], fruits[1::3])"
   ]
  },
  {
   "cell_type": "code",
   "execution_count": 10,
   "id": "44b249af",
   "metadata": {},
   "outputs": [
    {
     "name": "stdout",
     "output_type": "stream",
     "text": [
      "[1, 2, 3, 4, 1, 2, 3, 4]\n"
     ]
    }
   ],
   "source": [
    "# 8. 다음 코드의 실행 결과를 쓰시오\n",
    "\n",
    "num = [1,2,3,4]\n",
    "print(num * 2)"
   ]
  },
  {
   "cell_type": "code",
   "execution_count": 11,
   "id": "e382e99e",
   "metadata": {},
   "outputs": [
    {
     "name": "stdout",
     "output_type": "stream",
     "text": [
      "False 6\n"
     ]
    }
   ],
   "source": [
    "# 9. 다음 코드의 실행 결과를 쓰시오\n",
    "\n",
    "a = [1,2,3,5]\n",
    "b = ['a', 'b', 'c', 'd', 'e']\n",
    "\n",
    "a.append('g')\n",
    "b.append(6)\n",
    "print('g' in b, len(b))"
   ]
  },
  {
   "cell_type": "code",
   "execution_count": 12,
   "id": "c46774d6",
   "metadata": {},
   "outputs": [
    {
     "name": "stdout",
     "output_type": "stream",
     "text": [
      "['Hankook', 'is', 'academic', 'located', 'South Korea']\n"
     ]
    }
   ],
   "source": [
    "# 10. 다음과 같이 코드를 작성했을 때, 실행 결과로 알맞은 것은?\n",
    "\n",
    "list_a = ['Hankook', 'University', 'is', 'an', 'academic', 'institute', 'located', 'in', 'South Korea']\n",
    "list_b = []\n",
    "\n",
    "for i in range(len(list_a)):\n",
    "    if i % 2 !=1:\n",
    "        list_b.append(list_a[i])\n",
    "print(list_b)"
   ]
  },
  {
   "cell_type": "code",
   "execution_count": 14,
   "id": "9fa867f8",
   "metadata": {},
   "outputs": [
    {
     "name": "stdout",
     "output_type": "stream",
     "text": [
      "입학 연도를 입력하세요:'2018'\n",
      "<class 'str'>\n"
     ]
    }
   ],
   "source": [
    "# 11. 다음 코드를 실행한 후, 2018과 '2018'을 각각 입력했을 경우 알맞은 실행 결과끼리 묶인 것은?\n",
    "\n",
    "admission_year = input('입학 연도를 입력하세요:')\n",
    "print(type(admission_year))"
   ]
  },
  {
   "cell_type": "code",
   "execution_count": 15,
   "id": "a8dfb7fa",
   "metadata": {},
   "outputs": [
    {
     "name": "stdout",
     "output_type": "stream",
     "text": [
      "['Korea', 'Japan', 'China', ['Seoul', [2, 3], 'Beijing']]\n"
     ]
    }
   ],
   "source": [
    "# 12. 다음 코드의 실행 결과를 쓰시오\n",
    "\n",
    "country = ['Korea', 'Japan', 'China']\n",
    "capital = ['Seoul', 'Tokyo', 'Beijing']\n",
    "index = [1,2,3]\n",
    "country.append(capital)\n",
    "country[3][1] = index[1:]\n",
    "print(country)"
   ]
  },
  {
   "cell_type": "code",
   "execution_count": 17,
   "id": "fbb3eb0c",
   "metadata": {},
   "outputs": [
    {
     "name": "stdout",
     "output_type": "stream",
     "text": [
      "['Thu', 'Fri']\n"
     ]
    }
   ],
   "source": [
    "# 13. 다음 코드의 실행 결과가 나오도록 빈칸에 알맞은 코드를 쓰시오\n",
    "\n",
    "week1 = ['Mon', 'Tue', 'Wed']\n",
    "week2 = ['Thu', 'Fri', 'Sat', 'Sun']\n",
    "week3 = ['a']\n",
    "print(week2[:len(week3) + 1])"
   ]
  },
  {
   "cell_type": "code",
   "execution_count": 20,
   "id": "86486fb3",
   "metadata": {},
   "outputs": [
    {
     "name": "stdout",
     "output_type": "stream",
     "text": [
      "True\n",
      "False\n"
     ]
    }
   ],
   "source": [
    "# 14. 다음 코드를 실행하면 다음과 같은 결과가 나온다. 그 이유에 대해 서술하시오\n",
    "\n",
    "a = 1\n",
    "b = 1\n",
    "print(a is b)\n",
    "a = 300\n",
    "b = 300\n",
    "print(a is b)\n",
    "\n",
    "# 파이썬의 정수형 저장 방식의 특성은 -5 ~ 256까지의 정수는 특정 메모리 주소 값에 저장된다."
   ]
  },
  {
   "cell_type": "code",
   "execution_count": 22,
   "id": "67bbb444",
   "metadata": {},
   "outputs": [
    {
     "name": "stdout",
     "output_type": "stream",
     "text": [
      "True\n",
      "False\n"
     ]
    }
   ],
   "source": [
    "# 15. 다음과 같이 코드를 작성했을 때 예측되는 실행 결과를 쓰고, 이러한 결과가 나오는 이유에 대해 서술하시오\n",
    "\n",
    "a = [5,4,3,2,1]\n",
    "b = a\n",
    "c = [5,4,3,2,1]\n",
    "print(a is b)\n",
    "print(a is c)\n",
    "\n",
    "# a, b 는 같은 주소를 공유한다. c 는 새로운 리스트를 생성한다."
   ]
  },
  {
   "cell_type": "code",
   "execution_count": null,
   "id": "7a3fd800",
   "metadata": {},
   "outputs": [],
   "source": []
  }
 ],
 "metadata": {
  "kernelspec": {
   "display_name": "Python 3 (ipykernel)",
   "language": "python",
   "name": "python3"
  },
  "language_info": {
   "codemirror_mode": {
    "name": "ipython",
    "version": 3
   },
   "file_extension": ".py",
   "mimetype": "text/x-python",
   "name": "python",
   "nbconvert_exporter": "python",
   "pygments_lexer": "ipython3",
   "version": "3.9.7"
  }
 },
 "nbformat": 4,
 "nbformat_minor": 5
}
