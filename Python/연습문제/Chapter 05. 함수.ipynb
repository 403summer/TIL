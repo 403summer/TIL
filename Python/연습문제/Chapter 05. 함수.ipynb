{
 "cells": [
  {
   "cell_type": "code",
   "execution_count": 21,
   "id": "5c2052e0",
   "metadata": {},
   "outputs": [
    {
     "name": "stdout",
     "output_type": "stream",
     "text": [
      "Before: 10\n",
      "In function: 20\n",
      "After: 10\n"
     ]
    }
   ],
   "source": [
    "# 1 실행결과를 쓰시오\n",
    "\n",
    "def test(t):\n",
    "    t = 20\n",
    "    print('In function:',t)\n",
    "    \n",
    "x = 10\n",
    "print('Before:', x)\n",
    "test(x)\n",
    "print('After:',x)\n",
    "\n",
    "# 해설: 전역변수, 지역변수 참고"
   ]
  },
  {
   "cell_type": "code",
   "execution_count": 23,
   "id": "58a5f14f",
   "metadata": {},
   "outputs": [
    {
     "name": "stdout",
     "output_type": "stream",
     "text": [
      "None\n"
     ]
    }
   ],
   "source": [
    "# 2 실행결과를 쓰시오\n",
    "\n",
    "def sotring_function(list_value):\n",
    "    return list_value.sort()\n",
    "\n",
    "print(sotring_function([5,4,3,2,1]))\n",
    "\n",
    "# 해설: return list_value.sort() 단순히 정렬하라는 뜻. 반환값이 없음"
   ]
  },
  {
   "cell_type": "code",
   "execution_count": 31,
   "id": "9896dd6c",
   "metadata": {},
   "outputs": [
    {
     "name": "stderr",
     "output_type": "stream",
     "text": [
      "<>:6: SyntaxWarning: \"is\" with a literal. Did you mean \"==\"?\n",
      "<>:6: SyntaxWarning: \"is\" with a literal. Did you mean \"==\"?\n",
      "C:\\Users\\여름\\AppData\\Local\\Temp/ipykernel_13108/2744077608.py:6: SyntaxWarning: \"is\" with a literal. Did you mean \"==\"?\n",
      "  if number is 100:\n"
     ]
    },
    {
     "data": {
      "text/plain": [
       "''"
      ]
     },
     "execution_count": 31,
     "metadata": {},
     "output_type": "execute_result"
    }
   ],
   "source": [
    "# 3 실행결과를 쓰시오\n",
    "\n",
    "number = '100'\n",
    "def midterm(number):\n",
    "    result = ''\n",
    "    if number.isdigit() is True:\n",
    "        if number is 100:\n",
    "            if number/10 == 1:\n",
    "                result = True\n",
    "    else:\n",
    "        result = False\n",
    "        \n",
    "    return result\n",
    "\n",
    "midterm(number)\n",
    "\n",
    "# 해설: 'is' 를 사용하는 게 맞는지 모르겠음"
   ]
  },
  {
   "cell_type": "code",
   "execution_count": 30,
   "id": "991cfdf8",
   "metadata": {},
   "outputs": [
    {
     "name": "stdout",
     "output_type": "stream",
     "text": [
      "None\n"
     ]
    }
   ],
   "source": [
    "# 4 실행결과로 알맞은 것은?\n",
    "\n",
    "def is_yes(your_answer):\n",
    "    if your_answer.upper() == 'YES' or you_answer.upper() == 'Y':\n",
    "        result = your_answer.lower()\n",
    "print(is_yes('Yes'))\n",
    "\n",
    "# 해설: None 이 나온 이유는 return 으로 반환하지 않았기 때문이다."
   ]
  },
  {
   "cell_type": "code",
   "execution_count": 32,
   "id": "1488aa25",
   "metadata": {},
   "outputs": [
    {
     "name": "stdout",
     "output_type": "stream",
     "text": [
      "False\n"
     ]
    }
   ],
   "source": [
    "# 5 실행결과로 알맞은 것은?\n",
    "\n",
    "def add_and_mul(a,b,c):\n",
    "    return b + a * c + b\n",
    "\n",
    "print(add_and_mul(3,4,5) == 63)\n",
    "\n",
    "# 해설 : == 의 결과는 True 나 False 로 반환된다. 계산 결과 63과 같지 않아서 False로 반환되었다."
   ]
  },
  {
   "cell_type": "code",
   "execution_count": 35,
   "id": "38870461",
   "metadata": {},
   "outputs": [
    {
     "ename": "TypeError",
     "evalue": "args_test_3() missing 1 required keyword-only argument: 'three'",
     "output_type": "error",
     "traceback": [
      "\u001b[1;31m---------------------------------------------------------------------------\u001b[0m",
      "\u001b[1;31mTypeError\u001b[0m                                 Traceback (most recent call last)",
      "\u001b[1;32m~\\AppData\\Local\\Temp/ipykernel_13108/1689070985.py\u001b[0m in \u001b[0;36m<module>\u001b[1;34m\u001b[0m\n\u001b[0;32m      4\u001b[0m     \u001b[0mprint\u001b[0m\u001b[1;33m(\u001b[0m\u001b[0margs\u001b[0m\u001b[1;33m)\u001b[0m\u001b[1;33m\u001b[0m\u001b[1;33m\u001b[0m\u001b[0m\n\u001b[0;32m      5\u001b[0m \u001b[1;33m\u001b[0m\u001b[0m\n\u001b[1;32m----> 6\u001b[1;33m \u001b[0margs_test_3\u001b[0m\u001b[1;33m(\u001b[0m\u001b[1;36m3\u001b[0m\u001b[1;33m,\u001b[0m\u001b[1;36m4\u001b[0m\u001b[1;33m,\u001b[0m\u001b[1;36m5\u001b[0m\u001b[1;33m,\u001b[0m\u001b[1;36m6\u001b[0m\u001b[1;33m,\u001b[0m\u001b[1;36m7\u001b[0m\u001b[1;33m)\u001b[0m\u001b[1;33m\u001b[0m\u001b[1;33m\u001b[0m\u001b[0m\n\u001b[0m",
      "\u001b[1;31mTypeError\u001b[0m: args_test_3() missing 1 required keyword-only argument: 'three'"
     ]
    }
   ],
   "source": [
    "# 6 실행결과로 알맞은 것은?\n",
    "\n",
    "def args_test_3(one, two, *args, three):\n",
    "    print(one + two + sum(args))\n",
    "    print(args)\n",
    "    \n",
    "args_test_3(3,4,5,6,7)\n",
    "\n",
    "# 해설: 가변인수 * 는 반드시 일반적인 키워드 인수가 모두 끝난 후 넣어야 한다."
   ]
  },
  {
   "cell_type": "code",
   "execution_count": 36,
   "id": "7acd127e",
   "metadata": {},
   "outputs": [
    {
     "name": "stdout",
     "output_type": "stream",
     "text": [
      "['green', 'blue']\n"
     ]
    }
   ],
   "source": [
    "# 7 실행결과를 쓰시오\n",
    "\n",
    "def rain(colors):\n",
    "    colors.append('purple')\n",
    "    colors = ['green','blue']\n",
    "    return colors\n",
    "\n",
    "rainbow = ['red', 'orange']\n",
    "print(rain(rainbow))\n",
    "\n",
    "# 해설: 함수의 return 전에 colors = ['green','blue'] 로 할당했기에 그대로 출력한다."
   ]
  },
  {
   "cell_type": "code",
   "execution_count": 37,
   "id": "c562e0eb",
   "metadata": {},
   "outputs": [
    {
     "name": "stdout",
     "output_type": "stream",
     "text": [
      "8\n",
      "None\n"
     ]
    }
   ],
   "source": [
    "# 8 실행결과를 쓰시오\n",
    "\n",
    "def function(value):\n",
    "    print(value ** 3)\n",
    "    \n",
    "print(function(2))\n",
    "\n",
    "# 해설: function(2) 은 반환값이 없어서 None 값을 가진다."
   ]
  },
  {
   "cell_type": "code",
   "execution_count": 40,
   "id": "2567e60d",
   "metadata": {},
   "outputs": [
    {
     "name": "stdout",
     "output_type": "stream",
     "text": [
      "appl\n"
     ]
    }
   ],
   "source": [
    "# 9 실행결과를 쓰시오\n",
    "\n",
    "def get_apple(fruit):\n",
    "    fruit = list(fruit)\n",
    "    fruit.append('e')\n",
    "    fruit = ['apple']\n",
    "    return fruit\n",
    "\n",
    "fruit = 'appl'\n",
    "get_apple(fruit)\n",
    "print(fruit)\n",
    "\n",
    "# 해설: 함수 안에 fruit 과 밖에 fruit 은 다른 변수이다. 전역변수, 지역변수 참고"
   ]
  },
  {
   "cell_type": "code",
   "execution_count": 41,
   "id": "766bf094",
   "metadata": {},
   "outputs": [
    {
     "name": "stdout",
     "output_type": "stream",
     "text": [
      "(<function return_sentence at 0x000002B6EA5844C0>, 4)\n"
     ]
    }
   ],
   "source": [
    "# 10 실형결과로 알맞은 것은?\n",
    "\n",
    "def return_sentence(sentence, n):\n",
    "    sentence += str(n)\n",
    "    n -= 1\n",
    "    if n < 0:\n",
    "        return sentence\n",
    "    else:\n",
    "        return(return_sentence,n)\n",
    "    \n",
    "sentence = 'I Love You'\n",
    "print(return_sentence(sentence, 5))\n",
    "\n",
    "# 해설: 재귀함수 참고"
   ]
  },
  {
   "cell_type": "code",
   "execution_count": 47,
   "id": "cf56f0a6",
   "metadata": {},
   "outputs": [
    {
     "name": "stdout",
     "output_type": "stream",
     "text": [
      "['x']\n"
     ]
    }
   ],
   "source": [
    "# 11 실행결과를 쓰시오\n",
    "\n",
    "def test(x,y):\n",
    "    tmp = x\n",
    "    x = y\n",
    "    y = tmp\n",
    "    return y.append(x)\n",
    "\n",
    "x = ['y']\n",
    "y = ['x']\n",
    "test(x,y)\n",
    "print(y)\n",
    "\n",
    "# 해설: 함수 안에 y과 밖에 y 은 다른 변수이다. 전역변수, 지역변수 참고"
   ]
  },
  {
   "cell_type": "code",
   "execution_count": 48,
   "id": "ca3a044b",
   "metadata": {},
   "outputs": [
    {
     "name": "stdout",
     "output_type": "stream",
     "text": [
      "Odd\n",
      "Even\n"
     ]
    }
   ],
   "source": [
    "# 12 실행결과를 쓰시오\n",
    "\n",
    "def countdown(n):\n",
    "    if n % 2 == 0:\n",
    "        print('Even')\n",
    "    else:\n",
    "        print('Odd')\n",
    "        countdown(n-1)\n",
    "countdown(3)\n",
    "\n",
    "# 해설: 재귀함수 참고"
   ]
  },
  {
   "cell_type": "code",
   "execution_count": 49,
   "id": "118a6c48",
   "metadata": {},
   "outputs": [
    {
     "name": "stdout",
     "output_type": "stream",
     "text": [
      "120\n"
     ]
    }
   ],
   "source": [
    "# 13 다음 코드를 실행하면 결과값으로 120이 나온다. 빈칸에 들어갈 알맞은 코드를 작성하시오\n",
    "\n",
    "def factorial_calculator(n):\n",
    "    if n in (0,1):\n",
    "        return 1\n",
    "    else:\n",
    "        return n * factorial_calculator(n-1)\n",
    "print(factorial_calculator(5))\n",
    "\n",
    "# 해설: 재귀함수를 이용한 팩토리얼 함수"
   ]
  },
  {
   "cell_type": "code",
   "execution_count": 50,
   "id": "07356aa7",
   "metadata": {},
   "outputs": [
    {
     "data": {
      "text/plain": [
       "15"
      ]
     },
     "execution_count": 50,
     "metadata": {},
     "output_type": "execute_result"
    }
   ],
   "source": [
    "# 14 실행결과를 쓰시오\n",
    "\n",
    "def calculrate_rectangle_area(rectangle_x, rectangle_y):\n",
    "    rectangle_x = 3\n",
    "    rectangle_y = 5\n",
    "    result = rectangle_x * rectangle_y\n",
    "    return result\n",
    "\n",
    "rectangle_x = 2\n",
    "rectangle_y = 4\n",
    "calculrate_rectangle_area(rectangle_x, rectangle_y)\n",
    "\n",
    "# 해설: 전역변수, 지역변수 참고"
   ]
  },
  {
   "cell_type": "code",
   "execution_count": 51,
   "id": "e7cda5ae",
   "metadata": {},
   "outputs": [
    {
     "name": "stdout",
     "output_type": "stream",
     "text": [
      "Value: 10\n",
      "Value: 20\n"
     ]
    }
   ],
   "source": [
    "# 15 실행결과를 쓰시오\n",
    "\n",
    "def exam_func():\n",
    "    x = 10\n",
    "    print('Value:', x)\n",
    "    \n",
    "x = 20\n",
    "exam_func()\n",
    "print('Value:', x)\n",
    "\n",
    "# 해설: 전역변수, 지역변수 참고"
   ]
  },
  {
   "cell_type": "code",
   "execution_count": 55,
   "id": "6a06d153",
   "metadata": {},
   "outputs": [
    {
     "data": {
      "text/plain": [
       "['Korea', 'Japan', 'China']"
      ]
     },
     "execution_count": 55,
     "metadata": {},
     "output_type": "execute_result"
    }
   ],
   "source": [
    "# 16 실행결과를 쓰시오\n",
    "\n",
    "country = ['Korea', 'Japan', 'China']\n",
    "country.append('Remove')\n",
    "country.remove('Remove')\n",
    "print(country.remove('Remove'))\n",
    "\n",
    "# 해설: None 값이 나오는 것은 country.remove('Remove') 반환값이 없기 때문이다. country.remove('Remove') 제거하라는 코드이다."
   ]
  },
  {
   "cell_type": "code",
   "execution_count": null,
   "id": "5da0a431",
   "metadata": {},
   "outputs": [],
   "source": []
  }
 ],
 "metadata": {
  "kernelspec": {
   "display_name": "Python 3 (ipykernel)",
   "language": "python",
   "name": "python3"
  },
  "language_info": {
   "codemirror_mode": {
    "name": "ipython",
    "version": 3
   },
   "file_extension": ".py",
   "mimetype": "text/x-python",
   "name": "python",
   "nbconvert_exporter": "python",
   "pygments_lexer": "ipython3",
   "version": "3.9.7"
  }
 },
 "nbformat": 4,
 "nbformat_minor": 5
}
