{
 "cells": [
  {
   "cell_type": "code",
   "execution_count": 1,
   "id": "40c098f1",
   "metadata": {},
   "outputs": [
    {
     "ename": "FileNotFoundError",
     "evalue": "[Errno 2] No such file or directory: './my_first.csv'",
     "output_type": "error",
     "traceback": [
      "\u001b[1;31m---------------------------------------------------------------------------\u001b[0m",
      "\u001b[1;31mFileNotFoundError\u001b[0m                         Traceback (most recent call last)",
      "\u001b[1;32m~\\AppData\\Local\\Temp/ipykernel_12564/4068754636.py\u001b[0m in \u001b[0;36m<module>\u001b[1;34m\u001b[0m\n\u001b[0;32m      5\u001b[0m \u001b[1;31m# tsv로 변환되는 파일명은 transfer.tsv\u001b[0m\u001b[1;33m\u001b[0m\u001b[1;33m\u001b[0m\u001b[0m\n\u001b[0;32m      6\u001b[0m \u001b[1;33m\u001b[0m\u001b[0m\n\u001b[1;32m----> 7\u001b[1;33m \u001b[0mread_file\u001b[0m \u001b[1;33m=\u001b[0m \u001b[0mopen\u001b[0m\u001b[1;33m(\u001b[0m\u001b[1;34m'./my_first.csv'\u001b[0m\u001b[1;33m,\u001b[0m \u001b[1;34m'r'\u001b[0m\u001b[1;33m)\u001b[0m\u001b[1;33m\u001b[0m\u001b[1;33m\u001b[0m\u001b[0m\n\u001b[0m\u001b[0;32m      8\u001b[0m \u001b[0mreader\u001b[0m \u001b[1;33m=\u001b[0m \u001b[0mcsv\u001b[0m\u001b[1;33m.\u001b[0m\u001b[0mreader\u001b[0m\u001b[1;33m(\u001b[0m\u001b[0mread_file\u001b[0m\u001b[1;33m,\u001b[0m \u001b[0mdelimiter\u001b[0m \u001b[1;33m=\u001b[0m \u001b[1;34m','\u001b[0m\u001b[1;33m)\u001b[0m\u001b[1;33m\u001b[0m\u001b[1;33m\u001b[0m\u001b[0m\n\u001b[0;32m      9\u001b[0m \u001b[1;32mwith\u001b[0m \u001b[0mopen\u001b[0m\u001b[1;33m(\u001b[0m\u001b[1;34m'transfer.tsv'\u001b[0m\u001b[1;33m,\u001b[0m \u001b[1;34m'w'\u001b[0m\u001b[1;33m)\u001b[0m \u001b[1;32mas\u001b[0m \u001b[0mwriter_file\u001b[0m\u001b[1;33m:\u001b[0m\u001b[1;33m\u001b[0m\u001b[1;33m\u001b[0m\u001b[0m\n",
      "\u001b[1;31mFileNotFoundError\u001b[0m: [Errno 2] No such file or directory: './my_first.csv'"
     ]
    }
   ],
   "source": [
    "# 1. 다음은 csv 객체를 이용하여 csv 파일을 tsv 파일로 변화하는 코드이다. 빈칸에 들어갈 코드를 차례대로 쓰시오\n",
    "\n",
    "import csv\n",
    "# my_first.csv 파일은 이미 디렉터리에 있다고 가정\n",
    "# tsv로 변환되는 파일명은 transfer.tsv\n",
    "\n",
    "read_file = open('./my_first.csv', 'r')\n",
    "reader = csv.reader(read_file, delimiter = ',')\n",
    "with open('transfer.tsv', 'w') as writer_file:\n",
    "    writer = csv.writer(writer_file, delimiter = '\\t')\n",
    "    for row in reader:\n",
    "        writer.writerow(row)"
   ]
  },
  {
   "cell_type": "code",
   "execution_count": 2,
   "id": "f538c7b2",
   "metadata": {},
   "outputs": [
    {
     "ename": "FileNotFoundError",
     "evalue": "[Errno 2] No such file or directory: 'techusa.csv'",
     "output_type": "error",
     "traceback": [
      "\u001b[1;31m---------------------------------------------------------------------------\u001b[0m",
      "\u001b[1;31mFileNotFoundError\u001b[0m                         Traceback (most recent call last)",
      "\u001b[1;32m~\\AppData\\Local\\Temp/ipykernel_12564/897587485.py\u001b[0m in \u001b[0;36m<module>\u001b[1;34m\u001b[0m\n\u001b[0;32m      5\u001b[0m \u001b[0mtechusa_list\u001b[0m \u001b[1;33m=\u001b[0m \u001b[1;33m[\u001b[0m\u001b[1;33m]\u001b[0m\u001b[1;33m\u001b[0m\u001b[1;33m\u001b[0m\u001b[0m\n\u001b[0;32m      6\u001b[0m \u001b[1;33m\u001b[0m\u001b[0m\n\u001b[1;32m----> 7\u001b[1;33m \u001b[1;32mwith\u001b[0m \u001b[0mopen\u001b[0m\u001b[1;33m(\u001b[0m\u001b[1;34m'techusa.csv'\u001b[0m\u001b[1;33m,\u001b[0m \u001b[1;34m'r'\u001b[0m\u001b[1;33m)\u001b[0m \u001b[1;32mas\u001b[0m \u001b[0mtechusa\u001b[0m\u001b[1;33m:\u001b[0m\u001b[1;33m\u001b[0m\u001b[1;33m\u001b[0m\u001b[0m\n\u001b[0m\u001b[0;32m      8\u001b[0m     \u001b[1;32mwhile\u001b[0m \u001b[1;36m1\u001b[0m\u001b[1;33m:\u001b[0m\u001b[1;33m\u001b[0m\u001b[1;33m\u001b[0m\u001b[0m\n\u001b[0;32m      9\u001b[0m         \u001b[0mdata\u001b[0m \u001b[1;33m=\u001b[0m \u001b[0mtechusa\u001b[0m\u001b[1;33m.\u001b[0m\u001b[0mreadline\u001b[0m\u001b[1;33m(\u001b[0m\u001b[1;33m)\u001b[0m\u001b[1;33m\u001b[0m\u001b[1;33m\u001b[0m\u001b[0m\n",
      "\u001b[1;31mFileNotFoundError\u001b[0m: [Errno 2] No such file or directory: 'techusa.csv'"
     ]
    }
   ],
   "source": [
    "# 2. 다음은 'techusa.csv' 파일을 분석하여 특정 데이터를 출력하는 프로그램이다. 빈칸에 들어갈 코드를 차례대로 쓰시오\n",
    "\n",
    "line_counter = 0\n",
    "data_header = []\n",
    "techusa_list = []\n",
    "\n",
    "with open('techusa.csv', 'r') as techusa:\n",
    "    while 1:\n",
    "        data = techusa.readline()\n",
    "\n",
    "        if not data:\n",
    "            break\n",
    "\n",
    "        if line_counter == 0:\n",
    "            data_header = data.split(',')\n",
    "        else:\n",
    "            techusa_list.append(data.split(','))\n",
    "        line_counter += 1\n",
    "\n",
    "print(techusa_list[1][0])"
   ]
  },
  {
   "cell_type": "code",
   "execution_count": 3,
   "id": "af302a61",
   "metadata": {},
   "outputs": [],
   "source": [
    "# 3. 'cs50_click_stream.log' 파일에 사용자와 사용자가 방문한 시간을 저장하고자 한다.\n",
    "# 모든 사용자의 정보와 방문 시간이 한 줄씩 저장될 수 있도록 빈칸에 알맞은 코드를 쓰시로(방문 시간은 visit_time 변수에 저장됨)\n",
    "\n",
    "import datetime\n",
    "\n",
    "visitor_info = ['Thanos', 'Groot', 'Dr.steange', 'Captain America', 'Spider Man']\n",
    "with open('cs50_click_stream.log', 'w', encoding = 'utf-8') as f:\n",
    "    for i in visitor_info:\n",
    "        visit_time = datetime.datetime.now()\n",
    "        f.write('userNmae: %s \\t'%i + 'visitedTime:%s \\n'%str(visit_time))"
   ]
  },
  {
   "cell_type": "code",
   "execution_count": 4,
   "id": "c1846aba",
   "metadata": {},
   "outputs": [],
   "source": [
    "# 4. 프로그래밍 언어에서 로깅을 사용하는 목적에 대해 서술하시오\n",
    "\n",
    "# 프로그램이 실행되는 동안 일어나는 정보를 파일이나 기록으로 남기는 일을 로깅이라고 한다.\n",
    "# 로깅을 통해 문제를 해결하거나 좀 더 나은 프로그램을 짤 수 있다."
   ]
  },
  {
   "cell_type": "code",
   "execution_count": 5,
   "id": "d12603ab",
   "metadata": {},
   "outputs": [],
   "source": [
    "# 5. 로깅 형태를 쓰시오\n",
    "\n",
    "# (가) 함수에 인수로 아치원 리스트를 기대했지만, 일차원 리스트가 들어옴, 이차원으로 변환 후 처리함 : warning\n",
    "# (나) 서버가 시작됨, 사용자 A가 프로그램에 접속함 : info\n",
    "# (다) 잘못된 접근으로 해당 파일이 삭제됨 : critical\n",
    "# (라) 파일에 기록을 해야하는데 파일이 없음, 예외 처리후, 사용자에게 알림: error"
   ]
  },
  {
   "cell_type": "code",
   "execution_count": null,
   "id": "c89f4d93",
   "metadata": {},
   "outputs": [],
   "source": []
  }
 ],
 "metadata": {
  "kernelspec": {
   "display_name": "Python 3 (ipykernel)",
   "language": "python",
   "name": "python3"
  },
  "language_info": {
   "codemirror_mode": {
    "name": "ipython",
    "version": 3
   },
   "file_extension": ".py",
   "mimetype": "text/x-python",
   "name": "python",
   "nbconvert_exporter": "python",
   "pygments_lexer": "ipython3",
   "version": "3.9.7"
  }
 },
 "nbformat": 4,
 "nbformat_minor": 5
}
