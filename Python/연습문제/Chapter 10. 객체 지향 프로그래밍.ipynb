{
 "cells": [
  {
   "cell_type": "code",
   "execution_count": 1,
   "id": "51350c49",
   "metadata": {},
   "outputs": [],
   "source": [
    "# 1 파이썬의 클래스와 객체 지향 프로그래밍에 대한 설명으로 틀린 것은?\n",
    "\n",
    "# 1. 클래스에서 상속은 부모 클래스로부터 속성과 메서드를 물려받은 자식 클래스를 생성하는 것을 말한다.\n",
    "# 2. 클래스에서 __init__() 함수는 객체 초기화 예약 함수이다. (X class에서 사용할 변수를 정의하는 함수이다.)\n",
    "# 3. 객체 지향 프로그래밍에서 속성은 값으로 행동을 메서드로 표현된다. \n",
    "# 4. 클래스에서 함수 추가는 기존 함수의 사용법과 동일하다.\n",
    "# 5. 다형성은 같은 이름의 메서드의 내부 로직을 다르게 작성하는 것을 말하며, 같은 부모 클래스를 상속하는 과정에서 주로 발생한다."
   ]
  },
  {
   "cell_type": "code",
   "execution_count": 3,
   "id": "ca2c8484",
   "metadata": {},
   "outputs": [
    {
     "name": "stdout",
     "output_type": "stream",
     "text": [
      "Korean\n",
      "English\n",
      "I'm Groot!\n"
     ]
    }
   ],
   "source": [
    "# 2 실행결과를 쓰시오\n",
    "\n",
    "class Person(object):\n",
    "    def __init__(self,name):\n",
    "        self.name = name\n",
    "        \n",
    "    def language(self):\n",
    "        pass\n",
    "    \n",
    "class Earthling(Person):    \n",
    "    def language(self,language):\n",
    "        return language\n",
    "    \n",
    "class Groot(Person):\n",
    "    def language(self,language):\n",
    "        return \"I'm Groot!\"\n",
    "    \n",
    "name = ['Gachon', 'Dr.Strange', 'Groot']\n",
    "country = ['Korea', 'USA', 'Galaxy']\n",
    "language = ['Korean', 'English', 'Groot']\n",
    "\n",
    "for idx, name in enumerate(name):\n",
    "    if country[idx].upper() != 'GALAXY':\n",
    "        person = Earthling(name)\n",
    "        print(person.language(language[idx]))\n",
    "        \n",
    "    else:\n",
    "        groot = Groot(name)\n",
    "        print(groot.language(language[idx]))"
   ]
  },
  {
   "cell_type": "code",
   "execution_count": 4,
   "id": "a460404a",
   "metadata": {},
   "outputs": [
    {
     "name": "stdout",
     "output_type": "stream",
     "text": [
      "720\n"
     ]
    }
   ],
   "source": [
    "# 3 실행결과를 쓰시오\n",
    "\n",
    "def factorial(n):\n",
    "    if n == 0:\n",
    "        return 1\n",
    "    else:\n",
    "        return (n * factorial(n-1))\n",
    "    \n",
    "print (factorial(6))    "
   ]
  },
  {
   "cell_type": "code",
   "execution_count": 5,
   "id": "ef87d1ec",
   "metadata": {},
   "outputs": [
    {
     "name": "stdout",
     "output_type": "stream",
     "text": [
      "현재 선수의 등번호는: 10\n",
      "현재 선수의 등번호는: 5\n"
     ]
    }
   ],
   "source": [
    "# 4 실행결과를 쓰시오\n",
    "\n",
    "class SoccerPlayer(object):\n",
    "    def __init__(self, name, position, back_number):\n",
    "        self.name = name\n",
    "        self.position = position\n",
    "        self.back_number = back_number\n",
    "        \n",
    "    def change_back_number(self, back_number):\n",
    "        self.back_number = back_number\n",
    "        \n",
    "jinhyun = SoccerPlayer('jinhyun','MF',10)\n",
    "print('현재 선수의 등번호는:',jinhyun.back_number)\n",
    "jinhyun.change_back_number(5)\n",
    "print('현재 선수의 등번호는:', jinhyun.back_number)"
   ]
  },
  {
   "cell_type": "code",
   "execution_count": 14,
   "id": "3e1116e3",
   "metadata": {},
   "outputs": [],
   "source": [
    "# 5 다음 코드가 보여주는 특징은? 상속성\n",
    "\n",
    "class Class(object):\n",
    "    def __init__(self, name, score):\n",
    "        self.name = name\n",
    "        self.score = score\n",
    "        \n",
    "class Math(Class):\n",
    "    def say():\n",
    "        print('힘내')\n"
   ]
  },
  {
   "cell_type": "code",
   "execution_count": 16,
   "id": "539b6716",
   "metadata": {},
   "outputs": [
    {
     "name": "stdout",
     "output_type": "stream",
     "text": [
      "My name is Thanos and my weapon infinity gauntlet.\n"
     ]
    }
   ],
   "source": [
    "# 6 실행 결과를 쓰시오\n",
    "\n",
    "class Marvel(object):\n",
    "    def __init__(self, name, characteristic):\n",
    "        self.name = name\n",
    "        self.characteristic = characteristic\n",
    "    def __str__(self):\n",
    "        return 'My name is {0} and my weapon {1}.'.format(self.name,self.characteristic)\n",
    "    \n",
    "class Villain(Marvel):\n",
    "    pass\n",
    "\n",
    "first_villain = Villain('Thanos','infinity gauntlet')\n",
    "print(first_villain)"
   ]
  },
  {
   "cell_type": "code",
   "execution_count": 19,
   "id": "08522d21",
   "metadata": {},
   "outputs": [
    {
     "name": "stdout",
     "output_type": "stream",
     "text": [
      "LG에서 만든2019년향32인치TV\n",
      "Samsung에서 만든2018년향15인치TV\n"
     ]
    }
   ],
   "source": [
    "# 7 실행 결과를 쓰시오\n",
    "\n",
    "class TV(object):\n",
    "    def __init__(self, size, year, company):\n",
    "        self.size = size\n",
    "        self.year = year\n",
    "        self.company = company\n",
    "    def describe(self):\n",
    "        print(self.company + '에서 만든' + self.year + '년향' + self.size + '인치' + 'TV')\n",
    "        \n",
    "class Laptop(TV):\n",
    "    def descrive(self):\n",
    "        print(self.company + '에서 만든' + self.year + '년형' + self.size + '인치' + '노트북')\n",
    "        \n",
    "LG_TV = TV('32','2019','LG')\n",
    "LG_TV.describe()\n",
    "\n",
    "samsung_microwave = Laptop('15','2018','Samsung')\n",
    "samsung_microwave.describe()\n",
    "\n",
    "# 설명 : 위 코드에서 Labtop 클래스는 TV 클래스를 상속하였다. 또한, 같은 이름의 내부 로직을 다르게 작성했으므로 다형성의 사례로도 볼 수 있다."
   ]
  },
  {
   "cell_type": "code",
   "execution_count": 21,
   "id": "818533d5",
   "metadata": {},
   "outputs": [
    {
     "name": "stdout",
     "output_type": "stream",
     "text": [
      "이름:John\n",
      "나이:22\n",
      "직위:연구원\n",
      "저는 가천대학교 연구소 연구원John 입니다. 나이는 22입니다.\n",
      "저는 학사입니다.\n",
      "==================================================\n",
      "이름:Tedd\n",
      "나이:40\n",
      "직위:소장\n",
      "저는 가천대학교 연구소 소장Tedd 입니다. 나이는 40입니다.\n",
      "저는 박사입니다.\n"
     ]
    }
   ],
   "source": [
    "# 8 실행 결과를 쓰시오\n",
    "\n",
    "class Person:\n",
    "    def __init__(self, name, age, position):\n",
    "        self.Name = name\n",
    "        self.Age = age\n",
    "        self.Position = position\n",
    "        \n",
    "    def show_info(self):\n",
    "        print('이름:{}'.format(self.Name))\n",
    "        print('나이:{}'.format(self.Age))\n",
    "        print('직위:{}'.format(self.Position))\n",
    "        print('저는 가천대학교 연구소 {0}{1} 입니다. 나이는 {2}입니다.'.format(self.Position, self.Name, self.Age))\n",
    "        \n",
    "class Researcher(Person):\n",
    "    def __init__(self,name, age, position, degree):\n",
    "        Person.__init__(self, name, age, position)\n",
    "        self.Degree = degree\n",
    "    def show_info(self):\n",
    "        Person.show_info(self)\n",
    "        print('저는 {}입니다.'.format(self.Degree))\n",
    "        \n",
    "if __name__=='__main__':\n",
    "    researcher_john = Researcher('John','22','연구원','학사')\n",
    "    researcher_tedd = Researcher('Tedd','40','소장','박사')\n",
    "    researcher_john.show_info()\n",
    "    print('='*50)\n",
    "    researcher_tedd.show_info()\n",
    "    \n",
    "# 설명 : Person 클래스와 Researcher 클래스는 파이썬의 상속성을 보여준다."
   ]
  },
  {
   "cell_type": "code",
   "execution_count": 28,
   "id": "b717b1d2",
   "metadata": {},
   "outputs": [
    {
     "name": "stdout",
     "output_type": "stream",
     "text": [
      "None F 72.0 F\n"
     ]
    }
   ],
   "source": [
    "# 9 실행 결과를 쓰시오\n",
    "\n",
    "class Score:\n",
    "    def __init__(self,student):\n",
    "        tmp = student.split(',')\n",
    "        self.name = tmp[0]\n",
    "        self.midterm = int(tmp[1])\n",
    "        self.final = int(tmp[2])\n",
    "        self.assignment = int(tmp[3])\n",
    "        self.score = None\n",
    "        self.grade = None\n",
    "        \n",
    "    def total_score(self):\n",
    "        test_score = ((self.midterm + self.final)/2)*0.8\n",
    "        \n",
    "        if self.assignment >= 3:\n",
    "            assign_score = 20\n",
    "        elif self.assignment >= 2:\n",
    "            assign_score = 10\n",
    "        elif self.assignment >= 1:\n",
    "            assign_score = 5\n",
    "        else:\n",
    "            assign_score = 0\n",
    "            \n",
    "        self.score = test_score + assign_score\n",
    "        \n",
    "    def total_grade(self):\n",
    "        if self.assignment == 0:\n",
    "            grade = 'F'\n",
    "        elif self.score >= 90:\n",
    "            grade = 'A'\n",
    "        elif self.score >= 70:\n",
    "            grade = 'B'\n",
    "        elif self.score >= 60:\n",
    "            grade = 'C'\n",
    "        else:\n",
    "            grade = 'F'\n",
    "            \n",
    "        self.grade = grade\n",
    "        return grade\n",
    "    \n",
    "student_john = Score('john,90,90,0')\n",
    "aa = student_john.total_score()\n",
    "bb = student_john.total_grade()\n",
    "print(aa,bb,student_john.score,student_john.grade)"
   ]
  },
  {
   "cell_type": "code",
   "execution_count": 29,
   "id": "a673042e",
   "metadata": {},
   "outputs": [
    {
     "name": "stdout",
     "output_type": "stream",
     "text": [
      "아이스크림을 레인보우 샤베트 에서 바람과 함께 사라지다 로 변경해주세요\n",
      "아이스크림 맛을 바람과 함께 사라지다로 변경해드렸어요\n"
     ]
    }
   ],
   "source": [
    "# 10 실행 결과를 쓰시오\n",
    "\n",
    "class IceCream(object):\n",
    "    def __init__(self, flavor):\n",
    "        self.flavor = flavor\n",
    "    def change_flavor(self, new_flavor):\n",
    "        print('아이스크림을 %s 에서 %s 로 변경해주세요' %(self.flavor, new_flavor))\n",
    "        self.flavor = new_flavor\n",
    "        print('아이스크림 맛을 %s로 변경해드렸어요' %self.flavor)\n",
    "        \n",
    "ice_cream = IceCream('레인보우 샤베트')\n",
    "ice_cream.change_flavor('바람과 함께 사라지다')"
   ]
  },
  {
   "cell_type": "code",
   "execution_count": 32,
   "id": "b44ff63f",
   "metadata": {},
   "outputs": [
    {
     "name": "stdout",
     "output_type": "stream",
     "text": [
      "Mineral:72\n"
     ]
    }
   ],
   "source": [
    "# 11 실행 결과를 쓰시오\n",
    "\n",
    "class Terran(object):\n",
    "    def __init__(self, mineral):\n",
    "        self.scv = 4\n",
    "        self.marine = 0\n",
    "        self.medic = 0\n",
    "        self.mineral = mineral\n",
    "    def command(self, SCV=False):\n",
    "        self.mineral += 8*self.scv\n",
    "        if SCV:\n",
    "            self.scv += 1\n",
    "            self.mineral -= 10\n",
    "    def barrack(self, Marine=False, Medic=False):\n",
    "        self.mineral += 8*self.scv\n",
    "        if Marine:\n",
    "            self.marine += 1\n",
    "            self.mineral -= 15\n",
    "        if Medic:\n",
    "            self.medic += 1\n",
    "            self.mineral -= 25\n",
    "    def check_source(self):\n",
    "        print('Mineral:'+str(self.mineral))\n",
    "        \n",
    "User = Terran(50)\n",
    "User.command(True)\n",
    "User.barrack(True,True)\n",
    "User.check_source()"
   ]
  },
  {
   "cell_type": "code",
   "execution_count": null,
   "id": "cb17e0bb",
   "metadata": {},
   "outputs": [],
   "source": []
  }
 ],
 "metadata": {
  "kernelspec": {
   "display_name": "Python 3 (ipykernel)",
   "language": "python",
   "name": "python3"
  },
  "language_info": {
   "codemirror_mode": {
    "name": "ipython",
    "version": 3
   },
   "file_extension": ".py",
   "mimetype": "text/x-python",
   "name": "python",
   "nbconvert_exporter": "python",
   "pygments_lexer": "ipython3",
   "version": "3.9.7"
  }
 },
 "nbformat": 4,
 "nbformat_minor": 5
}
