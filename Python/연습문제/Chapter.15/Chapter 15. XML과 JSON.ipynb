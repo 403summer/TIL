{
 "cells": [
  {
   "cell_type": "code",
   "execution_count": 1,
   "id": "cc162e1e",
   "metadata": {},
   "outputs": [
    {
     "name": "stdout",
     "output_type": "stream",
     "text": [
      "which one is correct team name in NBA?\n",
      "\n",
      "0.New York Bulls\n",
      "1.Los Angeles kings\n",
      "2.Golden State Warriors\n",
      "3.Huston Rocket\n",
      "\n",
      "answerHuston Rocktet\n"
     ]
    }
   ],
   "source": [
    "# 1. 'questions_and_answers.json' 파일을 이용하여 다음과 같은 결과값을 내고자 한다. 빈칸에 알맞은 코드를 쓰시오\n",
    "\n",
    "import json\n",
    "from tkinter.messagebox import QUESTION\n",
    "with open('questions_and_answers.json', 'r', encoding='utf8') as f:\n",
    "    contents = f.read()\n",
    "    json_ex = json.loads(contents)\n",
    "\n",
    "print(json_ex['quiz']['sport']['q1']['question'] + '\\n' )\n",
    "\n",
    "options = json_ex['quiz']['sport']['q1']['options']\n",
    "for i in range(len(options)):\n",
    "    print(str(i) + '.' + options[i])\n",
    "\n",
    "print('\\n' 'answer' + json_ex['quiz']['sport']['q1']['answer'])"
   ]
  },
  {
   "cell_type": "code",
   "execution_count": 2,
   "id": "cc601dd7",
   "metadata": {},
   "outputs": [
    {
     "name": "stdout",
     "output_type": "stream",
     "text": [
      "0002\n",
      "Henry\n",
      "<salary format=\"dollar\">7000</salary>\n"
     ]
    }
   ],
   "source": [
    "# 2. 'researcher.xml' 파일을 이용해 코드로 작성한 결과값을 쓰시오\n",
    "\n",
    "import urllib.request\n",
    "from bs4 import BeautifulSoup\n",
    "\n",
    "with open('researcher.xml', 'r', encoding = 'utf-8') as researcher_xml:\n",
    "    xml = researcher_xml.read()\n",
    "\n",
    "soup = BeautifulSoup(xml,'html.parser')\n",
    "\n",
    "for i, element in enumerate(soup.findAll('researcher')):\n",
    "    if i%2==1:\n",
    "        print(element['researcherid'])\n",
    "        print(element.na.get_text())\n",
    "        print(element.salary)\n",
    "    else:\n",
    "        pass"
   ]
  },
  {
   "cell_type": "code",
   "execution_count": 3,
   "id": "ce20f225",
   "metadata": {},
   "outputs": [],
   "source": [
    "# 3. XML과 JSON 파일 형식의 차이에 대해 서술하시오.\n",
    "\n",
    "# XML\n",
    "# 1. 태그 언어이다. \n",
    "# 2. 사실 상 HTML과 같다. (단지 XML에서 웹에 필요한 개념만 뽑은 것이 HTML이다.)\n",
    "\n",
    "# JSON\n",
    "# 1. XML 보다 용량이 작다. (모바일에 사용되기 위한 형식)\n",
    "# 2. 딕셔너리형과 같다고 이해하면 된다."
   ]
  },
  {
   "cell_type": "code",
   "execution_count": 4,
   "id": "0b4996e6",
   "metadata": {},
   "outputs": [],
   "source": [
    "# 4. XML에 대한 서러명 중 틀린 것은?\n",
    "\n",
    "# 1. eXtensible Makup Language 의 줄임말이다.\n",
    "# 2. 2000년대 중반 대부분의 컴퓨터들이 통신을 위해 사용된 언어이다.\n",
    "# 3. HTML과 같이 태그를 사용하여 계층적인 구조로 데이터를 표현한다.\n",
    "# 4. 딕셔너리와 유사한 형태로 표현이 가능하다.\n",
    "# 4. 자바스크립트를 기반으로 발전된 언어이다. (X JSON에 대한 설명)"
   ]
  },
  {
   "cell_type": "code",
   "execution_count": 5,
   "id": "5e020dae",
   "metadata": {},
   "outputs": [],
   "source": [
    "# 5. 이책에서 BeautifulSoup을 사용하여 XML을 파싱하였다. 해당 모듈을 사용할 때 사용자 입장에서 얻게 되는 장점을 쓰시오.\n",
    "\n",
    "# BeautifulSoup는 기존 파싱 기능이 있는 다른 라이브러리를 쉽게 사용할 수 있도록 한 모듈이다. 사용자에 입장에서 편하게 빠르게 사용할 수 있다."
   ]
  },
  {
   "cell_type": "code",
   "execution_count": 8,
   "id": "2331187b",
   "metadata": {},
   "outputs": [
    {
     "name": "stdout",
     "output_type": "stream",
     "text": [
      "<author>Carson</author>\n",
      "Carson\n",
      "<author>Sungchul</author>\n",
      "Sungchul\n"
     ]
    }
   ],
   "source": [
    "# 6. 다음 코드의 빈칸에 들어갈 함수를 쓰고, 그 함수의 역활을 서술하시오.\n",
    "\n",
    "from bs4 import BeautifulSoup\n",
    "\n",
    "with open('books.xml', 'r', encoding = 'utf8') as books_file:\n",
    "    books_xml = books_file.read()\n",
    "soup = BeautifulSoup(books_xml,'lxml')\n",
    "\n",
    "for books_info in soup.find_all('author'):\n",
    "    print(books_info)\n",
    "    print(books_info.get_text())\n",
    "    \n",
    "# 특정 태그를 모두 찾는 find_all 과 값을 추출하는 . get_text()"
   ]
  },
  {
   "cell_type": "code",
   "execution_count": 9,
   "id": "b98a2956",
   "metadata": {},
   "outputs": [],
   "source": [
    "# 7. JSON에 대한 설명 중 틀린 것은?\n",
    "\n",
    "# 1. Jave Script Object Notation의 줄임말이다.\n",
    "# 2. 최근 많은 시스템에서 데이터를 주기 위해 사용되고 있다.\n",
    "# 3. 계층적인 정보는 표현할 수 없다. (X)\n",
    "# 4. dict 타입과 유사한 형태로 표현할 수 있다.\n",
    "# 5. 자바스크립트를 기반으로 발전된 언어이다."
   ]
  },
  {
   "cell_type": "code",
   "execution_count": 10,
   "id": "134cd997",
   "metadata": {},
   "outputs": [],
   "source": [
    "# 8. 다음 코드의 목적을 쓰시오.\n",
    "\n",
    "import json\n",
    "\n",
    "dict_data = {'Name':'Zara', 'Age':7, 'Class':'First'}\n",
    "with open ('data.json', 'w') as f:\n",
    "    json.dump(dict_data, f)\n",
    "    \n",
    "# 딕셔너리를 JSON 으로 쓰기 위한 코드"
   ]
  },
  {
   "cell_type": "code",
   "execution_count": 11,
   "id": "4525599e",
   "metadata": {},
   "outputs": [],
   "source": [
    "# 9. 특정 시스템에 있는 정보를 추출하기 위해 최근 API를 많이 사용한다. 이때 사용되는 API 문서란 무엇인지 서술하시오\n",
    "\n",
    "# API는 일종의 함수로, 해당 회사가 제공하는 서비스를 활용하기 위한 함수를 뜻한다\n",
    "# API 문서란 이런 함수의 사용법과 규격을 제공하는 문서를 뜻한다.."
   ]
  },
  {
   "cell_type": "code",
   "execution_count": 12,
   "id": "72ea216a",
   "metadata": {},
   "outputs": [
    {
     "name": "stdout",
     "output_type": "stream",
     "text": [
      "Betelgusian\n"
     ]
    }
   ],
   "source": [
    "# 10. 다음과 같은 'data_file.json' 파일이 있을 때, 'species'의 정보를 가져올 수 있는 파이썬 코드를 작성하시오.\n",
    "\n",
    "import json\n",
    "\n",
    "with open('data_file.json','r', encoding = 'utf8') as f:\n",
    "    contents = f.read()\n",
    "    test = json.loads(contents)\n",
    "\n",
    "print(test['president']['species'])"
   ]
  },
  {
   "cell_type": "code",
   "execution_count": null,
   "id": "f2d4d442",
   "metadata": {},
   "outputs": [],
   "source": []
  }
 ],
 "metadata": {
  "kernelspec": {
   "display_name": "Python 3 (ipykernel)",
   "language": "python",
   "name": "python3"
  },
  "language_info": {
   "codemirror_mode": {
    "name": "ipython",
    "version": 3
   },
   "file_extension": ".py",
   "mimetype": "text/x-python",
   "name": "python",
   "nbconvert_exporter": "python",
   "pygments_lexer": "ipython3",
   "version": "3.9.7"
  }
 },
 "nbformat": 4,
 "nbformat_minor": 5
}
