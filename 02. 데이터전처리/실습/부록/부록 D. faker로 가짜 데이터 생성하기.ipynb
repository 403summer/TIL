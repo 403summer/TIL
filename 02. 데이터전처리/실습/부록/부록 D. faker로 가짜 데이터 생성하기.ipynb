{
 "cells": [
  {
   "cell_type": "markdown",
   "id": "68a45977",
   "metadata": {},
   "source": [
    "# D.1 faker 설치"
   ]
  },
  {
   "cell_type": "markdown",
   "id": "4dda90a1",
   "metadata": {},
   "source": [
    "# D.2 faker 개요"
   ]
  },
  {
   "cell_type": "code",
   "execution_count": 2,
   "id": "e03e0c88",
   "metadata": {},
   "outputs": [],
   "source": [
    "import pandas as pd\n",
    "import numpy as np\n",
    "import faker"
   ]
  },
  {
   "cell_type": "code",
   "execution_count": 3,
   "id": "a065d0a4",
   "metadata": {},
   "outputs": [],
   "source": [
    "fake = faker.Faker()"
   ]
  },
  {
   "cell_type": "code",
   "execution_count": 4,
   "id": "c5ff7b5c",
   "metadata": {},
   "outputs": [
    {
     "data": {
      "text/plain": [
       "'Nicole Nguyen'"
      ]
     },
     "execution_count": 4,
     "metadata": {},
     "output_type": "execute_result"
    }
   ],
   "source": [
    "fake.name()"
   ]
  },
  {
   "cell_type": "code",
   "execution_count": 5,
   "id": "f7badd0c",
   "metadata": {},
   "outputs": [
    {
     "data": {
      "text/plain": [
       "'Andrew Clark'"
      ]
     },
     "execution_count": 5,
     "metadata": {},
     "output_type": "execute_result"
    }
   ],
   "source": [
    "fake.name_male()"
   ]
  },
  {
   "cell_type": "code",
   "execution_count": 6,
   "id": "b6b55f00",
   "metadata": {},
   "outputs": [
    {
     "data": {
      "text/plain": [
       "'Jenna Moore'"
      ]
     },
     "execution_count": 6,
     "metadata": {},
     "output_type": "execute_result"
    }
   ],
   "source": [
    "fake.name_female()"
   ]
  },
  {
   "cell_type": "code",
   "execution_count": 7,
   "id": "99f11be8",
   "metadata": {},
   "outputs": [
    {
     "data": {
      "text/plain": [
       "'Ronnie'"
      ]
     },
     "execution_count": 7,
     "metadata": {},
     "output_type": "execute_result"
    }
   ],
   "source": [
    "fake.first_name()"
   ]
  },
  {
   "cell_type": "code",
   "execution_count": 8,
   "id": "f335be0d",
   "metadata": {},
   "outputs": [
    {
     "data": {
      "text/plain": [
       "'Scott'"
      ]
     },
     "execution_count": 8,
     "metadata": {},
     "output_type": "execute_result"
    }
   ],
   "source": [
    "fake.last_name()"
   ]
  },
  {
   "cell_type": "code",
   "execution_count": 10,
   "id": "71e980b9",
   "metadata": {},
   "outputs": [
    {
     "data": {
      "text/plain": [
       "'Miguel'"
      ]
     },
     "execution_count": 10,
     "metadata": {},
     "output_type": "execute_result"
    }
   ],
   "source": [
    "fake.first_name_male()"
   ]
  },
  {
   "cell_type": "code",
   "execution_count": 11,
   "id": "1f404138",
   "metadata": {},
   "outputs": [
    {
     "data": {
      "text/plain": [
       "'Caitlyn'"
      ]
     },
     "execution_count": 11,
     "metadata": {},
     "output_type": "execute_result"
    }
   ],
   "source": [
    "fake.first_name_female()"
   ]
  },
  {
   "cell_type": "code",
   "execution_count": 12,
   "id": "d4f665fb",
   "metadata": {},
   "outputs": [
    {
     "data": {
      "text/plain": [
       "'71728 Jonathan Shore Apt. 584\\nNew Rebecca, RI 42061'"
      ]
     },
     "execution_count": 12,
     "metadata": {},
     "output_type": "execute_result"
    }
   ],
   "source": [
    "fake.address()"
   ]
  },
  {
   "cell_type": "code",
   "execution_count": 13,
   "id": "d4e11556",
   "metadata": {},
   "outputs": [
    {
     "name": "stdout",
     "output_type": "stream",
     "text": [
      "820 Kelly Street Suite 162\n",
      "North Travis, AZ 99326\n"
     ]
    }
   ],
   "source": [
    "print(fake.address())"
   ]
  },
  {
   "cell_type": "code",
   "execution_count": 14,
   "id": "983bd2e2",
   "metadata": {},
   "outputs": [
    {
     "data": {
      "text/plain": [
       "'964 Brian Avenue Apt. 131'"
      ]
     },
     "execution_count": 14,
     "metadata": {},
     "output_type": "execute_result"
    }
   ],
   "source": [
    "fake.street_address()"
   ]
  },
  {
   "cell_type": "code",
   "execution_count": 15,
   "id": "427839e8",
   "metadata": {},
   "outputs": [
    {
     "data": {
      "text/plain": [
       "'Brittanyport'"
      ]
     },
     "execution_count": 15,
     "metadata": {},
     "output_type": "execute_result"
    }
   ],
   "source": [
    "fake.city()"
   ]
  },
  {
   "cell_type": "code",
   "execution_count": 16,
   "id": "891efeae",
   "metadata": {},
   "outputs": [
    {
     "data": {
      "text/plain": [
       "'Oklahoma'"
      ]
     },
     "execution_count": 16,
     "metadata": {},
     "output_type": "execute_result"
    }
   ],
   "source": [
    "fake.state()"
   ]
  },
  {
   "cell_type": "code",
   "execution_count": 17,
   "id": "9f92ae11",
   "metadata": {},
   "outputs": [
    {
     "data": {
      "text/plain": [
       "'69764'"
      ]
     },
     "execution_count": 17,
     "metadata": {},
     "output_type": "execute_result"
    }
   ],
   "source": [
    "fake.postcode()"
   ]
  },
  {
   "cell_type": "code",
   "execution_count": 18,
   "id": "26b4caf4",
   "metadata": {},
   "outputs": [
    {
     "data": {
      "text/plain": [
       "'Scott, Cooley and Long'"
      ]
     },
     "execution_count": 18,
     "metadata": {},
     "output_type": "execute_result"
    }
   ],
   "source": [
    "fake.company()"
   ]
  },
  {
   "cell_type": "code",
   "execution_count": 20,
   "id": "1a80a210",
   "metadata": {},
   "outputs": [
    {
     "data": {
      "text/plain": [
       "'Triple-buffered demand-driven definition'"
      ]
     },
     "execution_count": 20,
     "metadata": {},
     "output_type": "execute_result"
    }
   ],
   "source": [
    "fake.catch_phrase()"
   ]
  },
  {
   "cell_type": "code",
   "execution_count": 21,
   "id": "295a03ea",
   "metadata": {},
   "outputs": [
    {
     "data": {
      "text/plain": [
       "'Buyer, industrial'"
      ]
     },
     "execution_count": 21,
     "metadata": {},
     "output_type": "execute_result"
    }
   ],
   "source": [
    "fake.job()"
   ]
  },
  {
   "cell_type": "code",
   "execution_count": 22,
   "id": "335a5b74",
   "metadata": {},
   "outputs": [
    {
     "data": {
      "text/plain": [
       "'https://randall.com/'"
      ]
     },
     "execution_count": 22,
     "metadata": {},
     "output_type": "execute_result"
    }
   ],
   "source": [
    "fake.url()"
   ]
  },
  {
   "cell_type": "code",
   "execution_count": 24,
   "id": "ddd2f23e",
   "metadata": {},
   "outputs": [
    {
     "data": {
      "text/plain": [
       "'jenniferkoch@example.org'"
      ]
     },
     "execution_count": 24,
     "metadata": {},
     "output_type": "execute_result"
    }
   ],
   "source": [
    "fake.email()"
   ]
  },
  {
   "cell_type": "code",
   "execution_count": 25,
   "id": "7e94e75d",
   "metadata": {},
   "outputs": [
    {
     "data": {
      "text/plain": [
       "'(330)548-5785x9119'"
      ]
     },
     "execution_count": 25,
     "metadata": {},
     "output_type": "execute_result"
    }
   ],
   "source": [
    "fake.phone_number()"
   ]
  },
  {
   "cell_type": "code",
   "execution_count": 26,
   "id": "01ef0f3b",
   "metadata": {},
   "outputs": [
    {
     "data": {
      "text/plain": [
       "'676143505466'"
      ]
     },
     "execution_count": 26,
     "metadata": {},
     "output_type": "execute_result"
    }
   ],
   "source": [
    "fake.credit_card_number()"
   ]
  },
  {
   "cell_type": "markdown",
   "id": "018ceb0b",
   "metadata": {},
   "source": [
    "# D.3 가짜 값으로 DataFrame 채우기"
   ]
  },
  {
   "cell_type": "code",
   "execution_count": 27,
   "id": "a94fa90e",
   "metadata": {},
   "outputs": [
    {
     "name": "stdout",
     "output_type": "stream",
     "text": [
      "0\n",
      "1\n",
      "2\n",
      "3\n",
      "4\n"
     ]
    }
   ],
   "source": [
    "for i in range(5):\n",
    "    print(i)"
   ]
  },
  {
   "cell_type": "code",
   "execution_count": 29,
   "id": "024195b8",
   "metadata": {},
   "outputs": [
    {
     "data": {
      "text/plain": [
       "'KellyRamirez@gmail.com'"
      ]
     },
     "execution_count": 29,
     "metadata": {},
     "output_type": "execute_result"
    }
   ],
   "source": [
    "first_name = fake.first_name_female()\n",
    "last_name = fake.last_name()\n",
    "email = first_name + last_name + '@gmail.com'\n",
    "email"
   ]
  },
  {
   "cell_type": "code",
   "execution_count": 30,
   "id": "aeb16b41",
   "metadata": {},
   "outputs": [],
   "source": [
    "data = [\n",
    "    { 'Name': fake.name(),\n",
    "      'Company': fake.company(),\n",
    "      'Email': fake.email(),\n",
    "      'Salary': np.random.randint(50000, 200000)\n",
    "    }\n",
    "    for i in range(1000)\n",
    "]"
   ]
  },
  {
   "cell_type": "code",
   "execution_count": 32,
   "id": "820d149a",
   "metadata": {},
   "outputs": [
    {
     "data": {
      "text/html": [
       "<div>\n",
       "<style scoped>\n",
       "    .dataframe tbody tr th:only-of-type {\n",
       "        vertical-align: middle;\n",
       "    }\n",
       "\n",
       "    .dataframe tbody tr th {\n",
       "        vertical-align: top;\n",
       "    }\n",
       "\n",
       "    .dataframe thead th {\n",
       "        text-align: right;\n",
       "    }\n",
       "</style>\n",
       "<table border=\"1\" class=\"dataframe\">\n",
       "  <thead>\n",
       "    <tr style=\"text-align: right;\">\n",
       "      <th></th>\n",
       "      <th>Name</th>\n",
       "      <th>Company</th>\n",
       "      <th>Email</th>\n",
       "      <th>Salary</th>\n",
       "    </tr>\n",
       "  </thead>\n",
       "  <tbody>\n",
       "    <tr>\n",
       "      <th>0</th>\n",
       "      <td>Emma Marshall</td>\n",
       "      <td>Young-Smith</td>\n",
       "      <td>smithlogan@example.org</td>\n",
       "      <td>69201</td>\n",
       "    </tr>\n",
       "    <tr>\n",
       "      <th>1</th>\n",
       "      <td>Laura Waters</td>\n",
       "      <td>Johnson PLC</td>\n",
       "      <td>lholmes@example.net</td>\n",
       "      <td>122200</td>\n",
       "    </tr>\n",
       "    <tr>\n",
       "      <th>2</th>\n",
       "      <td>Jared Little</td>\n",
       "      <td>Brown and Sons</td>\n",
       "      <td>vickie45@example.net</td>\n",
       "      <td>80139</td>\n",
       "    </tr>\n",
       "    <tr>\n",
       "      <th>3</th>\n",
       "      <td>Heather Flores</td>\n",
       "      <td>White PLC</td>\n",
       "      <td>joseph39@example.net</td>\n",
       "      <td>57078</td>\n",
       "    </tr>\n",
       "    <tr>\n",
       "      <th>4</th>\n",
       "      <td>Ronald Norman</td>\n",
       "      <td>French, Salinas and Tucker</td>\n",
       "      <td>joshuajackson@example.org</td>\n",
       "      <td>109391</td>\n",
       "    </tr>\n",
       "    <tr>\n",
       "      <th>...</th>\n",
       "      <td>...</td>\n",
       "      <td>...</td>\n",
       "      <td>...</td>\n",
       "      <td>...</td>\n",
       "    </tr>\n",
       "    <tr>\n",
       "      <th>995</th>\n",
       "      <td>Mark Atkins</td>\n",
       "      <td>Miller, Harris and Kelly</td>\n",
       "      <td>lewiskimberly@example.com</td>\n",
       "      <td>141342</td>\n",
       "    </tr>\n",
       "    <tr>\n",
       "      <th>996</th>\n",
       "      <td>Luke Meyer</td>\n",
       "      <td>Collins-Gray</td>\n",
       "      <td>gamblepamela@example.org</td>\n",
       "      <td>52864</td>\n",
       "    </tr>\n",
       "    <tr>\n",
       "      <th>997</th>\n",
       "      <td>Deborah Dorsey</td>\n",
       "      <td>Green PLC</td>\n",
       "      <td>longjorge@example.org</td>\n",
       "      <td>146010</td>\n",
       "    </tr>\n",
       "    <tr>\n",
       "      <th>998</th>\n",
       "      <td>Diane Herman</td>\n",
       "      <td>Zimmerman-Allen</td>\n",
       "      <td>danielle52@example.com</td>\n",
       "      <td>156264</td>\n",
       "    </tr>\n",
       "    <tr>\n",
       "      <th>999</th>\n",
       "      <td>David Deleon</td>\n",
       "      <td>Taylor, Young and Black</td>\n",
       "      <td>samanthapatterson@example.org</td>\n",
       "      <td>130304</td>\n",
       "    </tr>\n",
       "  </tbody>\n",
       "</table>\n",
       "<p>1000 rows × 4 columns</p>\n",
       "</div>"
      ],
      "text/plain": [
       "               Name                     Company  \\\n",
       "0     Emma Marshall                 Young-Smith   \n",
       "1      Laura Waters                 Johnson PLC   \n",
       "2      Jared Little              Brown and Sons   \n",
       "3    Heather Flores                   White PLC   \n",
       "4     Ronald Norman  French, Salinas and Tucker   \n",
       "..              ...                         ...   \n",
       "995     Mark Atkins    Miller, Harris and Kelly   \n",
       "996      Luke Meyer                Collins-Gray   \n",
       "997  Deborah Dorsey                   Green PLC   \n",
       "998    Diane Herman             Zimmerman-Allen   \n",
       "999    David Deleon     Taylor, Young and Black   \n",
       "\n",
       "                             Email  Salary  \n",
       "0           smithlogan@example.org   69201  \n",
       "1              lholmes@example.net  122200  \n",
       "2             vickie45@example.net   80139  \n",
       "3             joseph39@example.net   57078  \n",
       "4        joshuajackson@example.org  109391  \n",
       "..                             ...     ...  \n",
       "995      lewiskimberly@example.com  141342  \n",
       "996       gamblepamela@example.org   52864  \n",
       "997          longjorge@example.org  146010  \n",
       "998         danielle52@example.com  156264  \n",
       "999  samanthapatterson@example.org  130304  \n",
       "\n",
       "[1000 rows x 4 columns]"
      ]
     },
     "execution_count": 32,
     "metadata": {},
     "output_type": "execute_result"
    }
   ],
   "source": [
    "df = pd.DataFrame(data = data)\n",
    "df"
   ]
  },
  {
   "cell_type": "code",
   "execution_count": null,
   "id": "7df93e45",
   "metadata": {},
   "outputs": [],
   "source": []
  }
 ],
 "metadata": {
  "kernelspec": {
   "display_name": "Python 3 (ipykernel)",
   "language": "python",
   "name": "python3"
  },
  "language_info": {
   "codemirror_mode": {
    "name": "ipython",
    "version": 3
   },
   "file_extension": ".py",
   "mimetype": "text/x-python",
   "name": "python",
   "nbconvert_exporter": "python",
   "pygments_lexer": "ipython3",
   "version": "3.9.7"
  }
 },
 "nbformat": 4,
 "nbformat_minor": 5
}
