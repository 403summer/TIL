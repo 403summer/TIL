{
 "cells": [
  {
   "cell_type": "markdown",
   "id": "af074a6d",
   "metadata": {},
   "source": [
    "# 기본 사용"
   ]
  },
  {
   "cell_type": "code",
   "execution_count": 2,
   "id": "bb09ebd8",
   "metadata": {},
   "outputs": [
    {
     "data": {
      "image/png": "[encoded data removed]",
      "text/plain": [
       "<Figure size 432x288 with 1 Axes>"
      ]
     },
     "metadata": {
      "needs_background": "light"
     },
     "output_type": "display_data"
    }
   ],
   "source": [
    "import matplotlib.pyplot as plt\n",
    "import numpy as np\n",
    "\n",
    "x = np.arange(3)\n",
    "years = ['2018', '2019', '2020']\n",
    "values = [100, 400, 900]\n",
    "\n",
    "plt.bar(x, values)\n",
    "plt.xticks(x, years)\n",
    "\n",
    "plt.show()"
   ]
  },
  {
   "cell_type": "markdown",
   "id": "8e7d1ef3",
   "metadata": {},
   "source": [
    "# 색상 지정하기"
   ]
  },
  {
   "cell_type": "code",
   "execution_count": 4,
   "id": "c59e7e29",
   "metadata": {},
   "outputs": [
    {
     "data": {
      "image/png": "[encoded data removed]",
      "text/plain": [
       "<Figure size 432x288 with 1 Axes>"
      ]
     },
     "metadata": {
      "needs_background": "light"
     },
     "output_type": "display_data"
    }
   ],
   "source": [
    "x = np.arange(3)\n",
    "years = ['2018', '2019', '2020']\n",
    "values = [100, 400, 900]\n",
    "\n",
    "plt.bar(x, values, color = 'y')\n",
    "# plt.bar(x, values, color = 'dodgerblue')\n",
    "# plt.bar(x, values, color = 'C2')\n",
    "# plt.bar(x, values, color = '#e35f62')\n",
    "plt.xticks(x, years)\n",
    "\n",
    "plt.show()"
   ]
  },
  {
   "cell_type": "code",
   "execution_count": 5,
   "id": "7063a639",
   "metadata": {},
   "outputs": [
    {
     "data": {
      "image/png": "[encoded data removed]",
      "text/plain": [
       "<Figure size 432x288 with 1 Axes>"
      ]
     },
     "metadata": {
      "needs_background": "light"
     },
     "output_type": "display_data"
    }
   ],
   "source": [
    "x = np.arange(3)\n",
    "years = ['2018', '2019', '2020']\n",
    "values = [100, 400, 900]\n",
    "colors = ['y', 'dodgerblue', 'C2']\n",
    "\n",
    "plt.bar(x, values, color = colors)\n",
    "plt.xticks(x, years)\n",
    "\n",
    "plt.show()"
   ]
  },
  {
   "cell_type": "markdown",
   "id": "f410bed4",
   "metadata": {},
   "source": [
    "# 막대 폭 지정하기"
   ]
  },
  {
   "cell_type": "code",
   "execution_count": 6,
   "id": "839f50c2",
   "metadata": {},
   "outputs": [
    {
     "data": {
      "image/png": "[encoded data removed]",
      "text/plain": [
       "<Figure size 432x288 with 1 Axes>"
      ]
     },
     "metadata": {
      "needs_background": "light"
     },
     "output_type": "display_data"
    }
   ],
   "source": [
    "x = np.arange(3)\n",
    "years = ['2018', '2019', '2020']\n",
    "values = [100, 400, 900]\n",
    "\n",
    "plt.bar(x, values, width = 0.4)\n",
    "# plt.bar(x, values, width = 0.6)\n",
    "# plt.bar(x, values, width = 0.8)\n",
    "# plt.bar(x, values, width = 1.0)\n",
    "plt.xticks(x, years)\n",
    "\n",
    "plt.show()"
   ]
  },
  {
   "cell_type": "markdown",
   "id": "52887271",
   "metadata": {},
   "source": [
    "# 스타일 꾸미기"
   ]
  },
  {
   "cell_type": "code",
   "execution_count": 7,
   "id": "3ff29cd2",
   "metadata": {},
   "outputs": [
    {
     "data": {
      "image/png": "[encoded data removed]",
      "text/plain": [
       "<Figure size 432x288 with 1 Axes>"
      ]
     },
     "metadata": {
      "needs_background": "light"
     },
     "output_type": "display_data"
    }
   ],
   "source": [
    "x = np.arange(3)\n",
    "years = ['2018', '2019', '2020']\n",
    "values = [100, 400, 900]\n",
    "\n",
    "plt.bar(x, values, align = 'edge', edgecolor = 'lightgray',\n",
    "       linewidth = 5, tick_label = years)\n",
    "\n",
    "plt.show()"
   ]
  },
  {
   "cell_type": "code",
   "execution_count": null,
   "id": "ad768af0",
   "metadata": {},
   "outputs": [],
   "source": []
  }
 ],
 "metadata": {
  "kernelspec": {
   "display_name": "Python 3 (ipykernel)",
   "language": "python",
   "name": "python3"
  },
  "language_info": {
   "codemirror_mode": {
    "name": "ipython",
    "version": 3
   },
   "file_extension": ".py",
   "mimetype": "text/x-python",
   "name": "python",
   "nbconvert_exporter": "python",
   "pygments_lexer": "ipython3",
   "version": "3.9.7"
  }
 },
 "nbformat": 4,
 "nbformat_minor": 5
}
