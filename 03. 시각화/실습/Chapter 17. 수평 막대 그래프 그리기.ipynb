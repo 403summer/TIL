{
 "cells": [
  {
   "cell_type": "markdown",
   "id": "a28a2dc0",
   "metadata": {},
   "source": [
    "# 기본 사용"
   ]
  },
  {
   "cell_type": "code",
   "execution_count": 1,
   "id": "376dfb90",
   "metadata": {},
   "outputs": [
    {
     "data": {
      "image/png": "[encoded data removed]",
      "text/plain": [
       "<Figure size 432x288 with 1 Axes>"
      ]
     },
     "metadata": {
      "needs_background": "light"
     },
     "output_type": "display_data"
    }
   ],
   "source": [
    "import matplotlib.pyplot as plt\n",
    "import numpy as np\n",
    "\n",
    "y = np.arange(3)\n",
    "years = ['2018', '2019', '2020']\n",
    "values = [100, 400, 900]\n",
    "\n",
    "plt.barh(y, values)\n",
    "plt.yticks(y, years)\n",
    "\n",
    "plt.show()"
   ]
  },
  {
   "cell_type": "markdown",
   "id": "0bc48ad8",
   "metadata": {},
   "source": [
    "# 색상 지정하기"
   ]
  },
  {
   "cell_type": "code",
   "execution_count": 2,
   "id": "e9d709d7",
   "metadata": {},
   "outputs": [
    {
     "data": {
      "image/png": "[encoded data removed]",
      "text/plain": [
       "<Figure size 432x288 with 1 Axes>"
      ]
     },
     "metadata": {
      "needs_background": "light"
     },
     "output_type": "display_data"
    }
   ],
   "source": [
    "y = np.arange(3)\n",
    "years = ['2018', '2019', '2020']\n",
    "values = [100, 400, 900]\n",
    "\n",
    "plt.barh(y, values, color = 'y')\n",
    "# plt.barh(y, values, color = 'dodgerblue')\n",
    "# plt.barh(y, values, color = 'C2')\n",
    "# plt.barh(y, values, color = '#e35f62')\n",
    "plt.yticks(y, years)\n",
    "\n",
    "plt.show()"
   ]
  },
  {
   "cell_type": "code",
   "execution_count": 3,
   "id": "5942d190",
   "metadata": {},
   "outputs": [
    {
     "data": {
      "image/png": "[encoded data removed]",
      "text/plain": [
       "<Figure size 432x288 with 1 Axes>"
      ]
     },
     "metadata": {
      "needs_background": "light"
     },
     "output_type": "display_data"
    }
   ],
   "source": [
    "y = np.arange(3)\n",
    "years = ['2018', '2019', '2020']\n",
    "values = [100, 400, 900]\n",
    "colors = ['y', 'dodgerblue', 'C2']\n",
    "\n",
    "plt.barh(y, values, color = colors)\n",
    "plt.yticks(y, years)\n",
    "\n",
    "plt.show()"
   ]
  },
  {
   "cell_type": "markdown",
   "id": "e1237663",
   "metadata": {},
   "source": [
    "# 막대 높이 지정하기"
   ]
  },
  {
   "cell_type": "code",
   "execution_count": 4,
   "id": "fd091025",
   "metadata": {},
   "outputs": [
    {
     "data": {
      "image/png": "[encoded data removed]",
      "text/plain": [
       "<Figure size 432x288 with 1 Axes>"
      ]
     },
     "metadata": {
      "needs_background": "light"
     },
     "output_type": "display_data"
    }
   ],
   "source": [
    "y = np.arange(3)\n",
    "years = ['2018', '2019', '2020']\n",
    "values = [100, 400, 900]\n",
    "\n",
    "plt.barh(y, values, height = 0.4)\n",
    "# plt.barh(y, values, height = 0.6)\n",
    "# plt.barh(y, values, height = 0.8)\n",
    "# plt.barh(y, values, height = 1.0)\n",
    "plt.yticks(y, years)\n",
    "\n",
    "plt.show()"
   ]
  },
  {
   "cell_type": "markdown",
   "id": "b11174fc",
   "metadata": {},
   "source": [
    "# 스타일 꾸미기"
   ]
  },
  {
   "cell_type": "code",
   "execution_count": 5,
   "id": "747ce900",
   "metadata": {},
   "outputs": [
    {
     "data": {
      "image/png": "[encoded data removed]",
      "text/plain": [
       "<Figure size 432x288 with 1 Axes>"
      ]
     },
     "metadata": {
      "needs_background": "light"
     },
     "output_type": "display_data"
    }
   ],
   "source": [
    "y = np.arange(3)\n",
    "years = ['2018', '2019', '2020']\n",
    "values = [100, 400, 900]\n",
    "\n",
    "plt.barh(y, values, align = 'edge', edgecolor = '#eee',\n",
    "        linewidth = 5, tick_label = years)\n",
    "plt.show()"
   ]
  },
  {
   "cell_type": "code",
   "execution_count": null,
   "id": "483de12a",
   "metadata": {},
   "outputs": [],
   "source": []
  }
 ],
 "metadata": {
  "kernelspec": {
   "display_name": "Python 3 (ipykernel)",
   "language": "python",
   "name": "python3"
  },
  "language_info": {
   "codemirror_mode": {
    "name": "ipython",
    "version": 3
   },
   "file_extension": ".py",
   "mimetype": "text/x-python",
   "name": "python",
   "nbconvert_exporter": "python",
   "pygments_lexer": "ipython3",
   "version": "3.9.7"
  }
 },
 "nbformat": 4,
 "nbformat_minor": 5
}
