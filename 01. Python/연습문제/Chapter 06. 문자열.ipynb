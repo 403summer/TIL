{
 "cells": [
  {
   "cell_type": "code",
   "execution_count": 1,
   "id": "06c34295",
   "metadata": {},
   "outputs": [
    {
     "name": "stdout",
     "output_type": "stream",
     "text": [
      "ab\n"
     ]
    }
   ],
   "source": [
    "# 1 실행결과로 알맞은 것은?\n",
    "\n",
    "a = 11\n",
    "b = 9\n",
    "\n",
    "print('a' + 'b')\n",
    "\n",
    "# 해설: a 와 'a' 는 다르다"
   ]
  },
  {
   "cell_type": "code",
   "execution_count": 6,
   "id": "1707777d",
   "metadata": {},
   "outputs": [
    {
     "name": "stdout",
     "output_type": "stream",
     "text": [
      "21\n"
     ]
    }
   ],
   "source": [
    "# 2 실행결과로 알맞은 것은?\n",
    "\n",
    "fact = 'Python is funny'\n",
    "\n",
    "print(str(fact.count('n') + fact.find('n') + fact.rfind('n')))\n",
    "\n",
    "# 해설: 문자열 함수 참고"
   ]
  },
  {
   "cell_type": "code",
   "execution_count": 7,
   "id": "2b8e4d1b",
   "metadata": {},
   "outputs": [
    {
     "name": "stdout",
     "output_type": "stream",
     "text": [
      "Gachon Human\n"
     ]
    }
   ],
   "source": [
    "# 3 실행결과로 알맞은 것은?\n",
    "\n",
    "text = 'Gachon Cs50 - programming with python'\n",
    "text2 = 'Human cs50 knowledge belongs to the world'\n",
    "\n",
    "text.lower()\n",
    "\n",
    "print(text[:5] + text[-1] + text[6] + text2.split()[0])"
   ]
  },
  {
   "cell_type": "code",
   "execution_count": 8,
   "id": "4acc589a",
   "metadata": {},
   "outputs": [
    {
     "name": "stdout",
     "output_type": "stream",
     "text": [
      "introduction programming with python\n"
     ]
    }
   ],
   "source": [
    "# 4 실행결과로 알맞은 것은?\n",
    "\n",
    "class_name = 'introduction programming with python'\n",
    "\n",
    "for i in class_name:\n",
    "    if i == 'python':\n",
    "        i = i.upper()\n",
    "        \n",
    "print(class_name)"
   ]
  },
  {
   "cell_type": "code",
   "execution_count": 9,
   "id": "ee5c028e",
   "metadata": {},
   "outputs": [
    {
     "name": "stdout",
     "output_type": "stream",
     "text": [
      "1010102\n"
     ]
    }
   ],
   "source": [
    "# 5 실행결과를 쓰시오\n",
    "\n",
    "a = '10'\n",
    "b = '5-2'.split('-')[1]\n",
    "\n",
    "print(a * 3 + b)"
   ]
  },
  {
   "cell_type": "code",
   "execution_count": 10,
   "id": "9708efbe",
   "metadata": {},
   "outputs": [
    {
     "name": "stdout",
     "output_type": "stream",
     "text": [
      "REMEMBER 0416\n"
     ]
    }
   ],
   "source": [
    "# 6 실행결과를 쓰시오\n",
    "\n",
    "name = 'Hanbit'\n",
    "a = name.find('H')\n",
    "b = name.count('H') * 4\n",
    "c = len(name) * 2 + 4\n",
    "print('REMEMBER', str(a) + str(b) + str(c))"
   ]
  },
  {
   "cell_type": "code",
   "execution_count": 12,
   "id": "fa1426eb",
   "metadata": {},
   "outputs": [
    {
     "name": "stdout",
     "output_type": "stream",
     "text": [
      "aa\n"
     ]
    }
   ],
   "source": [
    "# 7 실행결과를 쓰시오\n",
    "\n",
    "a = 'abcd e f g'\n",
    "b = a.split()\n",
    "c = (a[:3][0])\n",
    "d = (b[:3][0][0])\n",
    "\n",
    "print(c + d)"
   ]
  },
  {
   "cell_type": "code",
   "execution_count": 15,
   "id": "1972865a",
   "metadata": {},
   "outputs": [
    {
     "name": "stdout",
     "output_type": "stream",
     "text": [
      "I eat 10 oranges every day.\n",
      "I eat 10 oranges every tree day.\n"
     ]
    }
   ],
   "source": [
    "# 8 빈칸에 코드를 작성하시오\n",
    "\n",
    "number = 10\n",
    "day = 3\n",
    "print('I eat %d oranges every day.' % number)\n",
    "\n",
    "number = 10\n",
    "day = 'tree'\n",
    "print('I eat %d oranges every %s day.' %(number, day))"
   ]
  },
  {
   "cell_type": "code",
   "execution_count": 16,
   "id": "4f7a57d5",
   "metadata": {},
   "outputs": [
    {
     "name": "stdout",
     "output_type": "stream",
     "text": [
      "8,1\n"
     ]
    }
   ],
   "source": [
    "# 9 실행결과를 쓰시오\n",
    "\n",
    "result = 'CODE2018'\n",
    "print('{0},{1}'.format(result[-1],result[-2]))"
   ]
  },
  {
   "cell_type": "code",
   "execution_count": 18,
   "id": "58189494",
   "metadata": {},
   "outputs": [
    {
     "name": "stdout",
     "output_type": "stream",
     "text": [
      "This Is PYTHON\n"
     ]
    }
   ],
   "source": [
    "# 10 빈칸에 코드를 작성하시오\n",
    "\n",
    "str_a = 'this is'\n",
    "str_b = 'PythoN'\n",
    "print(str_a.title() + ' ' + str_b.upper())"
   ]
  },
  {
   "cell_type": "code",
   "execution_count": 20,
   "id": "e9de8c5a",
   "metadata": {},
   "outputs": [
    {
     "data": {
      "text/plain": [
       "'\\ncapitalize() : 첫 문자를 대문자로 변환\\ntitle() : 각 단어의 앞글자만 대문자로 변환\\nstrip() : 좌우 공백 삭제\\nisdigit() : 문자열이 숫자인지 여부 반환\\nupper() : 대문자로 변환'"
      ]
     },
     "execution_count": 20,
     "metadata": {},
     "output_type": "execute_result"
    }
   ],
   "source": [
    "# 11 \n",
    "'''\n",
    "capitalize() : 첫 문자를 대문자로 변환\n",
    "title() : 각 단어의 앞글자만 대문자로 변환\n",
    "strip() : 좌우 공백 삭제\n",
    "isdigit() : 문자열이 숫자인지 여부 반환\n",
    "upper() : 대문자로 변환'''"
   ]
  },
  {
   "cell_type": "code",
   "execution_count": 28,
   "id": "30142ec0",
   "metadata": {},
   "outputs": [
    {
     "name": "stdout",
     "output_type": "stream",
     "text": [
      "     *\n",
      "    ***\n",
      "   *****\n",
      "  *******\n",
      " *********\n",
      "***********\n"
     ]
    }
   ],
   "source": [
    "# 12 서식지정을 사용하여 코드를 작성하시오\n",
    "\n",
    "print('{0:>6s}'.format('*'))\n",
    "print('{0:>7s}'.format('***'))\n",
    "print('{0:>8s}'.format('*****'))\n",
    "print('{0:>9s}'.format('*******'))\n",
    "print('{0:>10s}'.format('*********'))\n",
    "print('{0:>11s}'.format('***********'))"
   ]
  },
  {
   "cell_type": "code",
   "execution_count": 29,
   "id": "629a08f6",
   "metadata": {},
   "outputs": [
    {
     "name": "stdout",
     "output_type": "stream",
     "text": [
      "     Apple\n"
     ]
    }
   ],
   "source": [
    "# 13 다음 코드의 의미를 설명하시오\n",
    "\n",
    "print('{0:>10s}'.format('Apple'))\n",
    "\n",
    "# 해설 : 10칸 확보하고 오른쪽 정렬"
   ]
  },
  {
   "cell_type": "code",
   "execution_count": 30,
   "id": "c2579c32",
   "metadata": {},
   "outputs": [
    {
     "data": {
      "text/plain": [
       "'\\n패딩 : 여유 공간을 지정하여 글자 배열을 맞추고 소수점 자릿수를 맞추는 기능\\n네이밍 : 변수명을 서식에 할당할 수 있는 기능\\n'"
      ]
     },
     "execution_count": 30,
     "metadata": {},
     "output_type": "execute_result"
    }
   ],
   "source": [
    "# 14 서식지정 기능에서 패딩과 네이밍의 차이를 서술하시오\n",
    "\n",
    "'''\n",
    "패딩 : 여유 공간을 지정하여 글자 배열을 맞추고 소수점 자릿수를 맞추는 기능\n",
    "네이밍 : 변수명을 서식에 할당할 수 있는 기능\n",
    "'''"
   ]
  },
  {
   "cell_type": "code",
   "execution_count": null,
   "id": "5591451d",
   "metadata": {},
   "outputs": [],
   "source": []
  }
 ],
 "metadata": {
  "kernelspec": {
   "display_name": "Python 3 (ipykernel)",
   "language": "python",
   "name": "python3"
  },
  "language_info": {
   "codemirror_mode": {
    "name": "ipython",
    "version": 3
   },
   "file_extension": ".py",
   "mimetype": "text/x-python",
   "name": "python",
   "nbconvert_exporter": "python",
   "pygments_lexer": "ipython3",
   "version": "3.9.7"
  }
 },
 "nbformat": 4,
 "nbformat_minor": 5
}
