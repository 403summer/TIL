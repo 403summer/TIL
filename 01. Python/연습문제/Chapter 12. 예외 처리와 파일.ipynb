{
 "cells": [
  {
   "cell_type": "code",
   "execution_count": 13,
   "id": "ed21ced3",
   "metadata": {},
   "outputs": [
    {
     "data": {
      "text/plain": [
       "<function TextIOWrapper.close()>"
      ]
     },
     "execution_count": 13,
     "metadata": {},
     "output_type": "execute_result"
    }
   ],
   "source": [
    "# 1. 빈 칸에 들어가야하는 코드를 쓰시오\n",
    "\n",
    "f = open('hello_Python.txt', 'w', encoding = 'utf-8')\n",
    "f.write('hello, world!')\n",
    "f.close"
   ]
  },
  {
   "cell_type": "code",
   "execution_count": 4,
   "id": "d622996e",
   "metadata": {},
   "outputs": [
    {
     "name": "stdout",
     "output_type": "stream",
     "text": [
      "\n"
     ]
    },
    {
     "data": {
      "text/plain": [
       "<function TextIOWrapper.close()>"
      ]
     },
     "execution_count": 4,
     "metadata": {},
     "output_type": "execute_result"
    }
   ],
   "source": [
    "f = open('hello_Python.txt', 'a')\n",
    "f.write('\\nhello, python!')\n",
    "f.close"
   ]
  },
  {
   "cell_type": "code",
   "execution_count": 1,
   "id": "f358db33",
   "metadata": {},
   "outputs": [
    {
     "ename": "OSError",
     "evalue": "[Errno 22] Invalid argument: '<파일 이름>'",
     "output_type": "error",
     "traceback": [
      "\u001b[1;31m---------------------------------------------------------------------------\u001b[0m",
      "\u001b[1;31mOSError\u001b[0m                                   Traceback (most recent call last)",
      "\u001b[1;32m~\\AppData\\Local\\Temp/ipykernel_2424/1121894352.py\u001b[0m in \u001b[0;36m<module>\u001b[1;34m\u001b[0m\n\u001b[0;32m      2\u001b[0m \u001b[1;33m\u001b[0m\u001b[0m\n\u001b[0;32m      3\u001b[0m \u001b[1;31m# 쓰기 모드\u001b[0m\u001b[1;33m\u001b[0m\u001b[1;33m\u001b[0m\u001b[0m\n\u001b[1;32m----> 4\u001b[1;33m \u001b[0mf\u001b[0m \u001b[1;33m=\u001b[0m \u001b[0mopen\u001b[0m\u001b[1;33m(\u001b[0m\u001b[1;34m'<파일 이름>'\u001b[0m\u001b[1;33m,\u001b[0m \u001b[1;34m'w'\u001b[0m\u001b[1;33m)\u001b[0m\u001b[1;33m\u001b[0m\u001b[1;33m\u001b[0m\u001b[0m\n\u001b[0m\u001b[0;32m      5\u001b[0m \u001b[0mf\u001b[0m\u001b[1;33m.\u001b[0m\u001b[0mclose\u001b[0m\u001b[1;33m(\u001b[0m\u001b[1;33m)\u001b[0m\u001b[1;33m\u001b[0m\u001b[1;33m\u001b[0m\u001b[0m\n\u001b[0;32m      6\u001b[0m \u001b[1;33m\u001b[0m\u001b[0m\n",
      "\u001b[1;31mOSError\u001b[0m: [Errno 22] Invalid argument: '<파일 이름>'"
     ]
    }
   ],
   "source": [
    "# 2. 파일 열기 모드에 따라 들어갈 값을 쓰시오\n",
    "\n",
    "# 쓰기 모드\n",
    "f = open('<파일 이름>', 'w')\n",
    "f.close()\n",
    "\n",
    "# 추가 모드\n",
    "f = open('<파일 이름>', 'a')\n",
    "f.close()\n",
    "\n",
    "# 읽기 모드\n",
    "f = open('<파일 이름>', 'r')\n",
    "f.close()"
   ]
  },
  {
   "cell_type": "code",
   "execution_count": 7,
   "id": "aef8ab8a",
   "metadata": {},
   "outputs": [
    {
     "ename": "AssertionError",
     "evalue": "output value must be transformed integer.",
     "output_type": "error",
     "traceback": [
      "\u001b[1;31m---------------------------------------------------------------------------\u001b[0m",
      "\u001b[1;31mAssertionError\u001b[0m                            Traceback (most recent call last)",
      "\u001b[1;32m~\\AppData\\Local\\Temp/ipykernel_2424/1626731703.py\u001b[0m in \u001b[0;36m<module>\u001b[1;34m\u001b[0m\n\u001b[0;32m      7\u001b[0m     \u001b[1;32mreturn\u001b[0m \u001b[0mresult\u001b[0m\u001b[1;33m\u001b[0m\u001b[1;33m\u001b[0m\u001b[0m\n\u001b[0;32m      8\u001b[0m \u001b[1;33m\u001b[0m\u001b[0m\n\u001b[1;32m----> 9\u001b[1;33m \u001b[0mprint\u001b[0m\u001b[1;33m(\u001b[0m\u001b[0mget_half_value\u001b[0m\u001b[1;33m(\u001b[0m\u001b[1;36m50\u001b[0m\u001b[1;33m)\u001b[0m\u001b[1;33m)\u001b[0m\u001b[1;33m\u001b[0m\u001b[1;33m\u001b[0m\u001b[0m\n\u001b[0m",
      "\u001b[1;32m~\\AppData\\Local\\Temp/ipykernel_2424/1626731703.py\u001b[0m in \u001b[0;36mget_half_value\u001b[1;34m(number)\u001b[0m\n\u001b[0;32m      4\u001b[0m     \u001b[1;32massert\u001b[0m \u001b[0misinstance\u001b[0m\u001b[1;33m(\u001b[0m\u001b[0mnumber\u001b[0m\u001b[1;33m,\u001b[0m\u001b[0mint\u001b[0m\u001b[1;33m)\u001b[0m\u001b[1;33m,\u001b[0m \u001b[1;34m'input value must be integer.'\u001b[0m\u001b[1;33m\u001b[0m\u001b[1;33m\u001b[0m\u001b[0m\n\u001b[0;32m      5\u001b[0m     \u001b[0mresult\u001b[0m \u001b[1;33m=\u001b[0m \u001b[0mnumber\u001b[0m \u001b[1;33m/\u001b[0m \u001b[1;36m2\u001b[0m\u001b[1;33m\u001b[0m\u001b[1;33m\u001b[0m\u001b[0m\n\u001b[1;32m----> 6\u001b[1;33m     \u001b[1;32massert\u001b[0m \u001b[0misinstance\u001b[0m\u001b[1;33m(\u001b[0m\u001b[0mresult\u001b[0m\u001b[1;33m,\u001b[0m \u001b[0mint\u001b[0m\u001b[1;33m)\u001b[0m\u001b[1;33m,\u001b[0m \u001b[1;34m'output value must be transformed integer.'\u001b[0m\u001b[1;33m\u001b[0m\u001b[1;33m\u001b[0m\u001b[0m\n\u001b[0m\u001b[0;32m      7\u001b[0m     \u001b[1;32mreturn\u001b[0m \u001b[0mresult\u001b[0m\u001b[1;33m\u001b[0m\u001b[1;33m\u001b[0m\u001b[0m\n\u001b[0;32m      8\u001b[0m \u001b[1;33m\u001b[0m\u001b[0m\n",
      "\u001b[1;31mAssertionError\u001b[0m: output value must be transformed integer."
     ]
    }
   ],
   "source": [
    "# 3. 실행결과를 쓰시오\n",
    "\n",
    "def get_half_value(number):\n",
    "    assert isinstance(number,int), 'input value must be integer.'\n",
    "    result = number / 2\n",
    "    assert isinstance(result, int), 'output value must be transformed integer.'\n",
    "    return result\n",
    "\n",
    "print(get_half_value(50))"
   ]
  },
  {
   "cell_type": "code",
   "execution_count": 12,
   "id": "eb83b049",
   "metadata": {},
   "outputs": [
    {
     "name": "stdout",
     "output_type": "stream",
     "text": [
      "5\n"
     ]
    }
   ],
   "source": [
    "# 4. 실행결과를 쓰시오\n",
    "\n",
    "def sum_data(list_data_a, list_data_b):\n",
    "    for i in list_data_a:\n",
    "        for j in list_data_b:\n",
    "            result = i+j\n",
    "        return result\n",
    "    \n",
    "a = [1,2]\n",
    "b = [3,4]\n",
    "\n",
    "print(sum_data(a,b))"
   ]
  },
  {
   "cell_type": "code",
   "execution_count": 13,
   "id": "1e2c0832",
   "metadata": {},
   "outputs": [
    {
     "name": "stdout",
     "output_type": "stream",
     "text": [
      "7\n",
      "3\n",
      "2\n",
      "1\n",
      "1\n",
      "1\n",
      "종료되었습니다\n"
     ]
    }
   ],
   "source": [
    "# 5. 실행결과를 쓰시오\n",
    "\n",
    "try:\n",
    "    for i in range(1,7):\n",
    "        result = 7 // i\n",
    "        print(result)\n",
    "except ZeroDivisionError:\n",
    "    print('Not diviede by 0')\n",
    "finally:\n",
    "    print('종료되었습니다')"
   ]
  },
  {
   "cell_type": "code",
   "execution_count": 20,
   "id": "f6d1d742",
   "metadata": {},
   "outputs": [
    {
     "name": "stdout",
     "output_type": "stream",
     "text": [
      "H\n",
      "e\n",
      "l\n",
      "l\n",
      "o\n",
      " \n",
      "G\n",
      "a\n",
      "c\n",
      "h\n",
      "o\n",
      "n\n",
      "pop from empty list\n"
     ]
    }
   ],
   "source": [
    "# 6. 실행결과를 쓰시오\n",
    "\n",
    "sentence = list('Hello Gachon')\n",
    "while (len(sentence) + 1):\n",
    "    try:\n",
    "        print(sentence.pop(0))\n",
    "    except Exception as e:\n",
    "        print(e)\n",
    "        break"
   ]
  },
  {
   "cell_type": "code",
   "execution_count": 21,
   "id": "5d92ecab",
   "metadata": {},
   "outputs": [
    {
     "name": "stdout",
     "output_type": "stream",
     "text": [
      "a\n",
      "2\n"
     ]
    },
    {
     "ename": "IndexError",
     "evalue": "tuple index out of range",
     "output_type": "error",
     "traceback": [
      "\u001b[1;31m---------------------------------------------------------------------------\u001b[0m",
      "\u001b[1;31mIndexError\u001b[0m                                Traceback (most recent call last)",
      "\u001b[1;32m~\\AppData\\Local\\Temp/ipykernel_2424/554290280.py\u001b[0m in \u001b[0;36m<module>\u001b[1;34m\u001b[0m\n\u001b[0;32m      4\u001b[0m \u001b[0mblist\u001b[0m \u001b[1;33m=\u001b[0m \u001b[1;33m[\u001b[0m\u001b[1;34m'b'\u001b[0m\u001b[1;33m,\u001b[0m \u001b[1;34m'2'\u001b[0m\u001b[1;33m,\u001b[0m \u001b[1;34m'd'\u001b[0m\u001b[1;33m]\u001b[0m\u001b[1;33m\u001b[0m\u001b[1;33m\u001b[0m\u001b[0m\n\u001b[0;32m      5\u001b[0m \u001b[1;32mfor\u001b[0m \u001b[0ma\u001b[0m\u001b[1;33m,\u001b[0m\u001b[0mb\u001b[0m \u001b[1;32min\u001b[0m \u001b[0menumerate\u001b[0m\u001b[1;33m(\u001b[0m\u001b[0mzip\u001b[0m\u001b[1;33m(\u001b[0m\u001b[0malist\u001b[0m\u001b[1;33m,\u001b[0m\u001b[0mblist\u001b[0m\u001b[1;33m)\u001b[0m\u001b[1;33m)\u001b[0m\u001b[1;33m:\u001b[0m\u001b[1;33m\u001b[0m\u001b[1;33m\u001b[0m\u001b[0m\n\u001b[1;32m----> 6\u001b[1;33m     \u001b[0mprint\u001b[0m\u001b[1;33m(\u001b[0m\u001b[0mb\u001b[0m\u001b[1;33m[\u001b[0m\u001b[0ma\u001b[0m\u001b[1;33m]\u001b[0m\u001b[1;33m)\u001b[0m\u001b[1;33m\u001b[0m\u001b[1;33m\u001b[0m\u001b[0m\n\u001b[0m",
      "\u001b[1;31mIndexError\u001b[0m: tuple index out of range"
     ]
    }
   ],
   "source": [
    "# 7. 실행결과를 쓰시오\n",
    "\n",
    "alist = ['a', '1', 'c']\n",
    "blist = ['b', '2', 'd']\n",
    "for a,b in enumerate(zip(alist,blist)):\n",
    "    print(b[a])"
   ]
  },
  {
   "cell_type": "code",
   "execution_count": 24,
   "id": "1a6c6f8a",
   "metadata": {},
   "outputs": [
    {
     "ename": "ValueError",
     "evalue": "invalid literal for int() with base 10: 'a'",
     "output_type": "error",
     "traceback": [
      "\u001b[1;31m---------------------------------------------------------------------------\u001b[0m",
      "\u001b[1;31mValueError\u001b[0m                                Traceback (most recent call last)",
      "\u001b[1;32m~\\AppData\\Local\\Temp/ipykernel_2424/4168959131.py\u001b[0m in \u001b[0;36m<module>\u001b[1;34m\u001b[0m\n\u001b[0;32m      2\u001b[0m \u001b[0mblist\u001b[0m \u001b[1;33m=\u001b[0m \u001b[1;33m[\u001b[0m\u001b[1;34m'b'\u001b[0m\u001b[1;33m,\u001b[0m \u001b[1;34m'2'\u001b[0m\u001b[1;33m,\u001b[0m \u001b[1;34m'd'\u001b[0m\u001b[1;33m]\u001b[0m\u001b[1;33m\u001b[0m\u001b[1;33m\u001b[0m\u001b[0m\n\u001b[0;32m      3\u001b[0m \u001b[1;32mfor\u001b[0m \u001b[0ma\u001b[0m\u001b[1;33m,\u001b[0m\u001b[0mb\u001b[0m \u001b[1;32min\u001b[0m \u001b[0menumerate\u001b[0m\u001b[1;33m(\u001b[0m\u001b[0mzip\u001b[0m\u001b[1;33m(\u001b[0m\u001b[0malist\u001b[0m\u001b[1;33m,\u001b[0m\u001b[0mblist\u001b[0m\u001b[1;33m)\u001b[0m\u001b[1;33m)\u001b[0m\u001b[1;33m:\u001b[0m\u001b[1;33m\u001b[0m\u001b[1;33m\u001b[0m\u001b[0m\n\u001b[1;32m----> 4\u001b[1;33m     \u001b[0mprint\u001b[0m\u001b[1;33m(\u001b[0m\u001b[0ma\u001b[0m\u001b[1;33m/\u001b[0m\u001b[0mint\u001b[0m\u001b[1;33m(\u001b[0m\u001b[0mb\u001b[0m\u001b[1;33m[\u001b[0m\u001b[1;36m0\u001b[0m\u001b[1;33m]\u001b[0m\u001b[1;33m)\u001b[0m\u001b[1;33m)\u001b[0m\u001b[1;33m\u001b[0m\u001b[1;33m\u001b[0m\u001b[0m\n\u001b[0m",
      "\u001b[1;31mValueError\u001b[0m: invalid literal for int() with base 10: 'a'"
     ]
    }
   ],
   "source": [
    "alist = ['a', '1', 'c']\n",
    "blist = ['b', '2', 'd']\n",
    "for a,b in enumerate(zip(alist,blist)):\n",
    "    print(a/int(b[0]))"
   ]
  },
  {
   "cell_type": "code",
   "execution_count": 25,
   "id": "3ff64edb",
   "metadata": {},
   "outputs": [],
   "source": [
    "# 8. 다음 중 예외의 이름과 내용이 잘못 짝지어진 것은?\n",
    "\n",
    "# 1. ZeroDivisionError : 0으로 숫자를 나눌 때\n",
    "# 2. ValueError : 변환할 수 없는 문자/숫자를 변환할 때\n",
    "# 3. IndexError: 리스트의 인덱스 범위를 넘어 갈 때\n",
    "# 4. SyntaxError : 조건문이나 변수에 오탈자가 존재할 때 (X. 파이썬 문법을 지키지 않았을때 발생)\n",
    "# 5. NameError: 존재하지 않은 변수를 호출할 때"
   ]
  },
  {
   "cell_type": "code",
   "execution_count": 26,
   "id": "8fa40671",
   "metadata": {},
   "outputs": [],
   "source": [
    "# 9. 파일과 폴더에 대한 설명으로 틀린 것은?\n",
    "\n",
    "# 1. 파일은 실행, 쓰기, 읽기 등을 할 수 있다.\n",
    "# 2. 파일은 컴퓨터에서 정보를 저장하는 논리적인 단위이다.\n",
    "# 3. 10개 이상의 파일을 가진 폴더를 디렉터리라고 한다. (X 10개라는 기준은 없디)\n",
    "# 4. 폴더는 파일과 다른 폴더를 포함할 수 있다.\n",
    "# 5. 파일은 파일명과 확장자로 식별된다."
   ]
  },
  {
   "cell_type": "code",
   "execution_count": 27,
   "id": "35b6e534",
   "metadata": {},
   "outputs": [],
   "source": [
    "# 10. 파일의 종류에 대한 설명으로 틀린 것은?\n",
    "\n",
    "# 1. 바이너리 파일은 컴퓨터만 이해할 수 있는 형태인 이진법 형식으로 저장된 파일을 말한다.\n",
    "# 2. 텍스트 파일의 예로 HTML, 파이썬 코드 파일 등을 들 수 있다.\n",
    "# 3. 바이너리 파일은 해당 확장자에 대한 파일을 열 수 있는 프로그램이 필요하다.(엑셀, 워드 등) \n",
    "# 4. 텍스트 파일의 경우 컴퓨터는 텍스트 파일 형태 그대로 처리가 가능하다. (X 이진수로 변환해야한다)\n",
    "# 5. 텍스트 파일은 사람도 이해할 수 있는 형태인 문자열 형식으로 저장도니 파일을 말한다."
   ]
  },
  {
   "cell_type": "code",
   "execution_count": 29,
   "id": "118f20ad",
   "metadata": {},
   "outputs": [
    {
     "name": "stdout",
     "output_type": "stream",
     "text": [
      "숫자를 넣어주세요:a\n",
      "숫자가 아닙니다.\n"
     ]
    }
   ],
   "source": [
    "# 11. 실행결과를 쓰시오\n",
    "\n",
    "import random\n",
    "answer = random.randint(1,10)\n",
    "def guess_number(answer):\n",
    "    try:\n",
    "        guess = int(input('숫자를 넣어주세요:'))\n",
    "        if answer == guess:\n",
    "            print('정답!')\n",
    "        else:\n",
    "            print('틀렸습니다')\n",
    "    except ValueError:\n",
    "        print('숫자가 아닙니다.')\n",
    "        \n",
    "guess_number(answer)"
   ]
  },
  {
   "cell_type": "code",
   "execution_count": 30,
   "id": "d187e958",
   "metadata": {},
   "outputs": [
    {
     "name": "stdout",
     "output_type": "stream",
     "text": [
      "Not divided by 0\n",
      "1 3\n",
      "2 1\n"
     ]
    }
   ],
   "source": [
    "# 12. 실행결과를 쓰시오\n",
    "\n",
    "for i in range(3):\n",
    "    try:\n",
    "        print(i,3//i)\n",
    "    except ZeroDivisionError:\n",
    "        print('Not divided by 0')"
   ]
  },
  {
   "cell_type": "code",
   "execution_count": 31,
   "id": "42a932e2",
   "metadata": {},
   "outputs": [
    {
     "ename": "FileNotFoundError",
     "evalue": "[Errno 2] No such file or directory: 'i_have_a_dream.txt'",
     "output_type": "error",
     "traceback": [
      "\u001b[1;31m---------------------------------------------------------------------------\u001b[0m",
      "\u001b[1;31mFileNotFoundError\u001b[0m                         Traceback (most recent call last)",
      "\u001b[1;32m~\\AppData\\Local\\Temp/ipykernel_2424/4234670084.py\u001b[0m in \u001b[0;36m<module>\u001b[1;34m\u001b[0m\n\u001b[0;32m      1\u001b[0m \u001b[1;31m# 13. 같은 기능을 하는 코드를 with 구문과 함께 사용해서 작성하시오\u001b[0m\u001b[1;33m\u001b[0m\u001b[1;33m\u001b[0m\u001b[0m\n\u001b[0;32m      2\u001b[0m \u001b[1;33m\u001b[0m\u001b[0m\n\u001b[1;32m----> 3\u001b[1;33m \u001b[0mf\u001b[0m \u001b[1;33m=\u001b[0m \u001b[0mopen\u001b[0m\u001b[1;33m(\u001b[0m\u001b[1;34m'i_have_a_dream.txt'\u001b[0m\u001b[1;33m,\u001b[0m\u001b[1;34m'r'\u001b[0m\u001b[1;33m)\u001b[0m\u001b[1;33m\u001b[0m\u001b[1;33m\u001b[0m\u001b[0m\n\u001b[0m\u001b[0;32m      4\u001b[0m \u001b[0mcontents\u001b[0m \u001b[1;33m=\u001b[0m \u001b[0mf\u001b[0m\u001b[1;33m.\u001b[0m\u001b[0mread\u001b[0m\u001b[1;33m(\u001b[0m\u001b[1;33m)\u001b[0m\u001b[1;33m\u001b[0m\u001b[1;33m\u001b[0m\u001b[0m\n\u001b[0;32m      5\u001b[0m \u001b[0mprint\u001b[0m\u001b[1;33m(\u001b[0m\u001b[0mcontents\u001b[0m\u001b[1;33m)\u001b[0m\u001b[1;33m\u001b[0m\u001b[1;33m\u001b[0m\u001b[0m\n",
      "\u001b[1;31mFileNotFoundError\u001b[0m: [Errno 2] No such file or directory: 'i_have_a_dream.txt'"
     ]
    }
   ],
   "source": [
    "# 13. 같은 기능을 하는 코드를 with 구문과 함께 사용해서 작성하시오\n",
    "\n",
    "f = open('i_have_a_dream.txt','r')\n",
    "contents = f.read()\n",
    "print(contents)\n",
    "f.close()"
   ]
  },
  {
   "cell_type": "code",
   "execution_count": 32,
   "id": "8243aabd",
   "metadata": {},
   "outputs": [
    {
     "ename": "FileNotFoundError",
     "evalue": "[Errno 2] No such file or directory: 'i_have_a_dream.txt'",
     "output_type": "error",
     "traceback": [
      "\u001b[1;31m---------------------------------------------------------------------------\u001b[0m",
      "\u001b[1;31mFileNotFoundError\u001b[0m                         Traceback (most recent call last)",
      "\u001b[1;32m~\\AppData\\Local\\Temp/ipykernel_2424/1585659031.py\u001b[0m in \u001b[0;36m<module>\u001b[1;34m\u001b[0m\n\u001b[1;32m----> 1\u001b[1;33m \u001b[1;32mwith\u001b[0m \u001b[0mopen\u001b[0m\u001b[1;33m(\u001b[0m\u001b[1;34m'i_have_a_dream.txt'\u001b[0m\u001b[1;33m,\u001b[0m\u001b[1;34m'r'\u001b[0m\u001b[1;33m)\u001b[0m \u001b[1;32mas\u001b[0m \u001b[0mmy_file\u001b[0m\u001b[1;33m:\u001b[0m\u001b[1;33m\u001b[0m\u001b[1;33m\u001b[0m\u001b[0m\n\u001b[0m\u001b[0;32m      2\u001b[0m     \u001b[0mcontents\u001b[0m \u001b[1;33m=\u001b[0m \u001b[0mmy_file\u001b[0m\u001b[1;33m.\u001b[0m\u001b[0mread\u001b[0m\u001b[1;33m(\u001b[0m\u001b[1;33m)\u001b[0m\u001b[1;33m\u001b[0m\u001b[1;33m\u001b[0m\u001b[0m\n\u001b[0;32m      3\u001b[0m     \u001b[0mprint\u001b[0m\u001b[1;33m(\u001b[0m\u001b[0mcontents\u001b[0m\u001b[1;33m)\u001b[0m\u001b[1;33m\u001b[0m\u001b[1;33m\u001b[0m\u001b[0m\n",
      "\u001b[1;31mFileNotFoundError\u001b[0m: [Errno 2] No such file or directory: 'i_have_a_dream.txt'"
     ]
    }
   ],
   "source": [
    "with open('i_have_a_dream.txt','r') as my_file:\n",
    "    contents = my_file.read()\n",
    "    print(contents)"
   ]
  },
  {
   "cell_type": "code",
   "execution_count": 33,
   "id": "3fc08201",
   "metadata": {},
   "outputs": [],
   "source": [
    "# 14. 바이너리 파일과 텍스트 파일에 대한 설명으로 틀린 것은?\n",
    "\n",
    "# 1. 텍스트 파일은 사람도 이해할 수 있는 형태로 저장된다.\n",
    "# 2. 메모장에 저장된 파일, HTML 파일, 파이썬 코드 파일 등은 모두 텍스트 파일이다.\n",
    "# 3. 텍스트 파일은 컴퓨터만 이해할 수 있는 형태인 이진 형식으로 저장된 파일이다. (X 이진형식으로 저장된 파일을 바이너리 파일이다,)\n",
    "# 4. 엑셀 파일, 워드 파일 등을 바이너리 파일이라고 부른다.\n",
    "# 5. 모든 텍스트 파일도 실제는 바이너리 파일로 아스키/유니코드 문자열 집합으로 저장된다."
   ]
  },
  {
   "cell_type": "code",
   "execution_count": null,
   "id": "13ea09f3",
   "metadata": {},
   "outputs": [],
   "source": []
  }
 ],
 "metadata": {
  "kernelspec": {
   "display_name": "Python 3 (ipykernel)",
   "language": "python",
   "name": "python3"
  },
  "language_info": {
   "codemirror_mode": {
    "name": "ipython",
    "version": 3
   },
   "file_extension": ".py",
   "mimetype": "text/x-python",
   "name": "python",
   "nbconvert_exporter": "python",
   "pygments_lexer": "ipython3",
   "version": "3.9.7"
  }
 },
 "nbformat": 4,
 "nbformat_minor": 5
}
