{
 "cells": [
  {
   "cell_type": "code",
   "execution_count": 1,
   "id": "aa1650c8",
   "metadata": {},
   "outputs": [],
   "source": [
    "# 1. 정규표현식에 대한 설명으로 틀린 것은?\n",
    "\n",
    "# 1. a, b는 a와 b라는 문자 사이에 어떤 문자가 들어와도 모두 매치 된다는 뜻이다.\n",
    "# 2. 정규 표현식에서 search() 함수는 패턴이 같은 데이터를 한 개만 찾고자 할 때 사용한다.\n",
    "# 3. 정규 표현식에서 추출된 패턴은 튜플로 반환된다. \n",
    "# 4. 정규 표현식은 특정 규칙이 있는 문자열의 집합을 추출하기 위해 사용한다.\n",
    "# 5. [python]은 정규 표현식에서 'python' 이라는 문자를 찾아 매치하라는 뜻이다. (X p,y,t,h,o,n 문자를 찾으라는 의미이다.)"
   ]
  },
  {
   "cell_type": "code",
   "execution_count": 2,
   "id": "902834b7",
   "metadata": {},
   "outputs": [],
   "source": [
    "# 2. HTML에 대한 설명으로 틀린 것은?\n",
    "\n",
    "# 1. 웹 상의 정보를 구체적으로 표현하기 위한 언어이다.\n",
    "# 2. tree 모양의 포함 관계를 맺는다.\n",
    "# 3. 웹에서 데이터를 송수신하기 위해 사용하는 형식이다.\n",
    "# 4. 일종의 프로그램으로, 페이지 생성 규칙이 있다. (X 일종의 언어이다.)\n",
    "# 5. 모든 요소는 태그를 사용하여 표시된다."
   ]
  },
  {
   "cell_type": "code",
   "execution_count": 3,
   "id": "720133bc",
   "metadata": {},
   "outputs": [],
   "source": [
    "# 3. 정규 표현식에 대한 설명으로 옳은 것은?\n",
    "\n",
    "# 1. .은 줄 바꿈인 '\\n' 과 '\\t' 를 제외한 모든 문자와 매치된다. ((.)은 줄 바꿈을 제외한 모든 문자와 매치된다.)\n",
    "# 2. {0,}는 +와 동일하다\n",
    "# 3. yester*day로 yesterday, yesteday, yesterrrday가 모두 반환될 수 있다.\n",
    "# 4. [a-zA-z]는 모든 알파벳과 특수문자 '-'과 매치된다.\n",
    "# 5. {1,3}는 1이 3번 반복된다는 뜻이다."
   ]
  },
  {
   "cell_type": "code",
   "execution_count": 6,
   "id": "d9e353a5",
   "metadata": {},
   "outputs": [
    {
     "data": {
      "text/plain": [
       "[[('https://', 'ac.', 'kr')],\n",
       " [('http://', 'ac.', 'kr')],\n",
       " [('', 'ac.', 'kr')],\n",
       " [],\n",
       " []]"
      ]
     },
     "execution_count": 6,
     "metadata": {},
     "output_type": "execute_result"
    }
   ],
   "source": [
    "# 4. 다음 정규 표현식의 결과에 해당하는 것을 모두 고르면?\n",
    "\n",
    "test = ['https://gachon.ac.kr', 'http://cyber.gachon.ac.kr', 'wind.gachon.ac.kr', 'theteamlab.io', 'http://goolge.com']\n",
    "\n",
    "import re\n",
    "\n",
    "result = []\n",
    "for i in test:\n",
    "    test_list = re.findall(r'(https?\\:\\/\\/)?([0-9a-zA-Z]+\\.){2,5}([0-9a-zA-Z]+)', i)\n",
    "    result.append(test_list)\n",
    "result"
   ]
  },
  {
   "cell_type": "code",
   "execution_count": 1,
   "id": "3bc06263",
   "metadata": {},
   "outputs": [],
   "source": [
    "# 5. 다음 설명에 적합한 정규 표현식 메타문자를 순서대로 쓰시오.\n",
    "\n",
    "# (가) 반복 1회: {1}, ?\n",
    "# (나) or : |, [ab]\n",
    "# (다) 앞에 있는 글자를 최소 1회 이상 반복: +\n",
    "# (라) 줄 바꿈 문자인 \\n을 제외한 모든 문자와 매치: (.)\n",
    "# (마) not : ^"
   ]
  },
  {
   "cell_type": "code",
   "execution_count": 2,
   "id": "6c126dbb",
   "metadata": {},
   "outputs": [],
   "source": [
    "# 6. 정규 표현식이 다음과 같을 때, 검색 가능한 값을 쓰시오\n",
    "\n",
    "# (가) ^(?:(?:25[0-5]|2[0-4][0-9]|[01]?[0-9][0-9]?)\\.){3}(?:25[0-5]|2[0-4][0-9]|[01]?[0-9][0-9]?)$ # IPv4 주소\n",
    "# (나) ([a-zA-Z0-9_\\-\\.]+)@[a-z0-9-]+(\\.[a-z0-9-]+)*(\\.[a-z]{2,3}) # 이메일 주소\n",
    "# (다) (https?\\/\\/)?([\\da-z\\.-]+)\\.([a-z\\.]{2,6})([\\/w\\.-]*)*\\/? # URL 주소"
   ]
  },
  {
   "cell_type": "code",
   "execution_count": 3,
   "id": "ef991d83",
   "metadata": {},
   "outputs": [],
   "source": [
    "# 7. 인터넷을 사용하기 위해 알아야 하는 다음 키워드들의 의미를 서술하시오\n",
    "\n",
    "# IP 주소: 인터넷 주소 체게이다. \n",
    "# URL : 한 인터넷 서버(즉 웹 페이지)에서 주관하는 자원에 접근할 수 있는 모든 데이터.\n",
    "# HTML : 웹상의 정보를 구조적으로 표현하기 위한 언어\n",
    "# HTTP : 인터넷에서 컴퓨터 간데 정보를 주고받을 때, 사용하는 일종의 약속, 프로토콜이라고 한다."
   ]
  },
  {
   "cell_type": "code",
   "execution_count": 6,
   "id": "37d04dce",
   "metadata": {},
   "outputs": [],
   "source": [
    "# 8. 코드가 다음과 같을 때, 강조 표시된 코드에서 join() 함수가 사용된 이유를 쓰시오\n",
    "\n",
    "import urllib.request\n",
    "import re\n",
    "\n",
    "url = 'http://www.google.com/googlebooks/uspto-patents-grants-text.html'\n",
    "html = urllib.request.urlopen(url)\n",
    "html_contents = str(html.read().decode('utf8'))\n",
    "\n",
    "url_list = re.findall(r\"(http)(.+)(zip)\", html_contents)\n",
    "for url in url_list:\n",
    "    full_url = \"\".join(url)\n",
    "    #print(full_url)\n",
    "    #fname, header = urllib.request.urlretrieve(full_url, file_name)\n",
    "    #print(\"End Download\")\n",
    "\n",
    "# join() 함수를 사용하는 이유는 정규 표현식을 만들 때, (http)(.+)(zip)을 사용해서 만들었기때문이다.\n",
    "# 여기에서 () 단위로 튜플이 생성된다. 그러므로 (http, .+, zip)이 개별 값으로 생성되기 때문에 실제 사용할 때는 join() 함수를 사용해야 한다."
   ]
  },
  {
   "cell_type": "code",
   "execution_count": 12,
   "id": "109871ac",
   "metadata": {},
   "outputs": [
    {
     "name": "stdout",
     "output_type": "stream",
     "text": [
      "판사블랙리스트\n"
     ]
    }
   ],
   "source": [
    "# 9. 다음 HTML 코드에서 한글로 된 문서의 제목만 뽑기 위한 정규 표현식과 추출 시 사용 할 수 있는 코드를 작성하시오\n",
    "\n",
    "text = '<li><a href=\"https//news.v.daum.net/v/20181126211257847\" class=\"link_txt\"> &#; 39 판사 블랙리스트 </a>'\n",
    "\n",
    "import re\n",
    "\n",
    "test = re.findall(r\"[가-힝]\", text)\n",
    "test_2 = ''\n",
    "for i in test:\n",
    "    test_2 += \"\".join(i)\n",
    "print(test_2)"
   ]
  },
  {
   "cell_type": "code",
   "execution_count": null,
   "id": "c1bac77e",
   "metadata": {},
   "outputs": [],
   "source": []
  }
 ],
 "metadata": {
  "kernelspec": {
   "display_name": "Python 3 (ipykernel)",
   "language": "python",
   "name": "python3"
  },
  "language_info": {
   "codemirror_mode": {
    "name": "ipython",
    "version": 3
   },
   "file_extension": ".py",
   "mimetype": "text/x-python",
   "name": "python",
   "nbconvert_exporter": "python",
   "pygments_lexer": "ipython3",
   "version": "3.9.7"
  }
 },
 "nbformat": 4,
 "nbformat_minor": 5
}
