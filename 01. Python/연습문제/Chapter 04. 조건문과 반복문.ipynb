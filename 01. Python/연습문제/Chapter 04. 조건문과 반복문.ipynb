{
 "cells": [
  {
   "cell_type": "code",
   "execution_count": 10,
   "id": "9b5ab1d1",
   "metadata": {},
   "outputs": [
    {
     "name": "stdout",
     "output_type": "stream",
     "text": [
      "24\n",
      "15\n"
     ]
    }
   ],
   "source": [
    "# 1. 주어진 자연수 N에 대해 N이 짝수이면 N!을, 홀수이면 ∑N을 구하는 코드를 작성하려 한다. 주어진 코드에서 잘못된 부분을 수정하시오.\n",
    "\n",
    "def calculator(N):\n",
    "    if N % 2 == 0:\n",
    "        result = 1\n",
    "        for i in range(1, N+1):\n",
    "            result = result * i\n",
    "    else:\n",
    "        result = 0\n",
    "        for i in range(1,N+1):\n",
    "            result = result + i\n",
    "    return result\n",
    "\n",
    "print(calculator(4))\n",
    "print(calculator(5))"
   ]
  },
  {
   "cell_type": "code",
   "execution_count": 11,
   "id": "ac9c739e",
   "metadata": {},
   "outputs": [
    {
     "name": "stdout",
     "output_type": "stream",
     "text": [
      "apple\n"
     ]
    }
   ],
   "source": [
    "# 2. 다음 코드의 실행 결과를 쓰시오\n",
    "\n",
    "fruit = 'apple'\n",
    "\n",
    "if fruit == 'Apple':\n",
    "    fruit = 'Apple'\n",
    "elif fruit == 'fruit':\n",
    "    fruit = 'fruit'\n",
    "else:\n",
    "    fruit = fruit\n",
    "    \n",
    "print(fruit)"
   ]
  },
  {
   "cell_type": "code",
   "execution_count": 12,
   "id": "5129eda4",
   "metadata": {},
   "outputs": [
    {
     "name": "stdout",
     "output_type": "stream",
     "text": [
      "['12', '34', '56']\n"
     ]
    }
   ],
   "source": [
    "# 3. 다음 코드의 실행 결과를 쓰시오\n",
    "\n",
    "num = ['12', '34', '56']\n",
    "for i in num:\n",
    "    i = int(i)\n",
    "print(num)"
   ]
  },
  {
   "cell_type": "code",
   "execution_count": 13,
   "id": "b1869ceb",
   "metadata": {},
   "outputs": [
    {
     "name": "stdout",
     "output_type": "stream",
     "text": [
      "[3, 4.0]\n"
     ]
    }
   ],
   "source": [
    "# 4. 다음 코드의 실행 결과를 쓰시오\n",
    "\n",
    "number = ['1', 2, 3, float(4), str(5)]\n",
    "if number[4] == 5:\n",
    "    print(type(number[0]))\n",
    "elif number[3] == 4:\n",
    "    print(number[2:-1])"
   ]
  },
  {
   "cell_type": "code",
   "execution_count": 14,
   "id": "dbbd9ac2",
   "metadata": {},
   "outputs": [
    {
     "name": "stdout",
     "output_type": "stream",
     "text": [
      "5\n"
     ]
    }
   ],
   "source": [
    "# 5. 다음 코드의 실행 결과를 쓰시오\n",
    "\n",
    "num = 0\n",
    "i = 1\n",
    "\n",
    "while i < 8:\n",
    "    if i % 3 == 0:\n",
    "        break\n",
    "    i += 1\n",
    "    num += i\n",
    "print(num)"
   ]
  },
  {
   "cell_type": "code",
   "execution_count": 15,
   "id": "7f629c1b",
   "metadata": {},
   "outputs": [
    {
     "name": "stdout",
     "output_type": "stream",
     "text": [
      "-5\n"
     ]
    }
   ],
   "source": [
    "# 6. 다음 코드의 실행 결과를 쓰시오\n",
    "\n",
    "result = 0\n",
    "for i in range(5, -5, -2):\n",
    "    if i< -3:\n",
    "        result += 1\n",
    "    else:\n",
    "        result -= 1\n",
    "        \n",
    "print(result)"
   ]
  },
  {
   "cell_type": "code",
   "execution_count": 16,
   "id": "9b7c21be",
   "metadata": {},
   "outputs": [
    {
     "name": "stdout",
     "output_type": "stream",
     "text": [
      "apple\n"
     ]
    }
   ],
   "source": [
    "# 7. 다음 코드의 실행 결과를 쓰시오\n",
    "\n",
    "fruit = 'apple'\n",
    "if fruit == 'Apple':\n",
    "    fruit = 'Apple'\n",
    "elif fruit == 'fruit':\n",
    "    fruit = 'fruit'\n",
    "else:\n",
    "    fruit = fruit\n",
    "print(fruit)"
   ]
  },
  {
   "cell_type": "code",
   "execution_count": 18,
   "id": "b4e9c481",
   "metadata": {},
   "outputs": [
    {
     "name": "stdout",
     "output_type": "stream",
     "text": [
      "0\n"
     ]
    },
    {
     "name": "stderr",
     "output_type": "stream",
     "text": [
      "<>:6: SyntaxWarning: \"is\" with a literal. Did you mean \"==\"?\n",
      "<>:9: SyntaxWarning: \"is\" with a literal. Did you mean \"==\"?\n",
      "<>:6: SyntaxWarning: \"is\" with a literal. Did you mean \"==\"?\n",
      "<>:9: SyntaxWarning: \"is\" with a literal. Did you mean \"==\"?\n",
      "C:\\Users\\여름\\AppData\\Local\\Temp/ipykernel_9868/2903138726.py:6: SyntaxWarning: \"is\" with a literal. Did you mean \"==\"?\n",
      "  if i is 5:\n",
      "C:\\Users\\여름\\AppData\\Local\\Temp/ipykernel_9868/2903138726.py:9: SyntaxWarning: \"is\" with a literal. Did you mean \"==\"?\n",
      "  if i is 10:\n"
     ]
    }
   ],
   "source": [
    "# 8. 다음 코드의 실행 결과를 쓰시오\n",
    "\n",
    "first_value = 0\n",
    "second_value = 0\n",
    "for i in range(1,10):\n",
    "    if i is 5:\n",
    "        continue\n",
    "        first_value = i\n",
    "    if i is 10:\n",
    "        break\n",
    "        second_value = i\n",
    "        \n",
    "print(first_value + second_value)"
   ]
  },
  {
   "cell_type": "code",
   "execution_count": 20,
   "id": "09d2b6f2",
   "metadata": {},
   "outputs": [
    {
     "name": "stdout",
     "output_type": "stream",
     "text": [
      "986531\n"
     ]
    },
    {
     "name": "stderr",
     "output_type": "stream",
     "text": [
      "<>:7: SyntaxWarning: \"is\" with a literal. Did you mean \"==\"?\n",
      "<>:7: SyntaxWarning: \"is\" with a literal. Did you mean \"==\"?\n",
      "<>:7: SyntaxWarning: \"is\" with a literal. Did you mean \"==\"?\n",
      "<>:7: SyntaxWarning: \"is\" with a literal. Did you mean \"==\"?\n",
      "C:\\Users\\여름\\AppData\\Local\\Temp/ipykernel_9868/3639900468.py:7: SyntaxWarning: \"is\" with a literal. Did you mean \"==\"?\n",
      "  elif i is 7 or i is 10:\n",
      "C:\\Users\\여름\\AppData\\Local\\Temp/ipykernel_9868/3639900468.py:7: SyntaxWarning: \"is\" with a literal. Did you mean \"==\"?\n",
      "  elif i is 7 or i is 10:\n"
     ]
    }
   ],
   "source": [
    "# 9. 다음 코드의 실행 결과를 쓰시오\n",
    "\n",
    "num = ''\n",
    "for i in range(10):\n",
    "    if i <= 5 and (i % 2) == 0:\n",
    "        continue\n",
    "    elif i is 7 or i is 10:\n",
    "        continue\n",
    "    else:\n",
    "        num = str(i) + num\n",
    "        \n",
    "print(num)"
   ]
  },
  {
   "cell_type": "code",
   "execution_count": 22,
   "id": "96078d04",
   "metadata": {},
   "outputs": [
    {
     "name": "stdout",
     "output_type": "stream",
     "text": [
      "Hire more workers\n",
      "Hire more workers\n"
     ]
    }
   ],
   "source": [
    "# 10. 다음 함수는 작업의 상태를 나타내는 함수이다. 코드의 실행 결과를 쓰시오\n",
    "\n",
    "def work_status(task, worker, day):\n",
    "    rest_task = task\n",
    "    for k in range(day):\n",
    "        if rest_task > 0:\n",
    "            rest_task = rest_task - worker\n",
    "        elif rest_task <= 0:\n",
    "            print('Task end')\n",
    "    if rest_task > 0:\n",
    "        print('Hire more workers')\n",
    "        \n",
    "work_status(100, 11, 10)\n",
    "work_status(100, 1, 10)\n",
    "work_status(100, 9, 10)\n",
    "work_status(100, 10, 10)\n"
   ]
  },
  {
   "cell_type": "code",
   "execution_count": 23,
   "id": "6069ae3e",
   "metadata": {},
   "outputs": [
    {
     "name": "stdout",
     "output_type": "stream",
     "text": [
      "45\n"
     ]
    }
   ],
   "source": [
    "# 11. 다음 코드의 실행 결과를 쓰시오\n",
    "\n",
    "score_list = [5,10,15,20,25,30]\n",
    "\n",
    "sum_of_score = 0\n",
    "i = 0\n",
    "while i < len(score_list):\n",
    "    if i % 2 == 0:\n",
    "        sum_of_score += score_list[i]\n",
    "    i += 1\n",
    "    \n",
    "print(sum_of_score)"
   ]
  },
  {
   "cell_type": "code",
   "execution_count": 24,
   "id": "3a30ad9e",
   "metadata": {},
   "outputs": [
    {
     "name": "stdout",
     "output_type": "stream",
     "text": [
      "2600\n"
     ]
    }
   ],
   "source": [
    "# 12. 다음 코드의 실행 결과를 쓰시오\n",
    "\n",
    "coupon = 0\n",
    "money = 200000\n",
    "coffee  = 3500\n",
    "while money > coffee:\n",
    "    if coupon < 4:\n",
    "        money = money - coffee\n",
    "        coupon += 1\n",
    "    else:\n",
    "        money += 2800\n",
    "        coupon = 0\n",
    "print(money)"
   ]
  },
  {
   "cell_type": "code",
   "execution_count": 28,
   "id": "daf918e8",
   "metadata": {},
   "outputs": [
    {
     "name": "stdout",
     "output_type": "stream",
     "text": [
      "Strike: 0 Ball: 3\n"
     ]
    }
   ],
   "source": [
    "# 13. 다음 코드는 변수 a와 b의 숫자를 비교하여 숫자와 자릿수가 같으면 'strike', 숫자는 서로 포함하나 자릿수가 다르면 'ball'로 카운트하는 프로그램이다.\n",
    "# 다음 프로그램의 실행결과를 쓰시오. 또한, 결과값이 맞지 않는 이유를 쓰고, 올바른 결과값이 나오도록 코드를 수정하시오.\n",
    "\n",
    "a = '369'\n",
    "b = '693'\n",
    "\n",
    "strike = 0\n",
    "ball = 0\n",
    "\n",
    "for number in a:\n",
    "    if b.count(number) >= 1:\n",
    "        if b.find(number) == a.find(number):\n",
    "            strike += 1\n",
    "        else:\n",
    "            ball += 1\n",
    "            \n",
    "print('Strike:', strike, 'Ball:', ball)"
   ]
  },
  {
   "cell_type": "code",
   "execution_count": 29,
   "id": "ab3ecacc",
   "metadata": {},
   "outputs": [
    {
     "name": "stdout",
     "output_type": "stream",
     "text": [
      "6\n"
     ]
    }
   ],
   "source": [
    "# 14. 다음과 같이 코드를 작성했을 때, 실행 결과로 알맞은 것은?\n",
    "\n",
    "list_data_a = [1,2]\n",
    "list_data_b = [3,4]\n",
    "\n",
    "for i in list_data_a:\n",
    "    for j in list_data_b:\n",
    "        result = i+j\n",
    "print(result)"
   ]
  },
  {
   "cell_type": "code",
   "execution_count": 30,
   "id": "3e88ba93",
   "metadata": {},
   "outputs": [
    {
     "name": "stdout",
     "output_type": "stream",
     "text": [
      "[1, 2, 3, 4, 5, 6]\n"
     ]
    }
   ],
   "source": [
    "# 15. 다음과 같이 코드를 작성했을 때, 실행 결과로 알맞은 것은?\n",
    "\n",
    "list_1=[[1,2],[3],[4,5,6]]\n",
    "a,b,c = list_1\n",
    "list_2 = a+b+c\n",
    "\n",
    "print(list_2)"
   ]
  },
  {
   "cell_type": "code",
   "execution_count": null,
   "id": "f0599126",
   "metadata": {},
   "outputs": [],
   "source": []
  }
 ],
 "metadata": {
  "kernelspec": {
   "display_name": "Python 3 (ipykernel)",
   "language": "python",
   "name": "python3"
  },
  "language_info": {
   "codemirror_mode": {
    "name": "ipython",
    "version": 3
   },
   "file_extension": ".py",
   "mimetype": "text/x-python",
   "name": "python",
   "nbconvert_exporter": "python",
   "pygments_lexer": "ipython3",
   "version": "3.9.7"
  }
 },
 "nbformat": 4,
 "nbformat_minor": 5
}
