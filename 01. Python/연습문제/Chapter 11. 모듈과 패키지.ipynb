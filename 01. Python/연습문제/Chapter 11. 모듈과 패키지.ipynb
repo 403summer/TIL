{
 "cells": [
  {
   "cell_type": "code",
   "execution_count": 1,
   "id": "f665d645",
   "metadata": {},
   "outputs": [],
   "source": [
    "# 1 패키지에 대한 설명 중 틀린 것은?\n",
    "\n",
    "# 1. 다양한 모듈의 합으로 디렉터리로 연결된다\n",
    "# 2. 하나의 대형 프로젝트를 만드는 코드의 묶음이다.\n",
    "# 3. 개별.py 파일을 의미한다 (X 하나의 파일은 모듈을 의미한다.)\n",
    "# 4. 다양한 오픈소스들이 관리되는 방법이다.\n",
    "# 5. __init__, __main__ 등 키워드 파일명이 사용된다."
   ]
  },
  {
   "cell_type": "code",
   "execution_count": 2,
   "id": "761ba9e1",
   "metadata": {},
   "outputs": [],
   "source": [
    "# 2 빈칸에 들어가야할 파일은?\n",
    "\n",
    "# 3번 __init__.py"
   ]
  },
  {
   "cell_type": "code",
   "execution_count": 3,
   "id": "2661c8da",
   "metadata": {},
   "outputs": [],
   "source": [
    "# 3 빈칸에 들어갈 적합한 코드를 쓰시오\n",
    "\n",
    "# import fah_converter as fah"
   ]
  },
  {
   "cell_type": "code",
   "execution_count": 4,
   "id": "ddcbfb7c",
   "metadata": {},
   "outputs": [],
   "source": [
    "# 4 부모 디렉터리 기준으로 호출하는 방법은?\n",
    "\n",
    "# from game import *"
   ]
  },
  {
   "cell_type": "code",
   "execution_count": 5,
   "id": "7f92d7f6",
   "metadata": {},
   "outputs": [
    {
     "name": "stdout",
     "output_type": "stream",
     "text": [
      "4\n",
      "a+b4\n"
     ]
    }
   ],
   "source": [
    "# 5 실행결과를 쓰시오\n",
    "\n",
    "def test():\n",
    "    c = input()\n",
    "    a = 1\n",
    "    b = 4\n",
    "    print('a+b'+c)\n",
    "    \n",
    "test()    "
   ]
  },
  {
   "cell_type": "code",
   "execution_count": 6,
   "id": "15f17e1d",
   "metadata": {},
   "outputs": [],
   "source": [
    "# 6 모듈을 호출하는 방법이 아닌 것은?\n",
    "\n",
    "# import os as *"
   ]
  },
  {
   "cell_type": "code",
   "execution_count": 7,
   "id": "7f5c03fa",
   "metadata": {},
   "outputs": [],
   "source": [
    "# 7 빈칸을 채워 프로그램을 완성하시오\n",
    "\n",
    "# import calculator"
   ]
  },
  {
   "cell_type": "code",
   "execution_count": 8,
   "id": "8e489d2e",
   "metadata": {},
   "outputs": [
    {
     "name": "stdout",
     "output_type": "stream",
     "text": [
      "2\n",
      "user_input\n"
     ]
    }
   ],
   "source": [
    "# 8 실행결과를 쓰시오\n",
    "\n",
    "def quiz():\n",
    "    user_input = input()\n",
    "    if int(user_input) > 3:\n",
    "        print(user_input)\n",
    "    else:\n",
    "        print('user_input')\n",
    "quiz()        \n",
    "    "
   ]
  },
  {
   "cell_type": "code",
   "execution_count": 9,
   "id": "0fede306",
   "metadata": {},
   "outputs": [],
   "source": [
    "# 9 pip 와 conda 둘의 차이점과 장단점\n",
    "\n",
    "# pip\n",
    "# 가장 대표적인 가상환경 관리 도구\n",
    "# 레퍼런스와 패키지가 가장 많음\n",
    "\n",
    "# conda\n",
    "# 상용 가상환경 도구인 miniconda의 기본 가상환경 도구\n",
    "# 설치가 쉬워 윈도에서 유용함"
   ]
  },
  {
   "cell_type": "code",
   "execution_count": null,
   "id": "c072d5c6",
   "metadata": {},
   "outputs": [],
   "source": [
    "# 10 알아아스의 개념에 대해 서술하시오\n",
    "\n",
    "# 알리아스는 일종의 별칭으로, 모듈의 이름을 바꿔 부를 때 사용한다. 모듈의 이름이 너무나 다른 코드와 헷갈리는 이름을 가졌을때, \n",
    "# as 키워드를 사용하여 모듈의 이름을 간단하게 바꿔 사용할 수 있다."
   ]
  }
 ],
 "metadata": {
  "kernelspec": {
   "display_name": "Python 3 (ipykernel)",
   "language": "python",
   "name": "python3"
  },
  "language_info": {
   "codemirror_mode": {
    "name": "ipython",
    "version": 3
   },
   "file_extension": ".py",
   "mimetype": "text/x-python",
   "name": "python",
   "nbconvert_exporter": "python",
   "pygments_lexer": "ipython3",
   "version": "3.9.7"
  }
 },
 "nbformat": 4,
 "nbformat_minor": 5
}
