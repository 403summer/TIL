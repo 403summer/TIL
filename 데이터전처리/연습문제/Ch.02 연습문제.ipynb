{
 "cells": [
  {
   "cell_type": "code",
   "execution_count": 1,
   "id": "8e0b86eb",
   "metadata": {},
   "outputs": [],
   "source": [
    "superheroes = [\n",
    "    'Batman',\n",
    "    'Superman',\n",
    "    'Spider-Man',\n",
    "    'Iron Man',\n",
    "    'Catain America',\n",
    "    'Wonder Woman'\n",
    "]\n",
    "\n",
    "strength_levels = (100, 120, 90, 95, 110, 120)"
   ]
  },
  {
   "cell_type": "code",
   "execution_count": 2,
   "id": "eb6331d1",
   "metadata": {},
   "outputs": [
    {
     "data": {
      "text/plain": [
       "0            Batman\n",
       "1          Superman\n",
       "2        Spider-Man\n",
       "3          Iron Man\n",
       "4    Catain America\n",
       "5      Wonder Woman\n",
       "dtype: object"
      ]
     },
     "execution_count": 2,
     "metadata": {},
     "output_type": "execute_result"
    }
   ],
   "source": [
    "# 01. 슈퍼히어로 리스트를 사용하여 새 Series 객체의 값을 채우세요\n",
    "\n",
    "import pandas as pd\n",
    "import numpy as np\n",
    "\n",
    "pd.Series(superheroes)"
   ]
  },
  {
   "cell_type": "code",
   "execution_count": 3,
   "id": "e93b83ff",
   "metadata": {},
   "outputs": [
    {
     "data": {
      "text/plain": [
       "0    100\n",
       "1    120\n",
       "2     90\n",
       "3     95\n",
       "4    110\n",
       "5    120\n",
       "dtype: int64"
      ]
     },
     "execution_count": 3,
     "metadata": {},
     "output_type": "execute_result"
    }
   ],
   "source": [
    "# 02. 능력치 튜플을 사용하여 새 Series 객체의 값을 채우세요\n",
    "\n",
    "pd.Series(strength_levels)"
   ]
  },
  {
   "cell_type": "code",
   "execution_count": 6,
   "id": "7ccac9ee",
   "metadata": {},
   "outputs": [
    {
     "data": {
      "text/plain": [
       "Batman            100\n",
       "Superman          120\n",
       "Spider-Man         90\n",
       "Iron Man           95\n",
       "Catain America    110\n",
       "Wonder Woman      120\n",
       "dtype: int64"
      ]
     },
     "execution_count": 6,
     "metadata": {},
     "output_type": "execute_result"
    }
   ],
   "source": [
    "# 03. superheroes를 인덱스 레이블로 사용하고 strength_levels를 값으로 사용하여 Series를 생성하세요. heroes 변수에 Series를 할당하세요.\n",
    "\n",
    "heroes = pd.Series(data = strength_levels, index = superheroes)\n",
    "heroes"
   ]
  },
  {
   "cell_type": "code",
   "execution_count": 7,
   "id": "c6ea9306",
   "metadata": {},
   "outputs": [
    {
     "data": {
      "text/plain": [
       "Batman      100\n",
       "Superman    120\n",
       "dtype: int64"
      ]
     },
     "execution_count": 7,
     "metadata": {},
     "output_type": "execute_result"
    }
   ],
   "source": [
    "# 04. heroes Series의 처음 2개 행을 추출하세요\n",
    "\n",
    "heroes.head(2)"
   ]
  },
  {
   "cell_type": "code",
   "execution_count": 8,
   "id": "ebf21f65",
   "metadata": {},
   "outputs": [
    {
     "data": {
      "text/plain": [
       "Spider-Man         90\n",
       "Iron Man           95\n",
       "Catain America    110\n",
       "Wonder Woman      120\n",
       "dtype: int64"
      ]
     },
     "execution_count": 8,
     "metadata": {},
     "output_type": "execute_result"
    }
   ],
   "source": [
    "# 05. heroes Series의 마지막 4개 행을 추출하세요\n",
    "\n",
    "heroes.tail(4)"
   ]
  },
  {
   "cell_type": "code",
   "execution_count": 9,
   "id": "16cfdc9d",
   "metadata": {},
   "outputs": [
    {
     "data": {
      "text/plain": [
       "5"
      ]
     },
     "execution_count": 9,
     "metadata": {},
     "output_type": "execute_result"
    }
   ],
   "source": [
    "# 06. heroes Series의 고유한 값의 개수를 구하세요\n",
    "\n",
    "heroes.nunique()"
   ]
  },
  {
   "cell_type": "code",
   "execution_count": 15,
   "id": "ab5fb40f",
   "metadata": {},
   "outputs": [
    {
     "data": {
      "text/plain": [
       "105.83333333333333"
      ]
     },
     "execution_count": 15,
     "metadata": {},
     "output_type": "execute_result"
    }
   ],
   "source": [
    "# 07. heroes에 있는 슈퍼 히어로의 평균 능력치를 구하세요\n",
    "\n",
    "heroes.mean()"
   ]
  },
  {
   "cell_type": "code",
   "execution_count": 16,
   "id": "ff64ae29",
   "metadata": {},
   "outputs": [
    {
     "data": {
      "text/plain": [
       "90"
      ]
     },
     "execution_count": 16,
     "metadata": {},
     "output_type": "execute_result"
    }
   ],
   "source": [
    "# 08. heroes의 최대 및 최소 능력치를 구하세요\n",
    "\n",
    "heroes.max()\n",
    "heroes.min()"
   ]
  },
  {
   "cell_type": "code",
   "execution_count": 13,
   "id": "d67b3b7a",
   "metadata": {},
   "outputs": [
    {
     "data": {
      "text/plain": [
       "Batman            200\n",
       "Superman          240\n",
       "Spider-Man        180\n",
       "Iron Man          190\n",
       "Catain America    220\n",
       "Wonder Woman      240\n",
       "dtype: int64"
      ]
     },
     "execution_count": 13,
     "metadata": {},
     "output_type": "execute_result"
    }
   ],
   "source": [
    "# 09. 능력치가 2배가 되면 각 슈퍼 히어로의 능력치는 얼마인지 구하세요\n",
    "\n",
    "heroes * 2"
   ]
  },
  {
   "cell_type": "code",
   "execution_count": 14,
   "id": "90232dc3",
   "metadata": {},
   "outputs": [
    {
     "data": {
      "text/plain": [
       "{'Batman': 100,\n",
       " 'Superman': 120,\n",
       " 'Spider-Man': 90,\n",
       " 'Iron Man': 95,\n",
       " 'Catain America': 110,\n",
       " 'Wonder Woman': 120}"
      ]
     },
     "execution_count": 14,
     "metadata": {},
     "output_type": "execute_result"
    }
   ],
   "source": [
    "# 10. heroes Series를 파이썬 딕셔너리로 변환하세요\n",
    "\n",
    "dict(heroes)"
   ]
  },
  {
   "cell_type": "code",
   "execution_count": null,
   "id": "0173e220",
   "metadata": {},
   "outputs": [],
   "source": []
  }
 ],
 "metadata": {
  "kernelspec": {
   "display_name": "Python 3 (ipykernel)",
   "language": "python",
   "name": "python3"
  },
  "language_info": {
   "codemirror_mode": {
    "name": "ipython",
    "version": 3
   },
   "file_extension": ".py",
   "mimetype": "text/x-python",
   "name": "python",
   "nbconvert_exporter": "python",
   "pygments_lexer": "ipython3",
   "version": "3.9.7"
  }
 },
 "nbformat": 4,
 "nbformat_minor": 5
}
