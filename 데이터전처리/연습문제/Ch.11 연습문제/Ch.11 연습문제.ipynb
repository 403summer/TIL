{
 "cells": [
  {
   "cell_type": "code",
   "execution_count": 1,
   "id": "58c1b090",
   "metadata": {},
   "outputs": [
    {
     "data": {
      "text/html": [
       "<div>\n",
       "<style scoped>\n",
       "    .dataframe tbody tr th:only-of-type {\n",
       "        vertical-align: middle;\n",
       "    }\n",
       "\n",
       "    .dataframe tbody tr th {\n",
       "        vertical-align: top;\n",
       "    }\n",
       "\n",
       "    .dataframe thead th {\n",
       "        text-align: right;\n",
       "    }\n",
       "</style>\n",
       "<table border=\"1\" class=\"dataframe\">\n",
       "  <thead>\n",
       "    <tr style=\"text-align: right;\">\n",
       "      <th></th>\n",
       "      <th>start_time</th>\n",
       "      <th>stop_time</th>\n",
       "    </tr>\n",
       "  </thead>\n",
       "  <tbody>\n",
       "    <tr>\n",
       "      <th>0</th>\n",
       "      <td>2020-06-01 00:00:03.3720</td>\n",
       "      <td>2020-06-01 00:17:46.2080</td>\n",
       "    </tr>\n",
       "    <tr>\n",
       "      <th>1</th>\n",
       "      <td>2020-06-01 00:00:03.5530</td>\n",
       "      <td>2020-06-01 01:03:33.9360</td>\n",
       "    </tr>\n",
       "    <tr>\n",
       "      <th>2</th>\n",
       "      <td>2020-06-01 00:00:09.6140</td>\n",
       "      <td>2020-06-01 00:17:06.8330</td>\n",
       "    </tr>\n",
       "    <tr>\n",
       "      <th>3</th>\n",
       "      <td>2020-06-01 00:00:12.1780</td>\n",
       "      <td>2020-06-01 00:03:58.8640</td>\n",
       "    </tr>\n",
       "    <tr>\n",
       "      <th>4</th>\n",
       "      <td>2020-06-01 00:00:21.2550</td>\n",
       "      <td>2020-06-01 00:24:18.9650</td>\n",
       "    </tr>\n",
       "  </tbody>\n",
       "</table>\n",
       "</div>"
      ],
      "text/plain": [
       "                 start_time                 stop_time\n",
       "0  2020-06-01 00:00:03.3720  2020-06-01 00:17:46.2080\n",
       "1  2020-06-01 00:00:03.5530  2020-06-01 01:03:33.9360\n",
       "2  2020-06-01 00:00:09.6140  2020-06-01 00:17:06.8330\n",
       "3  2020-06-01 00:00:12.1780  2020-06-01 00:03:58.8640\n",
       "4  2020-06-01 00:00:21.2550  2020-06-01 00:24:18.9650"
      ]
     },
     "execution_count": 1,
     "metadata": {},
     "output_type": "execute_result"
    }
   ],
   "source": [
    "import pandas as pd\n",
    "\n",
    "citi_bike = pd.read_csv('citibike.csv')\n",
    "citi_bike.head()"
   ]
  },
  {
   "cell_type": "code",
   "execution_count": 2,
   "id": "a9fb5c6b",
   "metadata": {},
   "outputs": [
    {
     "name": "stdout",
     "output_type": "stream",
     "text": [
      "<class 'pandas.core.frame.DataFrame'>\n",
      "RangeIndex: 1882273 entries, 0 to 1882272\n",
      "Data columns (total 2 columns):\n",
      " #   Column      Dtype \n",
      "---  ------      ----- \n",
      " 0   start_time  object\n",
      " 1   stop_time   object\n",
      "dtypes: object(2)\n",
      "memory usage: 28.7+ MB\n"
     ]
    }
   ],
   "source": [
    "citi_bike.info()"
   ]
  },
  {
   "cell_type": "markdown",
   "id": "21331a7f",
   "metadata": {},
   "source": [
    "1. start_time과 stop_time 열을 문자열 대신 날짜/시간(Timestamp) 값을 저장하도록 변환하세요."
   ]
  },
  {
   "cell_type": "code",
   "execution_count": 5,
   "id": "f77ce358",
   "metadata": {},
   "outputs": [],
   "source": [
    "citi_bike['start_time'] = pd.to_datetime(citi_bike['start_time'])\n",
    "citi_bike['stop_time'] = pd.to_datetime(citi_bike['stop_time'])"
   ]
  },
  {
   "cell_type": "code",
   "execution_count": 7,
   "id": "57cbd5c3",
   "metadata": {},
   "outputs": [],
   "source": [
    "for column in ['start_time', 'stop_time']:\n",
    "    citi_bike[column] = pd.to_datetime(citi_bike[column])"
   ]
  },
  {
   "cell_type": "code",
   "execution_count": 8,
   "id": "bf85bad4",
   "metadata": {},
   "outputs": [
    {
     "data": {
      "text/plain": [
       "start_time    datetime64[ns]\n",
       "stop_time     datetime64[ns]\n",
       "dtype: object"
      ]
     },
     "execution_count": 8,
     "metadata": {},
     "output_type": "execute_result"
    }
   ],
   "source": [
    "citi_bike.dtypes"
   ]
  },
  {
   "cell_type": "markdown",
   "id": "bd2cb843",
   "metadata": {},
   "source": [
    "2. 각 요일(월요일. 화요일 등) 승차한 건 수를 계산하세요/ 사람들이 자전거를 가장 많이 타는 요일은 언제인가요? start_time 열을 기준으로 계산하세요"
   ]
  },
  {
   "cell_type": "code",
   "execution_count": 12,
   "id": "491e2142",
   "metadata": {},
   "outputs": [
    {
     "data": {
      "text/plain": [
       "Tuesday      305833\n",
       "Sunday       301482\n",
       "Monday       292690\n",
       "Saturday     285966\n",
       "Friday       258479\n",
       "Wednesday    222647\n",
       "Thursday     215176\n",
       "Name: start_time, dtype: int64"
      ]
     },
     "execution_count": 12,
     "metadata": {},
     "output_type": "execute_result"
    }
   ],
   "source": [
    "citi_bike['start_time'].dt.day_name().value_counts()"
   ]
  },
  {
   "cell_type": "markdown",
   "id": "73b271d5",
   "metadata": {},
   "source": [
    "3. 해당 월의 각 주당 승차 건을 구하세요. 이것을 구하려면 start_time 열의 각 날짜를 이전 또는 현재 월요일로 변환해야 합니다. 한 주가 월요일에서 시작하여 일요일에 끝난다고 가정하세요. 즉, 6월의 첫째주는 6월 1일 월요일부터 6월 7일 일요일까지 입니다."
   ]
  },
  {
   "cell_type": "code",
   "execution_count": 13,
   "id": "b5b42c89",
   "metadata": {},
   "outputs": [
    {
     "data": {
      "text/plain": [
       "0    0\n",
       "1    0\n",
       "2    0\n",
       "3    0\n",
       "4    0\n",
       "Name: start_time, dtype: int64"
      ]
     },
     "execution_count": 13,
     "metadata": {},
     "output_type": "execute_result"
    }
   ],
   "source": [
    "citi_bike['start_time'].dt.dayofweek.head()"
   ]
  },
  {
   "cell_type": "code",
   "execution_count": 14,
   "id": "47de0854",
   "metadata": {},
   "outputs": [],
   "source": [
    "days_away_from_monday = citi_bike['start_time'].dt.dayofweek"
   ]
  },
  {
   "cell_type": "code",
   "execution_count": 15,
   "id": "d7c14efb",
   "metadata": {},
   "outputs": [
    {
     "data": {
      "text/plain": [
       "0         2020-06-01 00:00:03.372\n",
       "1         2020-06-01 00:00:03.553\n",
       "2         2020-06-01 00:00:09.614\n",
       "3         2020-06-01 00:00:12.178\n",
       "4         2020-06-01 00:00:21.255\n",
       "                    ...          \n",
       "1882268   2020-06-29 23:59:41.116\n",
       "1882269   2020-06-29 23:59:46.426\n",
       "1882270   2020-06-29 23:59:47.477\n",
       "1882271   2020-06-29 23:59:53.395\n",
       "1882272   2020-06-29 23:59:53.901\n",
       "Name: start_time, Length: 1882273, dtype: datetime64[ns]"
      ]
     },
     "execution_count": 15,
     "metadata": {},
     "output_type": "execute_result"
    }
   ],
   "source": [
    "citi_bike['start_time'] - pd.to_timedelta(days_away_from_monday, unit = 'day')"
   ]
  },
  {
   "cell_type": "code",
   "execution_count": 16,
   "id": "fa996849",
   "metadata": {},
   "outputs": [],
   "source": [
    "dates_rounded_to_monday = citi_bike['start_time'] - pd.to_timedelta(days_away_from_monday, unit = 'day')"
   ]
  },
  {
   "cell_type": "code",
   "execution_count": 18,
   "id": "cc556c7a",
   "metadata": {},
   "outputs": [
    {
     "data": {
      "text/plain": [
       "2020-06-08 18:30:13.661    3\n",
       "2020-06-08 18:28:49.897    3\n",
       "2020-06-15 20:10:51.645    3\n",
       "2020-06-22 17:43:44.188    3\n",
       "2020-06-01 16:27:02.575    3\n",
       "Name: start_time, dtype: int64"
      ]
     },
     "execution_count": 18,
     "metadata": {},
     "output_type": "execute_result"
    }
   ],
   "source": [
    "dates_rounded_to_monday.value_counts().head()"
   ]
  },
  {
   "cell_type": "code",
   "execution_count": 19,
   "id": "1f9c47d4",
   "metadata": {},
   "outputs": [
    {
     "data": {
      "text/plain": [
       "0    2020-06-01\n",
       "1    2020-06-01\n",
       "2    2020-06-01\n",
       "3    2020-06-01\n",
       "4    2020-06-01\n",
       "Name: start_time, dtype: object"
      ]
     },
     "execution_count": 19,
     "metadata": {},
     "output_type": "execute_result"
    }
   ],
   "source": [
    "dates_rounded_to_monday.dt.date.head()"
   ]
  },
  {
   "cell_type": "code",
   "execution_count": 20,
   "id": "97db5976",
   "metadata": {},
   "outputs": [
    {
     "data": {
      "text/plain": [
       "2020-06-15    481211\n",
       "2020-06-08    471384\n",
       "2020-06-22    465412\n",
       "2020-06-01    337590\n",
       "2020-06-29    126676\n",
       "Name: start_time, dtype: int64"
      ]
     },
     "execution_count": 20,
     "metadata": {},
     "output_type": "execute_result"
    }
   ],
   "source": [
    "dates_rounded_to_monday.dt.date.value_counts()"
   ]
  },
  {
   "cell_type": "markdown",
   "id": "1963cbb2",
   "metadata": {},
   "source": [
    "4. 각 승차 시간을 계산하고 결과를 새로운 duration 열에 저장하세요"
   ]
  },
  {
   "cell_type": "code",
   "execution_count": 26,
   "id": "d117b046",
   "metadata": {},
   "outputs": [
    {
     "data": {
      "text/html": [
       "<div>\n",
       "<style scoped>\n",
       "    .dataframe tbody tr th:only-of-type {\n",
       "        vertical-align: middle;\n",
       "    }\n",
       "\n",
       "    .dataframe tbody tr th {\n",
       "        vertical-align: top;\n",
       "    }\n",
       "\n",
       "    .dataframe thead th {\n",
       "        text-align: right;\n",
       "    }\n",
       "</style>\n",
       "<table border=\"1\" class=\"dataframe\">\n",
       "  <thead>\n",
       "    <tr style=\"text-align: right;\">\n",
       "      <th></th>\n",
       "      <th>start_time</th>\n",
       "      <th>stop_time</th>\n",
       "      <th>dureation</th>\n",
       "      <th>duration</th>\n",
       "    </tr>\n",
       "  </thead>\n",
       "  <tbody>\n",
       "    <tr>\n",
       "      <th>0</th>\n",
       "      <td>2020-06-01 00:00:03.372</td>\n",
       "      <td>2020-06-01 00:17:46.208</td>\n",
       "      <td>0 days 00:17:42.836000</td>\n",
       "      <td>0 days 00:17:42.836000</td>\n",
       "    </tr>\n",
       "    <tr>\n",
       "      <th>1</th>\n",
       "      <td>2020-06-01 00:00:03.553</td>\n",
       "      <td>2020-06-01 01:03:33.936</td>\n",
       "      <td>0 days 01:03:30.383000</td>\n",
       "      <td>0 days 01:03:30.383000</td>\n",
       "    </tr>\n",
       "    <tr>\n",
       "      <th>2</th>\n",
       "      <td>2020-06-01 00:00:09.614</td>\n",
       "      <td>2020-06-01 00:17:06.833</td>\n",
       "      <td>0 days 00:16:57.219000</td>\n",
       "      <td>0 days 00:16:57.219000</td>\n",
       "    </tr>\n",
       "    <tr>\n",
       "      <th>3</th>\n",
       "      <td>2020-06-01 00:00:12.178</td>\n",
       "      <td>2020-06-01 00:03:58.864</td>\n",
       "      <td>0 days 00:03:46.686000</td>\n",
       "      <td>0 days 00:03:46.686000</td>\n",
       "    </tr>\n",
       "    <tr>\n",
       "      <th>4</th>\n",
       "      <td>2020-06-01 00:00:21.255</td>\n",
       "      <td>2020-06-01 00:24:18.965</td>\n",
       "      <td>0 days 00:23:57.710000</td>\n",
       "      <td>0 days 00:23:57.710000</td>\n",
       "    </tr>\n",
       "  </tbody>\n",
       "</table>\n",
       "</div>"
      ],
      "text/plain": [
       "               start_time               stop_time              dureation  \\\n",
       "0 2020-06-01 00:00:03.372 2020-06-01 00:17:46.208 0 days 00:17:42.836000   \n",
       "1 2020-06-01 00:00:03.553 2020-06-01 01:03:33.936 0 days 01:03:30.383000   \n",
       "2 2020-06-01 00:00:09.614 2020-06-01 00:17:06.833 0 days 00:16:57.219000   \n",
       "3 2020-06-01 00:00:12.178 2020-06-01 00:03:58.864 0 days 00:03:46.686000   \n",
       "4 2020-06-01 00:00:21.255 2020-06-01 00:24:18.965 0 days 00:23:57.710000   \n",
       "\n",
       "                duration  \n",
       "0 0 days 00:17:42.836000  \n",
       "1 0 days 01:03:30.383000  \n",
       "2 0 days 00:16:57.219000  \n",
       "3 0 days 00:03:46.686000  \n",
       "4 0 days 00:23:57.710000  "
      ]
     },
     "execution_count": 26,
     "metadata": {},
     "output_type": "execute_result"
    }
   ],
   "source": [
    "citi_bike['duration'] = citi_bike['stop_time'] - citi_bike['start_time']\n",
    "citi_bike.head()"
   ]
  },
  {
   "cell_type": "markdown",
   "id": "d5afe231",
   "metadata": {},
   "source": [
    "5. 자전거를 타는 평균 시간을 구하세요"
   ]
  },
  {
   "cell_type": "code",
   "execution_count": 27,
   "id": "cee3cb6c",
   "metadata": {},
   "outputs": [
    {
     "data": {
      "text/plain": [
       "Timedelta('0 days 00:27:19.590506853')"
      ]
     },
     "execution_count": 27,
     "metadata": {},
     "output_type": "execute_result"
    }
   ],
   "source": [
    "citi_bike['duration'].mean()"
   ]
  },
  {
   "cell_type": "markdown",
   "id": "c4097235",
   "metadata": {},
   "source": [
    "6. 데이터셋에서 가장 긴 승차 시간을 5건 추출하세요"
   ]
  },
  {
   "cell_type": "code",
   "execution_count": 29,
   "id": "6a18ba76",
   "metadata": {},
   "outputs": [
    {
     "data": {
      "text/plain": [
       "50593    32 days 15:01:54.940000\n",
       "98339    31 days 01:47:20.632000\n",
       "52306    30 days 19:32:20.696000\n",
       "15171    30 days 04:26:48.424000\n",
       "149761   28 days 09:24:50.696000\n",
       "Name: duration, dtype: timedelta64[ns]"
      ]
     },
     "execution_count": 29,
     "metadata": {},
     "output_type": "execute_result"
    }
   ],
   "source": [
    "citi_bike['duration'].sort_values(ascending = False).head()"
   ]
  },
  {
   "cell_type": "code",
   "execution_count": 30,
   "id": "70a9bcd2",
   "metadata": {},
   "outputs": [
    {
     "data": {
      "text/html": [
       "<div>\n",
       "<style scoped>\n",
       "    .dataframe tbody tr th:only-of-type {\n",
       "        vertical-align: middle;\n",
       "    }\n",
       "\n",
       "    .dataframe tbody tr th {\n",
       "        vertical-align: top;\n",
       "    }\n",
       "\n",
       "    .dataframe thead th {\n",
       "        text-align: right;\n",
       "    }\n",
       "</style>\n",
       "<table border=\"1\" class=\"dataframe\">\n",
       "  <thead>\n",
       "    <tr style=\"text-align: right;\">\n",
       "      <th></th>\n",
       "      <th>start_time</th>\n",
       "      <th>stop_time</th>\n",
       "      <th>dureation</th>\n",
       "      <th>duration</th>\n",
       "    </tr>\n",
       "  </thead>\n",
       "  <tbody>\n",
       "    <tr>\n",
       "      <th>50593</th>\n",
       "      <td>2020-06-01 21:30:17.759</td>\n",
       "      <td>2020-07-04 12:32:12.699</td>\n",
       "      <td>32 days 15:01:54.940000</td>\n",
       "      <td>32 days 15:01:54.940000</td>\n",
       "    </tr>\n",
       "    <tr>\n",
       "      <th>98339</th>\n",
       "      <td>2020-06-02 19:41:39.659</td>\n",
       "      <td>2020-07-03 21:29:00.291</td>\n",
       "      <td>31 days 01:47:20.632000</td>\n",
       "      <td>31 days 01:47:20.632000</td>\n",
       "    </tr>\n",
       "    <tr>\n",
       "      <th>52306</th>\n",
       "      <td>2020-06-01 22:17:10.908</td>\n",
       "      <td>2020-07-02 17:49:31.604</td>\n",
       "      <td>30 days 19:32:20.696000</td>\n",
       "      <td>30 days 19:32:20.696000</td>\n",
       "    </tr>\n",
       "    <tr>\n",
       "      <th>15171</th>\n",
       "      <td>2020-06-01 13:01:41.942</td>\n",
       "      <td>2020-07-01 17:28:30.366</td>\n",
       "      <td>30 days 04:26:48.424000</td>\n",
       "      <td>30 days 04:26:48.424000</td>\n",
       "    </tr>\n",
       "    <tr>\n",
       "      <th>149761</th>\n",
       "      <td>2020-06-04 14:36:53.482</td>\n",
       "      <td>2020-07-03 00:01:44.178</td>\n",
       "      <td>28 days 09:24:50.696000</td>\n",
       "      <td>28 days 09:24:50.696000</td>\n",
       "    </tr>\n",
       "  </tbody>\n",
       "</table>\n",
       "</div>"
      ],
      "text/plain": [
       "                    start_time               stop_time  \\\n",
       "50593  2020-06-01 21:30:17.759 2020-07-04 12:32:12.699   \n",
       "98339  2020-06-02 19:41:39.659 2020-07-03 21:29:00.291   \n",
       "52306  2020-06-01 22:17:10.908 2020-07-02 17:49:31.604   \n",
       "15171  2020-06-01 13:01:41.942 2020-07-01 17:28:30.366   \n",
       "149761 2020-06-04 14:36:53.482 2020-07-03 00:01:44.178   \n",
       "\n",
       "                     dureation                duration  \n",
       "50593  32 days 15:01:54.940000 32 days 15:01:54.940000  \n",
       "98339  31 days 01:47:20.632000 31 days 01:47:20.632000  \n",
       "52306  30 days 19:32:20.696000 30 days 19:32:20.696000  \n",
       "15171  30 days 04:26:48.424000 30 days 04:26:48.424000  \n",
       "149761 28 days 09:24:50.696000 28 days 09:24:50.696000  "
      ]
     },
     "execution_count": 30,
     "metadata": {},
     "output_type": "execute_result"
    }
   ],
   "source": [
    "citi_bike.nlargest(n = 5, columns = 'duration')"
   ]
  },
  {
   "cell_type": "code",
   "execution_count": null,
   "id": "1b64a7f4",
   "metadata": {},
   "outputs": [],
   "source": []
  }
 ],
 "metadata": {
  "kernelspec": {
   "display_name": "Python 3 (ipykernel)",
   "language": "python",
   "name": "python3"
  },
  "language_info": {
   "codemirror_mode": {
    "name": "ipython",
    "version": 3
   },
   "file_extension": ".py",
   "mimetype": "text/x-python",
   "name": "python",
   "nbconvert_exporter": "python",
   "pygments_lexer": "ipython3",
   "version": "3.9.7"
  }
 },
 "nbformat": 4,
 "nbformat_minor": 5
}
