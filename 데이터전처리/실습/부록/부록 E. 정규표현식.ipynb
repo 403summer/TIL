{
 "cells": [
  {
   "cell_type": "markdown",
   "id": "303bcd43",
   "metadata": {},
   "source": [
    "# E.1 파이썬의 re 모듈 소개"
   ]
  },
  {
   "cell_type": "code",
   "execution_count": 1,
   "id": "3be709e4",
   "metadata": {},
   "outputs": [],
   "source": [
    "import re\n",
    "import pandas as pd"
   ]
  },
  {
   "cell_type": "code",
   "execution_count": 3,
   "id": "0a31a9c8",
   "metadata": {},
   "outputs": [
    {
     "data": {
      "text/plain": [
       "<re.Match object; span=(9, 15), match='flower'>"
      ]
     },
     "execution_count": 3,
     "metadata": {},
     "output_type": "execute_result"
    }
   ],
   "source": [
    "re.search('flower', 'field of flowers')"
   ]
  },
  {
   "cell_type": "code",
   "execution_count": 4,
   "id": "cba87b7c",
   "metadata": {},
   "outputs": [
    {
     "name": "stdout",
     "output_type": "stream",
     "text": [
      "None\n"
     ]
    }
   ],
   "source": [
    "print(re.search('flower', 'Barney the Dinosaur'))"
   ]
  },
  {
   "cell_type": "code",
   "execution_count": 5,
   "id": "fc64379a",
   "metadata": {},
   "outputs": [
    {
     "data": {
      "text/plain": [
       "['flower', 'flower']"
      ]
     },
     "execution_count": 5,
     "metadata": {},
     "output_type": "execute_result"
    }
   ],
   "source": [
    "re.findall('flower', 'Picking flower in the flower field')"
   ]
  },
  {
   "cell_type": "markdown",
   "id": "283da00e",
   "metadata": {},
   "source": [
    "# E.2 메타문자"
   ]
  },
  {
   "cell_type": "code",
   "execution_count": 21,
   "id": "3989202f",
   "metadata": {},
   "outputs": [
    {
     "data": {
      "text/plain": [
       "'I went to the store and bought 5 apples, 4 oranges, and 15 plumns.'"
      ]
     },
     "execution_count": 21,
     "metadata": {},
     "output_type": "execute_result"
    }
   ],
   "source": [
    "sentence = 'I went to the store and bought' \\\n",
    "            ' 5 apples, 4 oranges, and 15 plumns.'\n",
    "sentence"
   ]
  },
  {
   "cell_type": "code",
   "execution_count": 22,
   "id": "5f536205",
   "metadata": {},
   "outputs": [
    {
     "data": {
      "text/plain": [
       "['5', '4', '1', '5']"
      ]
     },
     "execution_count": 22,
     "metadata": {},
     "output_type": "execute_result"
    }
   ],
   "source": [
    "re.findall('\\d', sentence)"
   ]
  },
  {
   "cell_type": "code",
   "execution_count": 23,
   "id": "8b8aa50c",
   "metadata": {},
   "outputs": [
    {
     "name": "stdout",
     "output_type": "stream",
     "text": [
      "['5', '4', '1', '5']\n"
     ]
    }
   ],
   "source": [
    "print(re.findall(r'\\d', sentence))"
   ]
  },
  {
   "cell_type": "code",
   "execution_count": 24,
   "id": "82eb9f84",
   "metadata": {},
   "outputs": [
    {
     "name": "stdout",
     "output_type": "stream",
     "text": [
      "['I', ' ', 'w', 'e', 'n', 't', ' ', 't', 'o', ' ', 't', 'h', 'e', ' ', 's', 't', 'o', 'r', 'e', ' ', 'a', 'n', 'd', ' ', 'b', 'o', 'u', 'g', 'h', 't', ' ', ' ', 'a', 'p', 'p', 'l', 'e', 's', ',', ' ', ' ', 'o', 'r', 'a', 'n', 'g', 'e', 's', ',', ' ', 'a', 'n', 'd', ' ', ' ', 'p', 'l', 'u', 'm', 'n', 's', '.']\n"
     ]
    }
   ],
   "source": [
    "print(re.findall(r'\\D', sentence))"
   ]
  },
  {
   "cell_type": "code",
   "execution_count": 25,
   "id": "2081c361",
   "metadata": {},
   "outputs": [
    {
     "name": "stdout",
     "output_type": "stream",
     "text": [
      "['I', 'w', 'e', 'n', 't', 't', 'o', 't', 'h', 'e', 's', 't', 'o', 'r', 'e', 'a', 'n', 'd', 'b', 'o', 'u', 'g', 'h', 't', '5', 'a', 'p', 'p', 'l', 'e', 's', '4', 'o', 'r', 'a', 'n', 'g', 'e', 's', 'a', 'n', 'd', '1', '5', 'p', 'l', 'u', 'm', 'n', 's']\n"
     ]
    }
   ],
   "source": [
    "print(re.findall(r'\\w', sentence))"
   ]
  },
  {
   "cell_type": "code",
   "execution_count": 26,
   "id": "24326713",
   "metadata": {},
   "outputs": [
    {
     "name": "stdout",
     "output_type": "stream",
     "text": [
      "[' ', ' ', ' ', ' ', ' ', ' ', ' ', ' ', ',', ' ', ' ', ',', ' ', ' ', ' ', '.']\n"
     ]
    }
   ],
   "source": [
    "print(re.findall(r'\\W', sentence))"
   ]
  },
  {
   "cell_type": "code",
   "execution_count": 27,
   "id": "bbed39eb",
   "metadata": {},
   "outputs": [
    {
     "name": "stdout",
     "output_type": "stream",
     "text": [
      "[' ', ' ', ' ', ' ', ' ', ' ', ' ', ' ', ' ', ' ', ' ', ' ', ' ']\n"
     ]
    }
   ],
   "source": [
    "print(re.findall(r'\\s', sentence))"
   ]
  },
  {
   "cell_type": "code",
   "execution_count": 28,
   "id": "d7cbc147",
   "metadata": {},
   "outputs": [
    {
     "name": "stdout",
     "output_type": "stream",
     "text": [
      "['I', 'w', 'e', 'n', 't', 't', 'o', 't', 'h', 'e', 's', 't', 'o', 'r', 'e', 'a', 'n', 'd', 'b', 'o', 'u', 'g', 'h', 't', '5', 'a', 'p', 'p', 'l', 'e', 's', ',', '4', 'o', 'r', 'a', 'n', 'g', 'e', 's', ',', 'a', 'n', 'd', '1', '5', 'p', 'l', 'u', 'm', 'n', 's', '.']\n"
     ]
    }
   ],
   "source": [
    "print(re.findall(r'\\S', sentence))"
   ]
  },
  {
   "cell_type": "code",
   "execution_count": 29,
   "id": "76ecc69f",
   "metadata": {},
   "outputs": [
    {
     "name": "stdout",
     "output_type": "stream",
     "text": [
      "['t', 't', 't', 't', 't']\n"
     ]
    }
   ],
   "source": [
    "print(re.findall(r't', sentence))"
   ]
  },
  {
   "cell_type": "code",
   "execution_count": 30,
   "id": "eb2503e3",
   "metadata": {},
   "outputs": [
    {
     "name": "stdout",
     "output_type": "stream",
     "text": [
      "['to', 'to']\n"
     ]
    }
   ],
   "source": [
    "print(re.findall(r'to', sentence))"
   ]
  },
  {
   "cell_type": "code",
   "execution_count": 31,
   "id": "3b1439ba",
   "metadata": {},
   "outputs": [
    {
     "name": "stdout",
     "output_type": "stream",
     "text": [
      "['t', 't']\n"
     ]
    }
   ],
   "source": [
    "print(re.findall(r'\\bt', sentence))"
   ]
  },
  {
   "cell_type": "code",
   "execution_count": 32,
   "id": "1945340b",
   "metadata": {},
   "outputs": [
    {
     "name": "stdout",
     "output_type": "stream",
     "text": [
      "['t', 't']\n"
     ]
    }
   ],
   "source": [
    "print(re.findall(r't\\b', sentence))"
   ]
  },
  {
   "cell_type": "code",
   "execution_count": 33,
   "id": "ac4c3fcb",
   "metadata": {},
   "outputs": [
    {
     "name": "stdout",
     "output_type": "stream",
     "text": [
      "['t', 't', 't']\n"
     ]
    }
   ],
   "source": [
    "print(re.findall(r'\\Bt', sentence))"
   ]
  },
  {
   "cell_type": "markdown",
   "id": "5d40c9a2",
   "metadata": {},
   "source": [
    "# E.3 고급 검색 패턴"
   ]
  },
  {
   "cell_type": "code",
   "execution_count": 34,
   "id": "86278d5a",
   "metadata": {},
   "outputs": [
    {
     "data": {
      "text/plain": [
       "'coca cola.'"
      ]
     },
     "execution_count": 34,
     "metadata": {},
     "output_type": "execute_result"
    }
   ],
   "source": [
    "soda = 'coca cola.'\n",
    "soda"
   ]
  },
  {
   "cell_type": "code",
   "execution_count": 35,
   "id": "b8a7cb0e",
   "metadata": {},
   "outputs": [
    {
     "name": "stdout",
     "output_type": "stream",
     "text": [
      "['c', 'o', 'c', 'a', ' ', 'c', 'o', 'l', 'a', '.']\n"
     ]
    }
   ],
   "source": [
    "print(re.findall(r'.', soda))"
   ]
  },
  {
   "cell_type": "code",
   "execution_count": 36,
   "id": "643e2978",
   "metadata": {},
   "outputs": [
    {
     "name": "stdout",
     "output_type": "stream",
     "text": [
      "['co', 'ca', 'co']\n"
     ]
    }
   ],
   "source": [
    "print(re.findall(r'c.', soda))"
   ]
  },
  {
   "cell_type": "code",
   "execution_count": 37,
   "id": "6eba177d",
   "metadata": {},
   "outputs": [
    {
     "name": "stdout",
     "output_type": "stream",
     "text": [
      "['.']\n"
     ]
    }
   ],
   "source": [
    "print(re.findall(r'\\.', soda))"
   ]
  },
  {
   "cell_type": "code",
   "execution_count": 38,
   "id": "cf041272",
   "metadata": {},
   "outputs": [
    {
     "name": "stdout",
     "output_type": "stream",
     "text": [
      "['co', 'co']\n"
     ]
    }
   ],
   "source": [
    "print(re.findall(r'co', soda))"
   ]
  },
  {
   "cell_type": "code",
   "execution_count": 39,
   "id": "b8f30775",
   "metadata": {},
   "outputs": [
    {
     "name": "stdout",
     "output_type": "stream",
     "text": [
      "['c', 'o', 'c', 'c', 'o']\n"
     ]
    }
   ],
   "source": [
    "print(re.findall(r'[co]', soda))"
   ]
  },
  {
   "cell_type": "code",
   "execution_count": 40,
   "id": "f6221a44",
   "metadata": {},
   "outputs": [
    {
     "name": "stdout",
     "output_type": "stream",
     "text": [
      "['c', 'o', 'c', 'c', 'o']\n"
     ]
    }
   ],
   "source": [
    "print(re.findall(r'[oc]', soda))"
   ]
  },
  {
   "cell_type": "code",
   "execution_count": 41,
   "id": "5e6946c9",
   "metadata": {},
   "outputs": [
    {
     "name": "stdout",
     "output_type": "stream",
     "text": [
      "['c', 'c', 'c', 'l']\n"
     ]
    }
   ],
   "source": [
    "print(re.findall(r'[cedfghijkl]', soda))"
   ]
  },
  {
   "cell_type": "code",
   "execution_count": 42,
   "id": "157b39ff",
   "metadata": {},
   "outputs": [
    {
     "name": "stdout",
     "output_type": "stream",
     "text": [
      "['c', 'c', 'c', 'l']\n"
     ]
    }
   ],
   "source": [
    "print(re.findall(r'[c-l]', soda))"
   ]
  },
  {
   "cell_type": "code",
   "execution_count": 43,
   "id": "8e5673d8",
   "metadata": {},
   "outputs": [
    {
     "data": {
      "text/plain": [
       "'bookkeeper'"
      ]
     },
     "execution_count": 43,
     "metadata": {},
     "output_type": "execute_result"
    }
   ],
   "source": [
    "word = 'bookkeeper'\n",
    "word"
   ]
  },
  {
   "cell_type": "code",
   "execution_count": 44,
   "id": "8c7a600d",
   "metadata": {},
   "outputs": [
    {
     "name": "stdout",
     "output_type": "stream",
     "text": [
      "['ee']\n"
     ]
    }
   ],
   "source": [
    "print(re.findall(r'ee', word))"
   ]
  },
  {
   "cell_type": "code",
   "execution_count": 45,
   "id": "844698d7",
   "metadata": {},
   "outputs": [
    {
     "name": "stdout",
     "output_type": "stream",
     "text": [
      "['ee']\n"
     ]
    }
   ],
   "source": [
    "print(re.findall(r'e{2}', word))"
   ]
  },
  {
   "cell_type": "code",
   "execution_count": 46,
   "id": "6fb6ca32",
   "metadata": {},
   "outputs": [
    {
     "name": "stdout",
     "output_type": "stream",
     "text": [
      "[]\n"
     ]
    }
   ],
   "source": [
    "print(re.findall(r'e{3}', word))"
   ]
  },
  {
   "cell_type": "code",
   "execution_count": 49,
   "id": "b43a98de",
   "metadata": {},
   "outputs": [
    {
     "name": "stdout",
     "output_type": "stream",
     "text": [
      "['ee', 'e']\n"
     ]
    }
   ],
   "source": [
    "print(re.findall(r'e{1,3}', word))"
   ]
  },
  {
   "cell_type": "code",
   "execution_count": 50,
   "id": "2802edd4",
   "metadata": {},
   "outputs": [
    {
     "data": {
      "text/plain": [
       "'I can be reached at 555-123-4567. Look forward to talking to you soon.'"
      ]
     },
     "execution_count": 50,
     "metadata": {},
     "output_type": "execute_result"
    }
   ],
   "source": [
    "transcription = 'I can be reached at 555-123-4567. '\\\n",
    "                'Look forward to talking to you soon.'\n",
    "transcription"
   ]
  },
  {
   "cell_type": "code",
   "execution_count": 51,
   "id": "9ad88bc6",
   "metadata": {},
   "outputs": [
    {
     "name": "stdout",
     "output_type": "stream",
     "text": [
      "['555-123-4567']\n"
     ]
    }
   ],
   "source": [
    "print(re.findall(r'\\d{3}-\\d{3}-\\d{4}', transcription))"
   ]
  },
  {
   "cell_type": "code",
   "execution_count": 52,
   "id": "4ab871dd",
   "metadata": {},
   "outputs": [
    {
     "name": "stdout",
     "output_type": "stream",
     "text": [
      "['555-123-4567']\n"
     ]
    }
   ],
   "source": [
    "print(re.findall(r'\\d+-\\d+-\\d+', transcription))"
   ]
  },
  {
   "cell_type": "markdown",
   "id": "1b910716",
   "metadata": {},
   "source": [
    "# E.4 정규 표현식과 판다스"
   ]
  },
  {
   "cell_type": "code",
   "execution_count": 53,
   "id": "7def34e2",
   "metadata": {},
   "outputs": [
    {
     "data": {
      "text/html": [
       "<div>\n",
       "<style scoped>\n",
       "    .dataframe tbody tr th:only-of-type {\n",
       "        vertical-align: middle;\n",
       "    }\n",
       "\n",
       "    .dataframe tbody tr th {\n",
       "        vertical-align: top;\n",
       "    }\n",
       "\n",
       "    .dataframe thead th {\n",
       "        text-align: right;\n",
       "    }\n",
       "</style>\n",
       "<table border=\"1\" class=\"dataframe\">\n",
       "  <thead>\n",
       "    <tr style=\"text-align: right;\">\n",
       "      <th></th>\n",
       "      <th>Brand</th>\n",
       "      <th>Flavor</th>\n",
       "      <th>Description</th>\n",
       "    </tr>\n",
       "  </thead>\n",
       "  <tbody>\n",
       "    <tr>\n",
       "      <th>0</th>\n",
       "      <td>Ben and Jerry's</td>\n",
       "      <td>Salted Caramel Core</td>\n",
       "      <td>Sweet Cream Ice Cream with Blonde Brownies &amp; a...</td>\n",
       "    </tr>\n",
       "    <tr>\n",
       "      <th>1</th>\n",
       "      <td>Ben and Jerry's</td>\n",
       "      <td>Netflix &amp; Chilll'd™</td>\n",
       "      <td>Peanut Butter Ice Cream with Sweet &amp; Salty Pre...</td>\n",
       "    </tr>\n",
       "    <tr>\n",
       "      <th>2</th>\n",
       "      <td>Ben and Jerry's</td>\n",
       "      <td>Chip Happens</td>\n",
       "      <td>A Cold Mess of Chocolate Ice Cream with Fudge ...</td>\n",
       "    </tr>\n",
       "    <tr>\n",
       "      <th>3</th>\n",
       "      <td>Ben and Jerry's</td>\n",
       "      <td>Cannoli</td>\n",
       "      <td>Mascarpone Ice Cream with Fudge-Covered Pastry...</td>\n",
       "    </tr>\n",
       "    <tr>\n",
       "      <th>4</th>\n",
       "      <td>Ben and Jerry's</td>\n",
       "      <td>Gimme S’more!™</td>\n",
       "      <td>Toasted Marshmallow Ice Cream with Chocolate C...</td>\n",
       "    </tr>\n",
       "  </tbody>\n",
       "</table>\n",
       "</div>"
      ],
      "text/plain": [
       "             Brand               Flavor  \\\n",
       "0  Ben and Jerry's  Salted Caramel Core   \n",
       "1  Ben and Jerry's  Netflix & Chilll'd™   \n",
       "2  Ben and Jerry's         Chip Happens   \n",
       "3  Ben and Jerry's              Cannoli   \n",
       "4  Ben and Jerry's       Gimme S’more!™   \n",
       "\n",
       "                                         Description  \n",
       "0  Sweet Cream Ice Cream with Blonde Brownies & a...  \n",
       "1  Peanut Butter Ice Cream with Sweet & Salty Pre...  \n",
       "2  A Cold Mess of Chocolate Ice Cream with Fudge ...  \n",
       "3  Mascarpone Ice Cream with Fudge-Covered Pastry...  \n",
       "4  Toasted Marshmallow Ice Cream with Chocolate C...  "
      ]
     },
     "execution_count": 53,
     "metadata": {},
     "output_type": "execute_result"
    }
   ],
   "source": [
    "ice_cream = pd.read_csv('ice_cream.csv')\n",
    "ice_cream.head()"
   ]
  },
  {
   "cell_type": "code",
   "execution_count": 54,
   "id": "6e0353b6",
   "metadata": {
    "scrolled": true
   },
   "outputs": [
    {
     "data": {
      "text/html": [
       "<div>\n",
       "<style scoped>\n",
       "    .dataframe tbody tr th:only-of-type {\n",
       "        vertical-align: middle;\n",
       "    }\n",
       "\n",
       "    .dataframe tbody tr th {\n",
       "        vertical-align: top;\n",
       "    }\n",
       "\n",
       "    .dataframe thead th {\n",
       "        text-align: right;\n",
       "    }\n",
       "</style>\n",
       "<table border=\"1\" class=\"dataframe\">\n",
       "  <thead>\n",
       "    <tr style=\"text-align: right;\">\n",
       "      <th></th>\n",
       "      <th>0</th>\n",
       "    </tr>\n",
       "  </thead>\n",
       "  <tbody>\n",
       "    <tr>\n",
       "      <th>0</th>\n",
       "      <td>NaN</td>\n",
       "    </tr>\n",
       "    <tr>\n",
       "      <th>1</th>\n",
       "      <td>NaN</td>\n",
       "    </tr>\n",
       "    <tr>\n",
       "      <th>2</th>\n",
       "      <td>Chocolate Ice</td>\n",
       "    </tr>\n",
       "    <tr>\n",
       "      <th>3</th>\n",
       "      <td>NaN</td>\n",
       "    </tr>\n",
       "    <tr>\n",
       "      <th>4</th>\n",
       "      <td>Chocolate Cookie</td>\n",
       "    </tr>\n",
       "  </tbody>\n",
       "</table>\n",
       "</div>"
      ],
      "text/plain": [
       "                  0\n",
       "0               NaN\n",
       "1               NaN\n",
       "2     Chocolate Ice\n",
       "3               NaN\n",
       "4  Chocolate Cookie"
      ]
     },
     "execution_count": 54,
     "metadata": {},
     "output_type": "execute_result"
    }
   ],
   "source": [
    "ice_cream['Description'].str.extract(r'(\\bChocolate\\s\\w+)').head()"
   ]
  },
  {
   "cell_type": "code",
   "execution_count": 56,
   "id": "e9f42e5f",
   "metadata": {},
   "outputs": [
    {
     "data": {
      "text/html": [
       "<div>\n",
       "<style scoped>\n",
       "    .dataframe tbody tr th:only-of-type {\n",
       "        vertical-align: middle;\n",
       "    }\n",
       "\n",
       "    .dataframe tbody tr th {\n",
       "        vertical-align: top;\n",
       "    }\n",
       "\n",
       "    .dataframe thead th {\n",
       "        text-align: right;\n",
       "    }\n",
       "</style>\n",
       "<table border=\"1\" class=\"dataframe\">\n",
       "  <thead>\n",
       "    <tr style=\"text-align: right;\">\n",
       "      <th></th>\n",
       "      <th>0</th>\n",
       "    </tr>\n",
       "  </thead>\n",
       "  <tbody>\n",
       "    <tr>\n",
       "      <th>2</th>\n",
       "      <td>Chocolate Ice</td>\n",
       "    </tr>\n",
       "    <tr>\n",
       "      <th>4</th>\n",
       "      <td>Chocolate Cookie</td>\n",
       "    </tr>\n",
       "    <tr>\n",
       "      <th>8</th>\n",
       "      <td>Chocolate Ice</td>\n",
       "    </tr>\n",
       "    <tr>\n",
       "      <th>9</th>\n",
       "      <td>Chocolate Ice</td>\n",
       "    </tr>\n",
       "    <tr>\n",
       "      <th>13</th>\n",
       "      <td>Chocolate Cookie</td>\n",
       "    </tr>\n",
       "  </tbody>\n",
       "</table>\n",
       "</div>"
      ],
      "text/plain": [
       "                   0\n",
       "2      Chocolate Ice\n",
       "4   Chocolate Cookie\n",
       "8      Chocolate Ice\n",
       "9      Chocolate Ice\n",
       "13  Chocolate Cookie"
      ]
     },
     "execution_count": 56,
     "metadata": {},
     "output_type": "execute_result"
    }
   ],
   "source": [
    "(\n",
    "    ice_cream['Description']\n",
    "    .str.extract(r'(\\bChocolate\\s\\w+)')\n",
    "    .dropna()\n",
    "    .head()\n",
    "                 \n",
    ")"
   ]
  },
  {
   "cell_type": "code",
   "execution_count": 57,
   "id": "4c57ffef",
   "metadata": {},
   "outputs": [
    {
     "data": {
      "text/plain": [
       "2        Chocolate Ice\n",
       "4     Chocolate Cookie\n",
       "8        Chocolate Ice\n",
       "9        Chocolate Ice\n",
       "13    Chocolate Cookie\n",
       "Name: 0, dtype: object"
      ]
     },
     "execution_count": 57,
     "metadata": {},
     "output_type": "execute_result"
    }
   ],
   "source": [
    "(\n",
    "    ice_cream['Description']\n",
    "    .str.extract(r'(\\bChocolate\\s\\w+)')\n",
    "    .dropna()\n",
    "    .squeeze()\n",
    "    .head()\n",
    ")"
   ]
  },
  {
   "cell_type": "code",
   "execution_count": 58,
   "id": "59c9d3da",
   "metadata": {},
   "outputs": [],
   "source": [
    "chocolate_flavors = (\n",
    "    ice_cream['Description']\n",
    "    .str.extract(r'(\\bChocolate\\s\\w+)')\n",
    "    .dropna()\n",
    "    .squeeze()\n",
    ")"
   ]
  },
  {
   "cell_type": "code",
   "execution_count": 59,
   "id": "2dea0121",
   "metadata": {},
   "outputs": [
    {
     "data": {
      "text/plain": [
       "2        [Chocolate, Ice]\n",
       "4     [Chocolate, Cookie]\n",
       "8        [Chocolate, Ice]\n",
       "9        [Chocolate, Ice]\n",
       "13    [Chocolate, Cookie]\n",
       "Name: 0, dtype: object"
      ]
     },
     "execution_count": 59,
     "metadata": {},
     "output_type": "execute_result"
    }
   ],
   "source": [
    "chocolate_flavors.str.split(r'\\s').head()"
   ]
  },
  {
   "cell_type": "code",
   "execution_count": 60,
   "id": "3acdacb4",
   "metadata": {},
   "outputs": [
    {
     "data": {
      "text/plain": [
       "2        Ice\n",
       "4     Cookie\n",
       "8        Ice\n",
       "9        Ice\n",
       "13    Cookie\n",
       "Name: 0, dtype: object"
      ]
     },
     "execution_count": 60,
     "metadata": {},
     "output_type": "execute_result"
    }
   ],
   "source": [
    "chocolate_flavors.str.split(r'\\s').str.get(1).head()"
   ]
  },
  {
   "cell_type": "code",
   "execution_count": 61,
   "id": "06ab6f36",
   "metadata": {},
   "outputs": [
    {
     "data": {
      "text/plain": [
       "Ice         11\n",
       "Cookie       4\n",
       "Chip         3\n",
       "Sandwich     2\n",
       "Cookies      2\n",
       "Malt         1\n",
       "Mint         1\n",
       "Name: 0, dtype: int64"
      ]
     },
     "execution_count": 61,
     "metadata": {},
     "output_type": "execute_result"
    }
   ],
   "source": [
    "chocolate_flavors.str.split(r'\\s').str.get(1).value_counts()"
   ]
  },
  {
   "cell_type": "code",
   "execution_count": null,
   "id": "98eab780",
   "metadata": {},
   "outputs": [],
   "source": []
  }
 ],
 "metadata": {
  "kernelspec": {
   "display_name": "Python 3 (ipykernel)",
   "language": "python",
   "name": "python3"
  },
  "language_info": {
   "codemirror_mode": {
    "name": "ipython",
    "version": 3
   },
   "file_extension": ".py",
   "mimetype": "text/x-python",
   "name": "python",
   "nbconvert_exporter": "python",
   "pygments_lexer": "ipython3",
   "version": "3.9.7"
  }
 },
 "nbformat": 4,
 "nbformat_minor": 5
}
